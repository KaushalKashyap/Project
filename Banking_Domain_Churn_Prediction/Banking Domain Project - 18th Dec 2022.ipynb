{
 "cells": [
  {
   "cell_type": "code",
   "execution_count": 1,
   "id": "32af842e",
   "metadata": {},
   "outputs": [],
   "source": [
    "# Basic libraries\n",
    "import os, sys\n",
    "import numpy as np\n",
    "import pandas as pd\n",
    "import matplotlib.pyplot as plt\n",
    "%matplotlib inline\n",
    "import seaborn as sns\n",
    "sns.set()\n",
    "import warnings\n",
    "warnings.filterwarnings('ignore')\n",
    "from datetime import datetime\n",
    "\n",
    "from sklearn.model_selection import train_test_split\n",
    "import sklearn\n",
    "import scipy\n",
    "\n",
    "from pylab import rcParams\n",
    "rcParams['figure.figsize'] = 15,12\n",
    "LABELS = ['Normal', 'Fraud']"
   ]
  },
  {
   "cell_type": "code",
   "execution_count": 2,
   "id": "31175941",
   "metadata": {},
   "outputs": [
    {
     "data": {
      "text/html": [
       "<div>\n",
       "<style scoped>\n",
       "    .dataframe tbody tr th:only-of-type {\n",
       "        vertical-align: middle;\n",
       "    }\n",
       "\n",
       "    .dataframe tbody tr th {\n",
       "        vertical-align: top;\n",
       "    }\n",
       "\n",
       "    .dataframe thead th {\n",
       "        text-align: right;\n",
       "    }\n",
       "</style>\n",
       "<table border=\"1\" class=\"dataframe\">\n",
       "  <thead>\n",
       "    <tr style=\"text-align: right;\">\n",
       "      <th></th>\n",
       "      <th>Time</th>\n",
       "      <th>V1</th>\n",
       "      <th>V2</th>\n",
       "      <th>V3</th>\n",
       "      <th>V4</th>\n",
       "      <th>V5</th>\n",
       "      <th>V6</th>\n",
       "      <th>V7</th>\n",
       "      <th>V8</th>\n",
       "      <th>V9</th>\n",
       "      <th>...</th>\n",
       "      <th>V21</th>\n",
       "      <th>V22</th>\n",
       "      <th>V23</th>\n",
       "      <th>V24</th>\n",
       "      <th>V25</th>\n",
       "      <th>V26</th>\n",
       "      <th>V27</th>\n",
       "      <th>V28</th>\n",
       "      <th>Amount</th>\n",
       "      <th>Class</th>\n",
       "    </tr>\n",
       "  </thead>\n",
       "  <tbody>\n",
       "    <tr>\n",
       "      <th>0</th>\n",
       "      <td>0.0</td>\n",
       "      <td>-1.359807</td>\n",
       "      <td>-0.072781</td>\n",
       "      <td>2.536347</td>\n",
       "      <td>1.378155</td>\n",
       "      <td>-0.338321</td>\n",
       "      <td>0.462388</td>\n",
       "      <td>0.239599</td>\n",
       "      <td>0.098698</td>\n",
       "      <td>0.363787</td>\n",
       "      <td>...</td>\n",
       "      <td>-0.018307</td>\n",
       "      <td>0.277838</td>\n",
       "      <td>-0.110474</td>\n",
       "      <td>0.066928</td>\n",
       "      <td>0.128539</td>\n",
       "      <td>-0.189115</td>\n",
       "      <td>0.133558</td>\n",
       "      <td>-0.021053</td>\n",
       "      <td>149.62</td>\n",
       "      <td>0</td>\n",
       "    </tr>\n",
       "    <tr>\n",
       "      <th>1</th>\n",
       "      <td>0.0</td>\n",
       "      <td>1.191857</td>\n",
       "      <td>0.266151</td>\n",
       "      <td>0.166480</td>\n",
       "      <td>0.448154</td>\n",
       "      <td>0.060018</td>\n",
       "      <td>-0.082361</td>\n",
       "      <td>-0.078803</td>\n",
       "      <td>0.085102</td>\n",
       "      <td>-0.255425</td>\n",
       "      <td>...</td>\n",
       "      <td>-0.225775</td>\n",
       "      <td>-0.638672</td>\n",
       "      <td>0.101288</td>\n",
       "      <td>-0.339846</td>\n",
       "      <td>0.167170</td>\n",
       "      <td>0.125895</td>\n",
       "      <td>-0.008983</td>\n",
       "      <td>0.014724</td>\n",
       "      <td>2.69</td>\n",
       "      <td>0</td>\n",
       "    </tr>\n",
       "    <tr>\n",
       "      <th>2</th>\n",
       "      <td>1.0</td>\n",
       "      <td>-1.358354</td>\n",
       "      <td>-1.340163</td>\n",
       "      <td>1.773209</td>\n",
       "      <td>0.379780</td>\n",
       "      <td>-0.503198</td>\n",
       "      <td>1.800499</td>\n",
       "      <td>0.791461</td>\n",
       "      <td>0.247676</td>\n",
       "      <td>-1.514654</td>\n",
       "      <td>...</td>\n",
       "      <td>0.247998</td>\n",
       "      <td>0.771679</td>\n",
       "      <td>0.909412</td>\n",
       "      <td>-0.689281</td>\n",
       "      <td>-0.327642</td>\n",
       "      <td>-0.139097</td>\n",
       "      <td>-0.055353</td>\n",
       "      <td>-0.059752</td>\n",
       "      <td>378.66</td>\n",
       "      <td>0</td>\n",
       "    </tr>\n",
       "    <tr>\n",
       "      <th>3</th>\n",
       "      <td>1.0</td>\n",
       "      <td>-0.966272</td>\n",
       "      <td>-0.185226</td>\n",
       "      <td>1.792993</td>\n",
       "      <td>-0.863291</td>\n",
       "      <td>-0.010309</td>\n",
       "      <td>1.247203</td>\n",
       "      <td>0.237609</td>\n",
       "      <td>0.377436</td>\n",
       "      <td>-1.387024</td>\n",
       "      <td>...</td>\n",
       "      <td>-0.108300</td>\n",
       "      <td>0.005274</td>\n",
       "      <td>-0.190321</td>\n",
       "      <td>-1.175575</td>\n",
       "      <td>0.647376</td>\n",
       "      <td>-0.221929</td>\n",
       "      <td>0.062723</td>\n",
       "      <td>0.061458</td>\n",
       "      <td>123.50</td>\n",
       "      <td>0</td>\n",
       "    </tr>\n",
       "    <tr>\n",
       "      <th>4</th>\n",
       "      <td>2.0</td>\n",
       "      <td>-1.158233</td>\n",
       "      <td>0.877737</td>\n",
       "      <td>1.548718</td>\n",
       "      <td>0.403034</td>\n",
       "      <td>-0.407193</td>\n",
       "      <td>0.095921</td>\n",
       "      <td>0.592941</td>\n",
       "      <td>-0.270533</td>\n",
       "      <td>0.817739</td>\n",
       "      <td>...</td>\n",
       "      <td>-0.009431</td>\n",
       "      <td>0.798278</td>\n",
       "      <td>-0.137458</td>\n",
       "      <td>0.141267</td>\n",
       "      <td>-0.206010</td>\n",
       "      <td>0.502292</td>\n",
       "      <td>0.219422</td>\n",
       "      <td>0.215153</td>\n",
       "      <td>69.99</td>\n",
       "      <td>0</td>\n",
       "    </tr>\n",
       "  </tbody>\n",
       "</table>\n",
       "<p>5 rows × 31 columns</p>\n",
       "</div>"
      ],
      "text/plain": [
       "   Time        V1        V2        V3        V4        V5        V6        V7  \\\n",
       "0   0.0 -1.359807 -0.072781  2.536347  1.378155 -0.338321  0.462388  0.239599   \n",
       "1   0.0  1.191857  0.266151  0.166480  0.448154  0.060018 -0.082361 -0.078803   \n",
       "2   1.0 -1.358354 -1.340163  1.773209  0.379780 -0.503198  1.800499  0.791461   \n",
       "3   1.0 -0.966272 -0.185226  1.792993 -0.863291 -0.010309  1.247203  0.237609   \n",
       "4   2.0 -1.158233  0.877737  1.548718  0.403034 -0.407193  0.095921  0.592941   \n",
       "\n",
       "         V8        V9  ...       V21       V22       V23       V24       V25  \\\n",
       "0  0.098698  0.363787  ... -0.018307  0.277838 -0.110474  0.066928  0.128539   \n",
       "1  0.085102 -0.255425  ... -0.225775 -0.638672  0.101288 -0.339846  0.167170   \n",
       "2  0.247676 -1.514654  ...  0.247998  0.771679  0.909412 -0.689281 -0.327642   \n",
       "3  0.377436 -1.387024  ... -0.108300  0.005274 -0.190321 -1.175575  0.647376   \n",
       "4 -0.270533  0.817739  ... -0.009431  0.798278 -0.137458  0.141267 -0.206010   \n",
       "\n",
       "        V26       V27       V28  Amount  Class  \n",
       "0 -0.189115  0.133558 -0.021053  149.62      0  \n",
       "1  0.125895 -0.008983  0.014724    2.69      0  \n",
       "2 -0.139097 -0.055353 -0.059752  378.66      0  \n",
       "3 -0.221929  0.062723  0.061458  123.50      0  \n",
       "4  0.502292  0.219422  0.215153   69.99      0  \n",
       "\n",
       "[5 rows x 31 columns]"
      ]
     },
     "execution_count": 2,
     "metadata": {},
     "output_type": "execute_result"
    }
   ],
   "source": [
    "# import the dataset\n",
    "data = pd.read_csv('CreditCard.csv', sep=',')\n",
    "data.head()"
   ]
  },
  {
   "cell_type": "code",
   "execution_count": 3,
   "id": "4f543bc0",
   "metadata": {},
   "outputs": [],
   "source": [
    "# as you can see that the features name is not given clearly, which means the dataset contains confidential information .. \n",
    "# it means working, removing, and new creation of features is little risky here.."
   ]
  },
  {
   "cell_type": "code",
   "execution_count": 4,
   "id": "5b5036ab",
   "metadata": {},
   "outputs": [
    {
     "data": {
      "text/plain": [
       "Time      0\n",
       "V1        0\n",
       "V2        0\n",
       "V3        0\n",
       "V4        0\n",
       "V5        0\n",
       "V6        0\n",
       "V7        0\n",
       "V8        0\n",
       "V9        0\n",
       "V10       0\n",
       "V11       0\n",
       "V12       0\n",
       "V13       0\n",
       "V14       0\n",
       "V15       0\n",
       "V16       0\n",
       "V17       0\n",
       "V18       0\n",
       "V19       0\n",
       "V20       0\n",
       "V21       0\n",
       "V22       0\n",
       "V23       0\n",
       "V24       0\n",
       "V25       0\n",
       "V26       0\n",
       "V27       0\n",
       "V28       0\n",
       "Amount    0\n",
       "Class     0\n",
       "dtype: int64"
      ]
     },
     "execution_count": 4,
     "metadata": {},
     "output_type": "execute_result"
    }
   ],
   "source": [
    "data.isnull().sum()"
   ]
  },
  {
   "cell_type": "code",
   "execution_count": 5,
   "id": "4a6fee16",
   "metadata": {},
   "outputs": [
    {
     "data": {
      "text/plain": [
       "0    284315\n",
       "1       492\n",
       "Name: Class, dtype: int64"
      ]
     },
     "execution_count": 5,
     "metadata": {},
     "output_type": "execute_result"
    }
   ],
   "source": [
    "data['Class'].value_counts()"
   ]
  },
  {
   "cell_type": "code",
   "execution_count": 6,
   "id": "30e2e0d3",
   "metadata": {},
   "outputs": [
    {
     "data": {
      "text/plain": [
       "284807"
      ]
     },
     "execution_count": 6,
     "metadata": {},
     "output_type": "execute_result"
    }
   ],
   "source": [
    "# As you can see above there are imbalance data distribution in case of dependable features..\n",
    "284315+492"
   ]
  },
  {
   "cell_type": "code",
   "execution_count": 7,
   "id": "f8032cc6",
   "metadata": {},
   "outputs": [
    {
     "data": {
      "text/plain": [
       "0.001727485630620034"
      ]
     },
     "execution_count": 7,
     "metadata": {},
     "output_type": "execute_result"
    }
   ],
   "source": [
    "492/284807"
   ]
  },
  {
   "cell_type": "raw",
   "id": "b6d2a44b",
   "metadata": {},
   "source": [
    "# EDA\n",
    "-- dtale \n",
    "-- dataprep\n",
    "-- lux\n",
    "-- pandas profiling"
   ]
  },
  {
   "cell_type": "code",
   "execution_count": 8,
   "id": "c15bfc53",
   "metadata": {},
   "outputs": [],
   "source": [
    "# !pip install pandas-profiling"
   ]
  },
  {
   "cell_type": "code",
   "execution_count": 9,
   "id": "d506855c",
   "metadata": {},
   "outputs": [],
   "source": [
    "# from pandas_profiling import ProfileReport\n",
    "# prof = ProfileReport(data)\n",
    "# prof.to_file(output_file = 'output.html')"
   ]
  },
  {
   "cell_type": "code",
   "execution_count": 10,
   "id": "910efd55",
   "metadata": {},
   "outputs": [],
   "source": [
    "# Now this pandas profiling library will give us a better glance about the distribution of the dataset. \n",
    "# as well as it will also give us some clue to work on preprocessing.."
   ]
  },
  {
   "cell_type": "markdown",
   "id": "c96b5e30",
   "metadata": {},
   "source": [
    "from pandas_profiling import ProfileReport\n",
    "prof = ProfileReport(data)\n",
    "prof.to_file(output_file = 'output.html')"
   ]
  },
  {
   "cell_type": "code",
   "execution_count": 11,
   "id": "cb125dea",
   "metadata": {},
   "outputs": [
    {
     "data": {
      "image/png": "[encoded data removed]",
      "text/plain": [
       "<Figure size 1080x864 with 1 Axes>"
      ]
     },
     "metadata": {},
     "output_type": "display_data"
    }
   ],
   "source": [
    "# In below output graph, you can see that how many fraud happend in this dataset in the given timeframe..\n",
    "count_classes = pd.value_counts(data['Class'], sort=True)\n",
    "count_classes.plot(kind='bar', rot=0)\n",
    "plt.title(\"Transaction class distribution\")\n",
    "plt.xticks(range(2), LABELS)\n",
    "plt.xlabel('Class')\n",
    "plt.ylabel(\"Frequency\")\n",
    "plt.show()"
   ]
  },
  {
   "cell_type": "code",
   "execution_count": 12,
   "id": "12b63e4e",
   "metadata": {},
   "outputs": [
    {
     "name": "stdout",
     "output_type": "stream",
     "text": [
      "(492, 31) (284315, 31)\n"
     ]
    }
   ],
   "source": [
    "# Naming the features as fraud and normal..\n",
    "fraud = data[data['Class']==1]\n",
    "normal = data[data['Class']==0]\n",
    "print(fraud.shape, normal.shape)"
   ]
  },
  {
   "cell_type": "code",
   "execution_count": 13,
   "id": "c63bf483",
   "metadata": {},
   "outputs": [
    {
     "data": {
      "text/plain": [
       "0.001727485630620034"
      ]
     },
     "execution_count": 13,
     "metadata": {},
     "output_type": "execute_result"
    }
   ],
   "source": [
    "492/(492+284315)"
   ]
  },
  {
   "cell_type": "code",
   "execution_count": 14,
   "id": "36a99e91",
   "metadata": {},
   "outputs": [
    {
     "data": {
      "text/plain": [
       "count    284315.000000\n",
       "mean         88.291022\n",
       "std         250.105092\n",
       "min           0.000000\n",
       "25%           5.650000\n",
       "50%          22.000000\n",
       "75%          77.050000\n",
       "max       25691.160000\n",
       "Name: Amount, dtype: float64"
      ]
     },
     "execution_count": 14,
     "metadata": {},
     "output_type": "execute_result"
    }
   ],
   "source": [
    "normal.Amount.describe()"
   ]
  },
  {
   "cell_type": "code",
   "execution_count": 15,
   "id": "3d196dde",
   "metadata": {},
   "outputs": [
    {
     "data": {
      "text/plain": [
       "count     492.000000\n",
       "mean      122.211321\n",
       "std       256.683288\n",
       "min         0.000000\n",
       "25%         1.000000\n",
       "50%         9.250000\n",
       "75%       105.890000\n",
       "max      2125.870000\n",
       "Name: Amount, dtype: float64"
      ]
     },
     "execution_count": 15,
     "metadata": {},
     "output_type": "execute_result"
    }
   ],
   "source": [
    "fraud.Amount.describe()"
   ]
  },
  {
   "cell_type": "code",
   "execution_count": 16,
   "id": "27defef5",
   "metadata": {},
   "outputs": [
    {
     "data": {
      "text/plain": [
       "2080971"
      ]
     },
     "execution_count": 16,
     "metadata": {},
     "output_type": "execute_result"
    }
   ],
   "source": [
    "25691*81"
   ]
  },
  {
   "cell_type": "code",
   "execution_count": 17,
   "id": "e5d57d1b",
   "metadata": {},
   "outputs": [
    {
     "data": {
      "image/png": "[encoded data removed]",
      "text/plain": [
       "<Figure size 1080x864 with 2 Axes>"
      ]
     },
     "metadata": {},
     "output_type": "display_data"
    }
   ],
   "source": [
    "# With calculation of fraud and normal transaction we will see in scatter plot more clearance..\n",
    "f, (ax1, ax2) = plt.subplots(2,1, sharex=True)\n",
    "f.suptitle(\"Amount per transaction by Class\")\n",
    "bins = 50\n",
    "ax1.hist(fraud.Amount, bins = bins)\n",
    "ax1.set_title('Fraud Transaction')\n",
    "\n",
    "ax2.hist(normal.Amount, bins=bins)\n",
    "ax2.set_title('Normal Transaction')\n",
    "\n",
    "plt.xlabel(\"Amount ($)\")\n",
    "plt.ylabel(\"No. of Transaction\")\n",
    "\n",
    "plt.xlim(0,25000)\n",
    "plt.yscale('log')\n",
    "plt.show()"
   ]
  },
  {
   "cell_type": "code",
   "execution_count": 18,
   "id": "5238e53a",
   "metadata": {},
   "outputs": [
    {
     "data": {
      "image/png": "[encoded data removed]",
      "text/plain": [
       "<Figure size 1080x864 with 2 Axes>"
      ]
     },
     "metadata": {},
     "output_type": "display_data"
    }
   ],
   "source": [
    "f, (ax1, ax2) = plt.subplots(2,1, sharex=True)\n",
    "f.suptitle(\"Time of transaction vs Amount by Class\")\n",
    "\n",
    "ax1.scatter(fraud.Time, fraud.Amount)\n",
    "ax1.set_title('Fraud Transaction by Time')\n",
    "\n",
    "ax2.scatter(normal.Time, normal.Amount)\n",
    "ax2.set_title('Normal Transaction by Time')\n",
    "\n",
    "plt.xlabel(\"Time (in Second)\")\n",
    "plt.ylabel(\"Amount\")\n",
    "\n",
    "plt.show()"
   ]
  },
  {
   "cell_type": "code",
   "execution_count": 19,
   "id": "6cf82e34",
   "metadata": {},
   "outputs": [
    {
     "data": {
      "text/plain": [
       "(284807, 31)"
      ]
     },
     "execution_count": 19,
     "metadata": {},
     "output_type": "execute_result"
    }
   ],
   "source": [
    "data.shape"
   ]
  },
  {
   "cell_type": "code",
   "execution_count": null,
   "id": "cbfe296c",
   "metadata": {},
   "outputs": [],
   "source": []
  },
  {
   "cell_type": "code",
   "execution_count": 20,
   "id": "4cf2b6e6",
   "metadata": {},
   "outputs": [],
   "source": [
    "# we are taking 10% data only for building a model\n",
    "# Please try to replicate the same with all data - Task"
   ]
  },
  {
   "cell_type": "code",
   "execution_count": 21,
   "id": "62f6a7cd",
   "metadata": {},
   "outputs": [
    {
     "data": {
      "text/plain": [
       "(56961, 31)"
      ]
     },
     "execution_count": 21,
     "metadata": {},
     "output_type": "execute_result"
    }
   ],
   "source": [
    "data1 = data.sample(frac=0.2, random_state=1000)\n",
    "data1.shape"
   ]
  },
  {
   "cell_type": "code",
   "execution_count": 22,
   "id": "f05a0735",
   "metadata": {},
   "outputs": [
    {
     "name": "stdout",
     "output_type": "stream",
     "text": [
      "(106, 31)\n",
      "(56855, 31)\n"
     ]
    }
   ],
   "source": [
    "fraud = data1[data1['Class']==1]\n",
    "valid = data1[data1['Class']==0]\n",
    "\n",
    "print(fraud.shape)\n",
    "print(valid.shape)"
   ]
  },
  {
   "cell_type": "code",
   "execution_count": 23,
   "id": "213096bf",
   "metadata": {},
   "outputs": [],
   "source": [
    "outlier_fraction = 106/(106+56858)"
   ]
  },
  {
   "cell_type": "code",
   "execution_count": 24,
   "id": "3800e551",
   "metadata": {},
   "outputs": [
    {
     "data": {
      "text/plain": [
       "0.0018608243803103714"
      ]
     },
     "execution_count": 24,
     "metadata": {},
     "output_type": "execute_result"
    }
   ],
   "source": [
    "outlier_fraction"
   ]
  },
  {
   "cell_type": "code",
   "execution_count": 25,
   "id": "5afad75b",
   "metadata": {},
   "outputs": [
    {
     "data": {
      "text/html": [
       "<div>\n",
       "<style scoped>\n",
       "    .dataframe tbody tr th:only-of-type {\n",
       "        vertical-align: middle;\n",
       "    }\n",
       "\n",
       "    .dataframe tbody tr th {\n",
       "        vertical-align: top;\n",
       "    }\n",
       "\n",
       "    .dataframe thead th {\n",
       "        text-align: right;\n",
       "    }\n",
       "</style>\n",
       "<table border=\"1\" class=\"dataframe\">\n",
       "  <thead>\n",
       "    <tr style=\"text-align: right;\">\n",
       "      <th></th>\n",
       "      <th>Time</th>\n",
       "      <th>V1</th>\n",
       "      <th>V2</th>\n",
       "      <th>V3</th>\n",
       "      <th>V4</th>\n",
       "      <th>V5</th>\n",
       "      <th>V6</th>\n",
       "      <th>V7</th>\n",
       "      <th>V8</th>\n",
       "      <th>V9</th>\n",
       "      <th>...</th>\n",
       "      <th>V21</th>\n",
       "      <th>V22</th>\n",
       "      <th>V23</th>\n",
       "      <th>V24</th>\n",
       "      <th>V25</th>\n",
       "      <th>V26</th>\n",
       "      <th>V27</th>\n",
       "      <th>V28</th>\n",
       "      <th>Amount</th>\n",
       "      <th>Class</th>\n",
       "    </tr>\n",
       "  </thead>\n",
       "  <tbody>\n",
       "    <tr>\n",
       "      <th>198800</th>\n",
       "      <td>132658.0</td>\n",
       "      <td>2.056433</td>\n",
       "      <td>-0.316915</td>\n",
       "      <td>-2.789687</td>\n",
       "      <td>-0.775164</td>\n",
       "      <td>2.497163</td>\n",
       "      <td>3.164444</td>\n",
       "      <td>-0.396550</td>\n",
       "      <td>0.715194</td>\n",
       "      <td>0.448127</td>\n",
       "      <td>...</td>\n",
       "      <td>0.243647</td>\n",
       "      <td>0.743975</td>\n",
       "      <td>0.037861</td>\n",
       "      <td>0.737525</td>\n",
       "      <td>0.302948</td>\n",
       "      <td>-0.087858</td>\n",
       "      <td>-0.001144</td>\n",
       "      <td>-0.064954</td>\n",
       "      <td>3.80</td>\n",
       "      <td>0</td>\n",
       "    </tr>\n",
       "    <tr>\n",
       "      <th>95536</th>\n",
       "      <td>65359.0</td>\n",
       "      <td>-0.476480</td>\n",
       "      <td>0.967301</td>\n",
       "      <td>1.660071</td>\n",
       "      <td>0.000008</td>\n",
       "      <td>-0.106866</td>\n",
       "      <td>-0.624360</td>\n",
       "      <td>0.599600</td>\n",
       "      <td>0.085344</td>\n",
       "      <td>-0.329163</td>\n",
       "      <td>...</td>\n",
       "      <td>-0.186026</td>\n",
       "      <td>-0.470205</td>\n",
       "      <td>0.055860</td>\n",
       "      <td>0.364065</td>\n",
       "      <td>-0.331242</td>\n",
       "      <td>0.082720</td>\n",
       "      <td>0.278155</td>\n",
       "      <td>0.119504</td>\n",
       "      <td>3.57</td>\n",
       "      <td>0</td>\n",
       "    </tr>\n",
       "    <tr>\n",
       "      <th>180242</th>\n",
       "      <td>124448.0</td>\n",
       "      <td>1.943666</td>\n",
       "      <td>-1.029557</td>\n",
       "      <td>-1.276665</td>\n",
       "      <td>-0.427737</td>\n",
       "      <td>-0.815657</td>\n",
       "      <td>-1.007531</td>\n",
       "      <td>-0.293930</td>\n",
       "      <td>-0.238641</td>\n",
       "      <td>-0.743251</td>\n",
       "      <td>...</td>\n",
       "      <td>-0.027971</td>\n",
       "      <td>0.203359</td>\n",
       "      <td>0.049295</td>\n",
       "      <td>0.092062</td>\n",
       "      <td>-0.178437</td>\n",
       "      <td>0.762153</td>\n",
       "      <td>-0.089487</td>\n",
       "      <td>-0.057625</td>\n",
       "      <td>107.77</td>\n",
       "      <td>0</td>\n",
       "    </tr>\n",
       "    <tr>\n",
       "      <th>278892</th>\n",
       "      <td>168508.0</td>\n",
       "      <td>-0.343991</td>\n",
       "      <td>1.475547</td>\n",
       "      <td>0.349266</td>\n",
       "      <td>1.211181</td>\n",
       "      <td>-0.510325</td>\n",
       "      <td>-1.281538</td>\n",
       "      <td>0.455647</td>\n",
       "      <td>0.011873</td>\n",
       "      <td>-0.737317</td>\n",
       "      <td>...</td>\n",
       "      <td>0.463618</td>\n",
       "      <td>1.563284</td>\n",
       "      <td>-0.107122</td>\n",
       "      <td>1.032006</td>\n",
       "      <td>-0.465200</td>\n",
       "      <td>0.211401</td>\n",
       "      <td>0.238458</td>\n",
       "      <td>0.208167</td>\n",
       "      <td>7.84</td>\n",
       "      <td>0</td>\n",
       "    </tr>\n",
       "    <tr>\n",
       "      <th>85098</th>\n",
       "      <td>60601.0</td>\n",
       "      <td>1.185368</td>\n",
       "      <td>0.248102</td>\n",
       "      <td>1.110961</td>\n",
       "      <td>2.448941</td>\n",
       "      <td>-0.387718</td>\n",
       "      <td>0.503952</td>\n",
       "      <td>-0.546283</td>\n",
       "      <td>0.203680</td>\n",
       "      <td>0.070122</td>\n",
       "      <td>...</td>\n",
       "      <td>-0.102446</td>\n",
       "      <td>-0.226039</td>\n",
       "      <td>-0.052715</td>\n",
       "      <td>-0.481575</td>\n",
       "      <td>0.368006</td>\n",
       "      <td>0.004532</td>\n",
       "      <td>0.033685</td>\n",
       "      <td>0.027790</td>\n",
       "      <td>4.72</td>\n",
       "      <td>0</td>\n",
       "    </tr>\n",
       "  </tbody>\n",
       "</table>\n",
       "<p>5 rows × 31 columns</p>\n",
       "</div>"
      ],
      "text/plain": [
       "            Time        V1        V2        V3        V4        V5        V6  \\\n",
       "198800  132658.0  2.056433 -0.316915 -2.789687 -0.775164  2.497163  3.164444   \n",
       "95536    65359.0 -0.476480  0.967301  1.660071  0.000008 -0.106866 -0.624360   \n",
       "180242  124448.0  1.943666 -1.029557 -1.276665 -0.427737 -0.815657 -1.007531   \n",
       "278892  168508.0 -0.343991  1.475547  0.349266  1.211181 -0.510325 -1.281538   \n",
       "85098    60601.0  1.185368  0.248102  1.110961  2.448941 -0.387718  0.503952   \n",
       "\n",
       "              V7        V8        V9  ...       V21       V22       V23  \\\n",
       "198800 -0.396550  0.715194  0.448127  ...  0.243647  0.743975  0.037861   \n",
       "95536   0.599600  0.085344 -0.329163  ... -0.186026 -0.470205  0.055860   \n",
       "180242 -0.293930 -0.238641 -0.743251  ... -0.027971  0.203359  0.049295   \n",
       "278892  0.455647  0.011873 -0.737317  ...  0.463618  1.563284 -0.107122   \n",
       "85098  -0.546283  0.203680  0.070122  ... -0.102446 -0.226039 -0.052715   \n",
       "\n",
       "             V24       V25       V26       V27       V28  Amount  Class  \n",
       "198800  0.737525  0.302948 -0.087858 -0.001144 -0.064954    3.80      0  \n",
       "95536   0.364065 -0.331242  0.082720  0.278155  0.119504    3.57      0  \n",
       "180242  0.092062 -0.178437  0.762153 -0.089487 -0.057625  107.77      0  \n",
       "278892  1.032006 -0.465200  0.211401  0.238458  0.208167    7.84      0  \n",
       "85098  -0.481575  0.368006  0.004532  0.033685  0.027790    4.72      0  \n",
       "\n",
       "[5 rows x 31 columns]"
      ]
     },
     "execution_count": 25,
     "metadata": {},
     "output_type": "execute_result"
    }
   ],
   "source": [
    "data1.head()"
   ]
  },
  {
   "cell_type": "code",
   "execution_count": 26,
   "id": "e7141e66",
   "metadata": {},
   "outputs": [],
   "source": [
    "columns = data1.iloc[:,1:-1]\n",
    "target = data1.iloc[:,-1]"
   ]
  },
  {
   "cell_type": "code",
   "execution_count": 27,
   "id": "25d7bbec",
   "metadata": {},
   "outputs": [
    {
     "data": {
      "text/html": [
       "<div>\n",
       "<style scoped>\n",
       "    .dataframe tbody tr th:only-of-type {\n",
       "        vertical-align: middle;\n",
       "    }\n",
       "\n",
       "    .dataframe tbody tr th {\n",
       "        vertical-align: top;\n",
       "    }\n",
       "\n",
       "    .dataframe thead th {\n",
       "        text-align: right;\n",
       "    }\n",
       "</style>\n",
       "<table border=\"1\" class=\"dataframe\">\n",
       "  <thead>\n",
       "    <tr style=\"text-align: right;\">\n",
       "      <th></th>\n",
       "      <th>V1</th>\n",
       "      <th>V2</th>\n",
       "      <th>V3</th>\n",
       "      <th>V4</th>\n",
       "      <th>V5</th>\n",
       "      <th>V6</th>\n",
       "      <th>V7</th>\n",
       "      <th>V8</th>\n",
       "      <th>V9</th>\n",
       "      <th>V10</th>\n",
       "      <th>...</th>\n",
       "      <th>V20</th>\n",
       "      <th>V21</th>\n",
       "      <th>V22</th>\n",
       "      <th>V23</th>\n",
       "      <th>V24</th>\n",
       "      <th>V25</th>\n",
       "      <th>V26</th>\n",
       "      <th>V27</th>\n",
       "      <th>V28</th>\n",
       "      <th>Amount</th>\n",
       "    </tr>\n",
       "  </thead>\n",
       "  <tbody>\n",
       "    <tr>\n",
       "      <th>198800</th>\n",
       "      <td>2.056433</td>\n",
       "      <td>-0.316915</td>\n",
       "      <td>-2.789687</td>\n",
       "      <td>-0.775164</td>\n",
       "      <td>2.497163</td>\n",
       "      <td>3.164444</td>\n",
       "      <td>-0.396550</td>\n",
       "      <td>0.715194</td>\n",
       "      <td>0.448127</td>\n",
       "      <td>0.031925</td>\n",
       "      <td>...</td>\n",
       "      <td>-0.165740</td>\n",
       "      <td>0.243647</td>\n",
       "      <td>0.743975</td>\n",
       "      <td>0.037861</td>\n",
       "      <td>0.737525</td>\n",
       "      <td>0.302948</td>\n",
       "      <td>-0.087858</td>\n",
       "      <td>-0.001144</td>\n",
       "      <td>-0.064954</td>\n",
       "      <td>3.80</td>\n",
       "    </tr>\n",
       "    <tr>\n",
       "      <th>95536</th>\n",
       "      <td>-0.476480</td>\n",
       "      <td>0.967301</td>\n",
       "      <td>1.660071</td>\n",
       "      <td>0.000008</td>\n",
       "      <td>-0.106866</td>\n",
       "      <td>-0.624360</td>\n",
       "      <td>0.599600</td>\n",
       "      <td>0.085344</td>\n",
       "      <td>-0.329163</td>\n",
       "      <td>-0.339743</td>\n",
       "      <td>...</td>\n",
       "      <td>0.015199</td>\n",
       "      <td>-0.186026</td>\n",
       "      <td>-0.470205</td>\n",
       "      <td>0.055860</td>\n",
       "      <td>0.364065</td>\n",
       "      <td>-0.331242</td>\n",
       "      <td>0.082720</td>\n",
       "      <td>0.278155</td>\n",
       "      <td>0.119504</td>\n",
       "      <td>3.57</td>\n",
       "    </tr>\n",
       "    <tr>\n",
       "      <th>180242</th>\n",
       "      <td>1.943666</td>\n",
       "      <td>-1.029557</td>\n",
       "      <td>-1.276665</td>\n",
       "      <td>-0.427737</td>\n",
       "      <td>-0.815657</td>\n",
       "      <td>-1.007531</td>\n",
       "      <td>-0.293930</td>\n",
       "      <td>-0.238641</td>\n",
       "      <td>-0.743251</td>\n",
       "      <td>1.125115</td>\n",
       "      <td>...</td>\n",
       "      <td>-0.449719</td>\n",
       "      <td>-0.027971</td>\n",
       "      <td>0.203359</td>\n",
       "      <td>0.049295</td>\n",
       "      <td>0.092062</td>\n",
       "      <td>-0.178437</td>\n",
       "      <td>0.762153</td>\n",
       "      <td>-0.089487</td>\n",
       "      <td>-0.057625</td>\n",
       "      <td>107.77</td>\n",
       "    </tr>\n",
       "    <tr>\n",
       "      <th>278892</th>\n",
       "      <td>-0.343991</td>\n",
       "      <td>1.475547</td>\n",
       "      <td>0.349266</td>\n",
       "      <td>1.211181</td>\n",
       "      <td>-0.510325</td>\n",
       "      <td>-1.281538</td>\n",
       "      <td>0.455647</td>\n",
       "      <td>0.011873</td>\n",
       "      <td>-0.737317</td>\n",
       "      <td>0.100004</td>\n",
       "      <td>...</td>\n",
       "      <td>0.248074</td>\n",
       "      <td>0.463618</td>\n",
       "      <td>1.563284</td>\n",
       "      <td>-0.107122</td>\n",
       "      <td>1.032006</td>\n",
       "      <td>-0.465200</td>\n",
       "      <td>0.211401</td>\n",
       "      <td>0.238458</td>\n",
       "      <td>0.208167</td>\n",
       "      <td>7.84</td>\n",
       "    </tr>\n",
       "    <tr>\n",
       "      <th>85098</th>\n",
       "      <td>1.185368</td>\n",
       "      <td>0.248102</td>\n",
       "      <td>1.110961</td>\n",
       "      <td>2.448941</td>\n",
       "      <td>-0.387718</td>\n",
       "      <td>0.503952</td>\n",
       "      <td>-0.546283</td>\n",
       "      <td>0.203680</td>\n",
       "      <td>0.070122</td>\n",
       "      <td>0.556493</td>\n",
       "      <td>...</td>\n",
       "      <td>-0.141848</td>\n",
       "      <td>-0.102446</td>\n",
       "      <td>-0.226039</td>\n",
       "      <td>-0.052715</td>\n",
       "      <td>-0.481575</td>\n",
       "      <td>0.368006</td>\n",
       "      <td>0.004532</td>\n",
       "      <td>0.033685</td>\n",
       "      <td>0.027790</td>\n",
       "      <td>4.72</td>\n",
       "    </tr>\n",
       "  </tbody>\n",
       "</table>\n",
       "<p>5 rows × 29 columns</p>\n",
       "</div>"
      ],
      "text/plain": [
       "              V1        V2        V3        V4        V5        V6        V7  \\\n",
       "198800  2.056433 -0.316915 -2.789687 -0.775164  2.497163  3.164444 -0.396550   \n",
       "95536  -0.476480  0.967301  1.660071  0.000008 -0.106866 -0.624360  0.599600   \n",
       "180242  1.943666 -1.029557 -1.276665 -0.427737 -0.815657 -1.007531 -0.293930   \n",
       "278892 -0.343991  1.475547  0.349266  1.211181 -0.510325 -1.281538  0.455647   \n",
       "85098   1.185368  0.248102  1.110961  2.448941 -0.387718  0.503952 -0.546283   \n",
       "\n",
       "              V8        V9       V10  ...       V20       V21       V22  \\\n",
       "198800  0.715194  0.448127  0.031925  ... -0.165740  0.243647  0.743975   \n",
       "95536   0.085344 -0.329163 -0.339743  ...  0.015199 -0.186026 -0.470205   \n",
       "180242 -0.238641 -0.743251  1.125115  ... -0.449719 -0.027971  0.203359   \n",
       "278892  0.011873 -0.737317  0.100004  ...  0.248074  0.463618  1.563284   \n",
       "85098   0.203680  0.070122  0.556493  ... -0.141848 -0.102446 -0.226039   \n",
       "\n",
       "             V23       V24       V25       V26       V27       V28  Amount  \n",
       "198800  0.037861  0.737525  0.302948 -0.087858 -0.001144 -0.064954    3.80  \n",
       "95536   0.055860  0.364065 -0.331242  0.082720  0.278155  0.119504    3.57  \n",
       "180242  0.049295  0.092062 -0.178437  0.762153 -0.089487 -0.057625  107.77  \n",
       "278892 -0.107122  1.032006 -0.465200  0.211401  0.238458  0.208167    7.84  \n",
       "85098  -0.052715 -0.481575  0.368006  0.004532  0.033685  0.027790    4.72  \n",
       "\n",
       "[5 rows x 29 columns]"
      ]
     },
     "execution_count": 27,
     "metadata": {},
     "output_type": "execute_result"
    }
   ],
   "source": [
    "columns.head()"
   ]
  },
  {
   "cell_type": "code",
   "execution_count": 28,
   "id": "24660504",
   "metadata": {},
   "outputs": [
    {
     "data": {
      "text/plain": [
       "198800    0\n",
       "95536     0\n",
       "180242    0\n",
       "278892    0\n",
       "85098     0\n",
       "Name: Class, dtype: int64"
      ]
     },
     "execution_count": 28,
     "metadata": {},
     "output_type": "execute_result"
    }
   ],
   "source": [
    "target.head()"
   ]
  },
  {
   "cell_type": "markdown",
   "id": "66fe45ed",
   "metadata": {},
   "source": [
    "# split the data into training and test"
   ]
  },
  {
   "cell_type": "code",
   "execution_count": 29,
   "id": "dbcd66c0",
   "metadata": {},
   "outputs": [],
   "source": [
    "from sklearn.model_selection import train_test_split\n",
    "x_train, x_test, y_train, y_test = train_test_split(columns, target, \n",
    "                                                    train_size=0.75,random_state=125,\n",
    "                                                   stratify=target)\n"
   ]
  },
  {
   "cell_type": "markdown",
   "id": "6b81bf5e",
   "metadata": {},
   "source": [
    "# Using Machine Learning model"
   ]
  },
  {
   "cell_type": "code",
   "execution_count": 30,
   "id": "9097a005",
   "metadata": {},
   "outputs": [
    {
     "data": {
      "text/plain": [
       "LogisticRegression()"
      ]
     },
     "execution_count": 30,
     "metadata": {},
     "output_type": "execute_result"
    }
   ],
   "source": [
    "# Logistic Regression\n",
    "from sklearn.linear_model import LogisticRegression\n",
    "logit = LogisticRegression()\n",
    "logit.fit(x_train, y_train)"
   ]
  },
  {
   "cell_type": "code",
   "execution_count": 31,
   "id": "e021f73d",
   "metadata": {},
   "outputs": [],
   "source": [
    "y_pred_train = logit.predict(x_train)\n",
    "y_pred_test = logit.predict(x_test)"
   ]
  },
  {
   "cell_type": "code",
   "execution_count": 32,
   "id": "1855510c",
   "metadata": {},
   "outputs": [],
   "source": [
    "from sklearn.metrics import confusion_matrix, classification_report, accuracy_score"
   ]
  },
  {
   "cell_type": "code",
   "execution_count": 33,
   "id": "08820e62",
   "metadata": {},
   "outputs": [
    {
     "name": "stdout",
     "output_type": "stream",
     "text": [
      "Confusion Matrix - Training : [[42634     7]\n",
      " [   31    48]]\n",
      "*************************************************************************************************************************************************\n",
      "Confusion Matrix - Test : [[14212     2]\n",
      " [    9    18]]\n"
     ]
    }
   ],
   "source": [
    "print(\"Confusion Matrix - Training :\", confusion_matrix(y_train, y_pred_train))\n",
    "print(\"*****************************\"*5)\n",
    "print(\"Confusion Matrix - Test :\", confusion_matrix(y_test, y_pred_test))"
   ]
  },
  {
   "cell_type": "code",
   "execution_count": 34,
   "id": "d52790e8",
   "metadata": {},
   "outputs": [
    {
     "name": "stdout",
     "output_type": "stream",
     "text": [
      "              precision    recall  f1-score   support\n",
      "\n",
      "           0       1.00      1.00      1.00     42641\n",
      "           1       0.87      0.61      0.72        79\n",
      "\n",
      "    accuracy                           1.00     42720\n",
      "   macro avg       0.94      0.80      0.86     42720\n",
      "weighted avg       1.00      1.00      1.00     42720\n",
      "\n",
      "*************************************************************************************************************************************************\n",
      "              precision    recall  f1-score   support\n",
      "\n",
      "           0       1.00      1.00      1.00     14214\n",
      "           1       0.90      0.67      0.77        27\n",
      "\n",
      "    accuracy                           1.00     14241\n",
      "   macro avg       0.95      0.83      0.88     14241\n",
      "weighted avg       1.00      1.00      1.00     14241\n",
      "\n"
     ]
    }
   ],
   "source": [
    "print(classification_report(y_train, y_pred_train))\n",
    "print(\"*****************************\"*5)\n",
    "print(classification_report(y_test, y_pred_test))"
   ]
  },
  {
   "cell_type": "code",
   "execution_count": 35,
   "id": "07d1bf1d",
   "metadata": {},
   "outputs": [
    {
     "name": "stdout",
     "output_type": "stream",
     "text": [
      "Accuracy - Training : 0.9991104868913858\n",
      "*************************************************************************************************************************************************\n",
      "Accuracy - Test : 0.9992275823327014\n"
     ]
    }
   ],
   "source": [
    "print(\"Accuracy - Training :\", accuracy_score(y_train, y_pred_train))\n",
    "print(\"*****************************\"*5)\n",
    "print(\"Accuracy - Test :\", accuracy_score(y_test, y_pred_test))"
   ]
  },
  {
   "cell_type": "code",
   "execution_count": 36,
   "id": "d99a7a38",
   "metadata": {},
   "outputs": [
    {
     "data": {
      "text/plain": [
       "DecisionTreeClassifier(criterion='entropy')"
      ]
     },
     "execution_count": 36,
     "metadata": {},
     "output_type": "execute_result"
    }
   ],
   "source": [
    "from sklearn.tree import DecisionTreeClassifier\n",
    "dtree = DecisionTreeClassifier(criterion='entropy')\n",
    "dtree.fit(x_train, y_train)"
   ]
  },
  {
   "cell_type": "code",
   "execution_count": 37,
   "id": "969baa6b",
   "metadata": {},
   "outputs": [],
   "source": [
    "y_pred_train_dt = dtree.predict(x_train)\n",
    "y_pred_test_dt = dtree.predict(x_test)"
   ]
  },
  {
   "cell_type": "code",
   "execution_count": 38,
   "id": "fc4d3a16",
   "metadata": {},
   "outputs": [
    {
     "name": "stdout",
     "output_type": "stream",
     "text": [
      "              precision    recall  f1-score   support\n",
      "\n",
      "           0       1.00      1.00      1.00     42641\n",
      "           1       1.00      1.00      1.00        79\n",
      "\n",
      "    accuracy                           1.00     42720\n",
      "   macro avg       1.00      1.00      1.00     42720\n",
      "weighted avg       1.00      1.00      1.00     42720\n",
      "\n",
      "*************************************************************************************************************************************************\n",
      "              precision    recall  f1-score   support\n",
      "\n",
      "           0       1.00      1.00      1.00     14214\n",
      "           1       0.74      0.85      0.79        27\n",
      "\n",
      "    accuracy                           1.00     14241\n",
      "   macro avg       0.87      0.93      0.90     14241\n",
      "weighted avg       1.00      1.00      1.00     14241\n",
      "\n"
     ]
    }
   ],
   "source": [
    "print(classification_report(y_train, y_pred_train_dt))\n",
    "print(\"*****************************\"*5)\n",
    "print(classification_report(y_test, y_pred_test_dt))"
   ]
  },
  {
   "cell_type": "code",
   "execution_count": null,
   "id": "3e651666",
   "metadata": {},
   "outputs": [],
   "source": []
  },
  {
   "cell_type": "markdown",
   "id": "22d58d78",
   "metadata": {},
   "source": [
    "# Ensemble Learning - Bagging"
   ]
  },
  {
   "cell_type": "code",
   "execution_count": 39,
   "id": "46d12909",
   "metadata": {},
   "outputs": [
    {
     "data": {
      "text/plain": [
       "BaggingClassifier()"
      ]
     },
     "execution_count": 39,
     "metadata": {},
     "output_type": "execute_result"
    }
   ],
   "source": [
    "from sklearn.ensemble import BaggingClassifier\n",
    "bgcl = BaggingClassifier()\n",
    "bgcl.fit(x_train, y_train)"
   ]
  },
  {
   "cell_type": "code",
   "execution_count": 40,
   "id": "c988e9f5",
   "metadata": {},
   "outputs": [],
   "source": [
    "y_pred_train_bg = bgcl.predict(x_train)\n",
    "y_pred_test_bg = bgcl.predict(x_test)"
   ]
  },
  {
   "cell_type": "code",
   "execution_count": 41,
   "id": "ef89893b",
   "metadata": {},
   "outputs": [
    {
     "name": "stdout",
     "output_type": "stream",
     "text": [
      "              precision    recall  f1-score   support\n",
      "\n",
      "           0       1.00      1.00      1.00     42641\n",
      "           1       1.00      0.94      0.97        79\n",
      "\n",
      "    accuracy                           1.00     42720\n",
      "   macro avg       1.00      0.97      0.98     42720\n",
      "weighted avg       1.00      1.00      1.00     42720\n",
      "\n",
      "*************************************************************************************************************************************************\n",
      "              precision    recall  f1-score   support\n",
      "\n",
      "           0       1.00      1.00      1.00     14214\n",
      "           1       0.79      0.85      0.82        27\n",
      "\n",
      "    accuracy                           1.00     14241\n",
      "   macro avg       0.90      0.93      0.91     14241\n",
      "weighted avg       1.00      1.00      1.00     14241\n",
      "\n"
     ]
    }
   ],
   "source": [
    "print(classification_report(y_train, y_pred_train_bg))\n",
    "print(\"*****************************\"*5)\n",
    "print(classification_report(y_test, y_pred_test_bg))"
   ]
  },
  {
   "cell_type": "code",
   "execution_count": 42,
   "id": "ffb51965",
   "metadata": {},
   "outputs": [
    {
     "name": "stdout",
     "output_type": "stream",
     "text": [
      "Accuracy - Training : 0.9998829588014981\n",
      "*************************************************************************************************************************************************\n",
      "Accuracy - Test : 0.9992978021206376\n"
     ]
    }
   ],
   "source": [
    "print(\"Accuracy - Training :\", accuracy_score(y_train, y_pred_train_bg))\n",
    "print(\"*****************************\"*5)\n",
    "print(\"Accuracy - Test :\", accuracy_score(y_test, y_pred_test_bg))"
   ]
  },
  {
   "cell_type": "code",
   "execution_count": null,
   "id": "0ff49b76",
   "metadata": {},
   "outputs": [],
   "source": []
  },
  {
   "cell_type": "markdown",
   "id": "2ff71c95",
   "metadata": {},
   "source": [
    "# Ensemble Learning - AdaBoosting method"
   ]
  },
  {
   "cell_type": "code",
   "execution_count": 43,
   "id": "813610b0",
   "metadata": {},
   "outputs": [
    {
     "data": {
      "text/plain": [
       "AdaBoostClassifier(random_state=1)"
      ]
     },
     "execution_count": 43,
     "metadata": {},
     "output_type": "execute_result"
    }
   ],
   "source": [
    "from sklearn.ensemble import AdaBoostClassifier\n",
    "adbcl = AdaBoostClassifier(random_state=1)\n",
    "adbcl.fit(x_train, y_train)"
   ]
  },
  {
   "cell_type": "code",
   "execution_count": 44,
   "id": "38c1b78d",
   "metadata": {},
   "outputs": [],
   "source": [
    "y_pred_train_adb = adbcl.predict(x_train)\n",
    "y_pred_test_adb = adbcl.predict(x_test)"
   ]
  },
  {
   "cell_type": "code",
   "execution_count": 45,
   "id": "468fe9e6",
   "metadata": {},
   "outputs": [
    {
     "name": "stdout",
     "output_type": "stream",
     "text": [
      "              precision    recall  f1-score   support\n",
      "\n",
      "           0       1.00      1.00      1.00     42641\n",
      "           1       0.93      0.81      0.86        79\n",
      "\n",
      "    accuracy                           1.00     42720\n",
      "   macro avg       0.96      0.91      0.93     42720\n",
      "weighted avg       1.00      1.00      1.00     42720\n",
      "\n",
      "*************************************************************************************************************************************************\n",
      "              precision    recall  f1-score   support\n",
      "\n",
      "           0       1.00      1.00      1.00     14214\n",
      "           1       0.88      0.81      0.85        27\n",
      "\n",
      "    accuracy                           1.00     14241\n",
      "   macro avg       0.94      0.91      0.92     14241\n",
      "weighted avg       1.00      1.00      1.00     14241\n",
      "\n"
     ]
    }
   ],
   "source": [
    "print(classification_report(y_train, y_pred_train_adb))\n",
    "print(\"*****************************\"*5)\n",
    "print(classification_report(y_test, y_pred_test_adb))"
   ]
  },
  {
   "cell_type": "code",
   "execution_count": null,
   "id": "d9aec4c5",
   "metadata": {},
   "outputs": [],
   "source": []
  },
  {
   "cell_type": "markdown",
   "id": "757b0458",
   "metadata": {},
   "source": [
    "# Gradient Boosting"
   ]
  },
  {
   "cell_type": "code",
   "execution_count": 46,
   "id": "05dd6e76",
   "metadata": {},
   "outputs": [
    {
     "data": {
      "text/plain": [
       "GradientBoostingClassifier(n_estimators=50, random_state=1)"
      ]
     },
     "execution_count": 46,
     "metadata": {},
     "output_type": "execute_result"
    }
   ],
   "source": [
    "from sklearn.ensemble import GradientBoostingClassifier\n",
    "gbcl = GradientBoostingClassifier(n_estimators=50, random_state=1)\n",
    "gbcl.fit(x_train, y_train)"
   ]
  },
  {
   "cell_type": "code",
   "execution_count": 47,
   "id": "fd8dd960",
   "metadata": {},
   "outputs": [],
   "source": [
    "y_pred_train_gd = gbcl.predict(x_train)\n",
    "y_pred_test_gd = gbcl.predict(x_test)"
   ]
  },
  {
   "cell_type": "code",
   "execution_count": 48,
   "id": "d284e009",
   "metadata": {},
   "outputs": [
    {
     "name": "stdout",
     "output_type": "stream",
     "text": [
      "              precision    recall  f1-score   support\n",
      "\n",
      "           0       1.00      1.00      1.00     42641\n",
      "           1       0.97      0.87      0.92        79\n",
      "\n",
      "    accuracy                           1.00     42720\n",
      "   macro avg       0.99      0.94      0.96     42720\n",
      "weighted avg       1.00      1.00      1.00     42720\n",
      "\n",
      "*************************************************************************************************************************************************\n",
      "              precision    recall  f1-score   support\n",
      "\n",
      "           0       1.00      1.00      1.00     14214\n",
      "           1       0.83      0.70      0.76        27\n",
      "\n",
      "    accuracy                           1.00     14241\n",
      "   macro avg       0.91      0.85      0.88     14241\n",
      "weighted avg       1.00      1.00      1.00     14241\n",
      "\n"
     ]
    }
   ],
   "source": [
    "print(classification_report(y_train, y_pred_train_gd))\n",
    "print(\"*****************************\"*5)\n",
    "print(classification_report(y_test, y_pred_test_gd))"
   ]
  },
  {
   "cell_type": "markdown",
   "id": "fb66b33b",
   "metadata": {},
   "source": [
    "# XGBoost"
   ]
  },
  {
   "cell_type": "code",
   "execution_count": 49,
   "id": "64476130",
   "metadata": {},
   "outputs": [
    {
     "name": "stdout",
     "output_type": "stream",
     "text": [
      "[13:15:58] WARNING: C:\\Windows\\Temp\\abs_557yfx631l\\croots\\recipe\\xgboost-split_1659548953302\\work\\src\\learner.cc:1115: Starting in XGBoost 1.3.0, the default evaluation metric used with the objective 'binary:logistic' was changed from 'error' to 'logloss'. Explicitly set eval_metric if you'd like to restore the old behavior.\n"
     ]
    },
    {
     "data": {
      "text/plain": [
       "XGBClassifier(base_score=0.5, booster='gbtree', colsample_bylevel=1,\n",
       "              colsample_bynode=1, colsample_bytree=1, enable_categorical=False,\n",
       "              gamma=0, gpu_id=-1, importance_type=None,\n",
       "              interaction_constraints='', learning_rate=0.300000012,\n",
       "              max_delta_step=0, max_depth=6, min_child_weight=1, missing=nan,\n",
       "              monotone_constraints='()', n_estimators=100, n_jobs=12,\n",
       "              num_parallel_tree=1, predictor='auto', random_state=0,\n",
       "              reg_alpha=0, reg_lambda=1, scale_pos_weight=1, subsample=1,\n",
       "              tree_method='exact', validate_parameters=1, verbosity=None)"
      ]
     },
     "execution_count": 49,
     "metadata": {},
     "output_type": "execute_result"
    }
   ],
   "source": [
    "from xgboost import XGBClassifier\n",
    "xgbcl = XGBClassifier()\n",
    "xgbcl.fit(x_train, y_train)"
   ]
  },
  {
   "cell_type": "code",
   "execution_count": 50,
   "id": "0e0411c7",
   "metadata": {},
   "outputs": [],
   "source": [
    "y_pred_train_xgb = xgbcl.predict(x_train)\n",
    "y_pred_test_xgb = xgbcl.predict(x_test)"
   ]
  },
  {
   "cell_type": "code",
   "execution_count": 51,
   "id": "90156e78",
   "metadata": {},
   "outputs": [
    {
     "name": "stdout",
     "output_type": "stream",
     "text": [
      "              precision    recall  f1-score   support\n",
      "\n",
      "           0       1.00      1.00      1.00     42641\n",
      "           1       1.00      1.00      1.00        79\n",
      "\n",
      "    accuracy                           1.00     42720\n",
      "   macro avg       1.00      1.00      1.00     42720\n",
      "weighted avg       1.00      1.00      1.00     42720\n",
      "\n",
      "*************************************************************************************************************************************************\n",
      "              precision    recall  f1-score   support\n",
      "\n",
      "           0       1.00      1.00      1.00     14214\n",
      "           1       0.96      0.85      0.90        27\n",
      "\n",
      "    accuracy                           1.00     14241\n",
      "   macro avg       0.98      0.93      0.95     14241\n",
      "weighted avg       1.00      1.00      1.00     14241\n",
      "\n"
     ]
    }
   ],
   "source": [
    "print(classification_report(y_train, y_pred_train_xgb))\n",
    "print(\"*****************************\"*5)\n",
    "print(classification_report(y_test, y_pred_test_xgb))"
   ]
  },
  {
   "cell_type": "code",
   "execution_count": null,
   "id": "01e123fd",
   "metadata": {},
   "outputs": [],
   "source": []
  },
  {
   "cell_type": "markdown",
   "id": "dcddb5cd",
   "metadata": {},
   "source": [
    "# IsolationForest, LocalOutlierFactor, OneClassSVM"
   ]
  },
  {
   "cell_type": "code",
   "execution_count": 52,
   "id": "0ff876aa",
   "metadata": {},
   "outputs": [],
   "source": [
    "from sklearn.ensemble import IsolationForest\n",
    "from sklearn.neighbors import LocalOutlierFactor\n",
    "from sklearn.svm import OneClassSVM"
   ]
  },
  {
   "cell_type": "code",
   "execution_count": 53,
   "id": "0cffb678",
   "metadata": {},
   "outputs": [],
   "source": [
    "# here we are classifying the models and its parameters which we have derived before..\n",
    "Classification = {\"Isolation Forest\" : IsolationForest(max_samples=len(columns),\n",
    "                                                     contamination=outlier_fraction),\n",
    "                 \n",
    "                 \"Local Outlier Factor\" : LocalOutlierFactor(contamination=outlier_fraction),\n",
    "                 \n",
    "                 \"One Class SVM\" : OneClassSVM()}\n",
    "\n",
    "# max_samples=len(column)..  this is because we have targeted the target variable with variable name (column)..."
   ]
  },
  {
   "cell_type": "code",
   "execution_count": 54,
   "id": "b83001d0",
   "metadata": {},
   "outputs": [
    {
     "name": "stdout",
     "output_type": "stream",
     "text": [
      "Isolation Forest : 146\n",
      "Accuracy Score :\n",
      "0.9974368427520585\n",
      "Classification Report :\n",
      "              precision    recall  f1-score   support\n",
      "\n",
      "           0       1.00      1.00      1.00     56855\n",
      "           1       0.31      0.31      0.31       106\n",
      "\n",
      "    accuracy                           1.00     56961\n",
      "   macro avg       0.66      0.66      0.66     56961\n",
      "weighted avg       1.00      1.00      1.00     56961\n",
      "\n",
      "Local Outlier Factor : 170\n",
      "Accuracy Score :\n",
      "0.9970155018345885\n",
      "Classification Report :\n",
      "              precision    recall  f1-score   support\n",
      "\n",
      "           0       1.00      1.00      1.00     56855\n",
      "           1       0.20      0.20      0.20       106\n",
      "\n",
      "    accuracy                           1.00     56961\n",
      "   macro avg       0.60      0.60      0.60     56961\n",
      "weighted avg       1.00      1.00      1.00     56961\n",
      "\n",
      "One Class SVM : 28403\n",
      "Accuracy Score :\n",
      "0.5013605800459964\n",
      "Classification Report :\n",
      "              precision    recall  f1-score   support\n",
      "\n",
      "           0       1.00      0.50      0.67     56855\n",
      "           1       0.00      0.87      0.01       106\n",
      "\n",
      "    accuracy                           0.50     56961\n",
      "   macro avg       0.50      0.68      0.34     56961\n",
      "weighted avg       1.00      0.50      0.67     56961\n",
      "\n"
     ]
    }
   ],
   "source": [
    "# here we calling the models and giving the dataset attributes..\n",
    "n_outlier = len(fraud)\n",
    "\n",
    "for i, (clf_name, clf) in enumerate(Classification.items()):       # calling the model from dictionary by using items keywords..\n",
    "    if clf_name =='Local Outlier Factor' :\n",
    "        y_pred = clf.fit_predict(columns)\n",
    "        score_prediction = clf.negative_outlier_factor_\n",
    "        \n",
    "    elif clf_name =='One Class SVM' :\n",
    "        clf.fit(columns)\n",
    "        y_pred = clf.predict(columns)\n",
    "        \n",
    "    else:\n",
    "        clf.fit(columns)\n",
    "        score_prediction = clf.decision_function(columns)\n",
    "        y_pred = clf.predict(columns)\n",
    "        \n",
    "    y_pred[y_pred==1] = 0\n",
    "    y_pred[y_pred==-1] = 1\n",
    "    n_error = (y_pred !=target).sum()\n",
    "    \n",
    "    print(\"{} : {}\".format(clf_name, n_error))\n",
    "    print(\"Accuracy Score :\")\n",
    "    \n",
    "    print(accuracy_score(target, y_pred))\n",
    "    print(\"Classification Report :\")\n",
    "    print(classification_report(target, y_pred))"
   ]
  },
  {
   "cell_type": "code",
   "execution_count": null,
   "id": "edf09407",
   "metadata": {},
   "outputs": [],
   "source": []
  },
  {
   "cell_type": "code",
   "execution_count": null,
   "id": "56aab8f3",
   "metadata": {},
   "outputs": [],
   "source": []
  },
  {
   "cell_type": "code",
   "execution_count": null,
   "id": "a1fe3c0f",
   "metadata": {},
   "outputs": [],
   "source": []
  }
 ],
 "metadata": {
  "kernelspec": {
   "display_name": "Python 3 (ipykernel)",
   "language": "python",
   "name": "python3"
  },
  "language_info": {
   "codemirror_mode": {
    "name": "ipython",
    "version": 3
   },
   "file_extension": ".py",
   "mimetype": "text/x-python",
   "name": "python",
   "nbconvert_exporter": "python",
   "pygments_lexer": "ipython3",
   "version": "3.9.12"
  }
 },
 "nbformat": 4,
 "nbformat_minor": 5
}
