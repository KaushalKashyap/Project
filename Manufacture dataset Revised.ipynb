{
 "cells": [
  {
   "cell_type": "code",
   "execution_count": 1,
   "id": "6b7d6e20",
   "metadata": {},
   "outputs": [
    {
     "data": {
      "text/plain": [
       "'C:\\\\Users\\\\kanur\\\\Desktop\\\\Projects\\\\production management'"
      ]
     },
     "execution_count": 1,
     "metadata": {},
     "output_type": "execute_result"
    }
   ],
   "source": [
    "import os\n",
    "os.getcwd()"
   ]
  },
  {
   "cell_type": "code",
   "execution_count": 2,
   "id": "a183296f",
   "metadata": {},
   "outputs": [
    {
     "data": {
      "text/plain": [
       "\"\\nimport warnings\\nwarnings.filterwarnings('ignore')\\n\""
      ]
     },
     "execution_count": 2,
     "metadata": {},
     "output_type": "execute_result"
    }
   ],
   "source": [
    "import numpy as np\n",
    "import pandas as pd\n",
    "import matplotlib.pyplot as plt\n",
    "import seaborn as sns\n",
    "sns.set()\n",
    "%matplotlib inline\n",
    "\n",
    "\"\"\"\n",
    "import warnings\n",
    "warnings.filterwarnings('ignore')\n",
    "\"\"\""
   ]
  },
  {
   "cell_type": "code",
   "execution_count": 3,
   "id": "8e9b2c77",
   "metadata": {},
   "outputs": [
    {
     "data": {
      "text/html": [
       "<div>\n",
       "<style scoped>\n",
       "    .dataframe tbody tr th:only-of-type {\n",
       "        vertical-align: middle;\n",
       "    }\n",
       "\n",
       "    .dataframe tbody tr th {\n",
       "        vertical-align: top;\n",
       "    }\n",
       "\n",
       "    .dataframe thead th {\n",
       "        text-align: right;\n",
       "    }\n",
       "</style>\n",
       "<table border=\"1\" class=\"dataframe\">\n",
       "  <thead>\n",
       "    <tr style=\"text-align: right;\">\n",
       "      <th></th>\n",
       "      <th>Time</th>\n",
       "      <th>0</th>\n",
       "      <th>1</th>\n",
       "      <th>2</th>\n",
       "      <th>3</th>\n",
       "      <th>4</th>\n",
       "      <th>5</th>\n",
       "      <th>6</th>\n",
       "      <th>7</th>\n",
       "      <th>8</th>\n",
       "      <th>...</th>\n",
       "      <th>581</th>\n",
       "      <th>582</th>\n",
       "      <th>583</th>\n",
       "      <th>584</th>\n",
       "      <th>585</th>\n",
       "      <th>586</th>\n",
       "      <th>587</th>\n",
       "      <th>588</th>\n",
       "      <th>589</th>\n",
       "      <th>Pass/Fail</th>\n",
       "    </tr>\n",
       "  </thead>\n",
       "  <tbody>\n",
       "    <tr>\n",
       "      <th>0</th>\n",
       "      <td>2008-07-19 11:55:00</td>\n",
       "      <td>3030.93</td>\n",
       "      <td>2564.00</td>\n",
       "      <td>2187.7333</td>\n",
       "      <td>1411.1265</td>\n",
       "      <td>1.3602</td>\n",
       "      <td>100.0</td>\n",
       "      <td>97.6133</td>\n",
       "      <td>0.1242</td>\n",
       "      <td>1.5005</td>\n",
       "      <td>...</td>\n",
       "      <td>NaN</td>\n",
       "      <td>0.5005</td>\n",
       "      <td>0.0118</td>\n",
       "      <td>0.0035</td>\n",
       "      <td>2.3630</td>\n",
       "      <td>NaN</td>\n",
       "      <td>NaN</td>\n",
       "      <td>NaN</td>\n",
       "      <td>NaN</td>\n",
       "      <td>-1</td>\n",
       "    </tr>\n",
       "    <tr>\n",
       "      <th>1</th>\n",
       "      <td>2008-07-19 12:32:00</td>\n",
       "      <td>3095.78</td>\n",
       "      <td>2465.14</td>\n",
       "      <td>2230.4222</td>\n",
       "      <td>1463.6606</td>\n",
       "      <td>0.8294</td>\n",
       "      <td>100.0</td>\n",
       "      <td>102.3433</td>\n",
       "      <td>0.1247</td>\n",
       "      <td>1.4966</td>\n",
       "      <td>...</td>\n",
       "      <td>208.2045</td>\n",
       "      <td>0.5019</td>\n",
       "      <td>0.0223</td>\n",
       "      <td>0.0055</td>\n",
       "      <td>4.4447</td>\n",
       "      <td>0.0096</td>\n",
       "      <td>0.0201</td>\n",
       "      <td>0.0060</td>\n",
       "      <td>208.2045</td>\n",
       "      <td>-1</td>\n",
       "    </tr>\n",
       "    <tr>\n",
       "      <th>2</th>\n",
       "      <td>2008-07-19 13:17:00</td>\n",
       "      <td>2932.61</td>\n",
       "      <td>2559.94</td>\n",
       "      <td>2186.4111</td>\n",
       "      <td>1698.0172</td>\n",
       "      <td>1.5102</td>\n",
       "      <td>100.0</td>\n",
       "      <td>95.4878</td>\n",
       "      <td>0.1241</td>\n",
       "      <td>1.4436</td>\n",
       "      <td>...</td>\n",
       "      <td>82.8602</td>\n",
       "      <td>0.4958</td>\n",
       "      <td>0.0157</td>\n",
       "      <td>0.0039</td>\n",
       "      <td>3.1745</td>\n",
       "      <td>0.0584</td>\n",
       "      <td>0.0484</td>\n",
       "      <td>0.0148</td>\n",
       "      <td>82.8602</td>\n",
       "      <td>1</td>\n",
       "    </tr>\n",
       "    <tr>\n",
       "      <th>3</th>\n",
       "      <td>2008-07-19 14:43:00</td>\n",
       "      <td>2988.72</td>\n",
       "      <td>2479.90</td>\n",
       "      <td>2199.0333</td>\n",
       "      <td>909.7926</td>\n",
       "      <td>1.3204</td>\n",
       "      <td>100.0</td>\n",
       "      <td>104.2367</td>\n",
       "      <td>0.1217</td>\n",
       "      <td>1.4882</td>\n",
       "      <td>...</td>\n",
       "      <td>73.8432</td>\n",
       "      <td>0.4990</td>\n",
       "      <td>0.0103</td>\n",
       "      <td>0.0025</td>\n",
       "      <td>2.0544</td>\n",
       "      <td>0.0202</td>\n",
       "      <td>0.0149</td>\n",
       "      <td>0.0044</td>\n",
       "      <td>73.8432</td>\n",
       "      <td>-1</td>\n",
       "    </tr>\n",
       "    <tr>\n",
       "      <th>4</th>\n",
       "      <td>2008-07-19 15:22:00</td>\n",
       "      <td>3032.24</td>\n",
       "      <td>2502.87</td>\n",
       "      <td>2233.3667</td>\n",
       "      <td>1326.5200</td>\n",
       "      <td>1.5334</td>\n",
       "      <td>100.0</td>\n",
       "      <td>100.3967</td>\n",
       "      <td>0.1235</td>\n",
       "      <td>1.5031</td>\n",
       "      <td>...</td>\n",
       "      <td>NaN</td>\n",
       "      <td>0.4800</td>\n",
       "      <td>0.4766</td>\n",
       "      <td>0.1045</td>\n",
       "      <td>99.3032</td>\n",
       "      <td>0.0202</td>\n",
       "      <td>0.0149</td>\n",
       "      <td>0.0044</td>\n",
       "      <td>73.8432</td>\n",
       "      <td>-1</td>\n",
       "    </tr>\n",
       "  </tbody>\n",
       "</table>\n",
       "<p>5 rows × 592 columns</p>\n",
       "</div>"
      ],
      "text/plain": [
       "                  Time        0        1          2          3       4      5  \\\n",
       "0  2008-07-19 11:55:00  3030.93  2564.00  2187.7333  1411.1265  1.3602  100.0   \n",
       "1  2008-07-19 12:32:00  3095.78  2465.14  2230.4222  1463.6606  0.8294  100.0   \n",
       "2  2008-07-19 13:17:00  2932.61  2559.94  2186.4111  1698.0172  1.5102  100.0   \n",
       "3  2008-07-19 14:43:00  2988.72  2479.90  2199.0333   909.7926  1.3204  100.0   \n",
       "4  2008-07-19 15:22:00  3032.24  2502.87  2233.3667  1326.5200  1.5334  100.0   \n",
       "\n",
       "          6       7       8  ...       581     582     583     584      585  \\\n",
       "0   97.6133  0.1242  1.5005  ...       NaN  0.5005  0.0118  0.0035   2.3630   \n",
       "1  102.3433  0.1247  1.4966  ...  208.2045  0.5019  0.0223  0.0055   4.4447   \n",
       "2   95.4878  0.1241  1.4436  ...   82.8602  0.4958  0.0157  0.0039   3.1745   \n",
       "3  104.2367  0.1217  1.4882  ...   73.8432  0.4990  0.0103  0.0025   2.0544   \n",
       "4  100.3967  0.1235  1.5031  ...       NaN  0.4800  0.4766  0.1045  99.3032   \n",
       "\n",
       "      586     587     588       589  Pass/Fail  \n",
       "0     NaN     NaN     NaN       NaN         -1  \n",
       "1  0.0096  0.0201  0.0060  208.2045         -1  \n",
       "2  0.0584  0.0484  0.0148   82.8602          1  \n",
       "3  0.0202  0.0149  0.0044   73.8432         -1  \n",
       "4  0.0202  0.0149  0.0044   73.8432         -1  \n",
       "\n",
       "[5 rows x 592 columns]"
      ]
     },
     "execution_count": 3,
     "metadata": {},
     "output_type": "execute_result"
    }
   ],
   "source": [
    "data = pd.read_csv(\"manufacturing dataset.csv\")\n",
    "dataset = pd.DataFrame(data)\n",
    "dataset.head()"
   ]
  },
  {
   "cell_type": "code",
   "execution_count": 4,
   "id": "919618be",
   "metadata": {},
   "outputs": [
    {
     "data": {
      "text/plain": [
       "(1567, 592)"
      ]
     },
     "execution_count": 4,
     "metadata": {},
     "output_type": "execute_result"
    }
   ],
   "source": [
    "dataset.shape"
   ]
  },
  {
   "cell_type": "code",
   "execution_count": 5,
   "id": "00ac9c51",
   "metadata": {},
   "outputs": [
    {
     "data": {
      "text/plain": [
       "Index(['Time', '0', '1', '2', '3', '4', '5', '6', '7', '8',\n",
       "       ...\n",
       "       '581', '582', '583', '584', '585', '586', '587', '588', '589',\n",
       "       'Pass/Fail'],\n",
       "      dtype='object', length=592)"
      ]
     },
     "execution_count": 5,
     "metadata": {},
     "output_type": "execute_result"
    }
   ],
   "source": [
    "dataset.columns"
   ]
  },
  {
   "cell_type": "code",
   "execution_count": 6,
   "id": "904bbcba",
   "metadata": {},
   "outputs": [],
   "source": [
    "dataset.columns = 'features_'+dataset.columns"
   ]
  },
  {
   "cell_type": "code",
   "execution_count": 7,
   "id": "6d98cba8",
   "metadata": {},
   "outputs": [
    {
     "data": {
      "text/html": [
       "<div>\n",
       "<style scoped>\n",
       "    .dataframe tbody tr th:only-of-type {\n",
       "        vertical-align: middle;\n",
       "    }\n",
       "\n",
       "    .dataframe tbody tr th {\n",
       "        vertical-align: top;\n",
       "    }\n",
       "\n",
       "    .dataframe thead th {\n",
       "        text-align: right;\n",
       "    }\n",
       "</style>\n",
       "<table border=\"1\" class=\"dataframe\">\n",
       "  <thead>\n",
       "    <tr style=\"text-align: right;\">\n",
       "      <th></th>\n",
       "      <th>features_Time</th>\n",
       "      <th>features_0</th>\n",
       "      <th>features_1</th>\n",
       "      <th>features_2</th>\n",
       "      <th>features_3</th>\n",
       "      <th>features_4</th>\n",
       "      <th>features_5</th>\n",
       "      <th>features_6</th>\n",
       "      <th>features_7</th>\n",
       "      <th>features_8</th>\n",
       "      <th>...</th>\n",
       "      <th>features_581</th>\n",
       "      <th>features_582</th>\n",
       "      <th>features_583</th>\n",
       "      <th>features_584</th>\n",
       "      <th>features_585</th>\n",
       "      <th>features_586</th>\n",
       "      <th>features_587</th>\n",
       "      <th>features_588</th>\n",
       "      <th>features_589</th>\n",
       "      <th>features_Pass/Fail</th>\n",
       "    </tr>\n",
       "  </thead>\n",
       "  <tbody>\n",
       "    <tr>\n",
       "      <th>0</th>\n",
       "      <td>2008-07-19 11:55:00</td>\n",
       "      <td>3030.93</td>\n",
       "      <td>2564.0</td>\n",
       "      <td>2187.7333</td>\n",
       "      <td>1411.1265</td>\n",
       "      <td>1.3602</td>\n",
       "      <td>100.0</td>\n",
       "      <td>97.6133</td>\n",
       "      <td>0.1242</td>\n",
       "      <td>1.5005</td>\n",
       "      <td>...</td>\n",
       "      <td>NaN</td>\n",
       "      <td>0.5005</td>\n",
       "      <td>0.0118</td>\n",
       "      <td>0.0035</td>\n",
       "      <td>2.363</td>\n",
       "      <td>NaN</td>\n",
       "      <td>NaN</td>\n",
       "      <td>NaN</td>\n",
       "      <td>NaN</td>\n",
       "      <td>-1</td>\n",
       "    </tr>\n",
       "  </tbody>\n",
       "</table>\n",
       "<p>1 rows × 592 columns</p>\n",
       "</div>"
      ],
      "text/plain": [
       "         features_Time  features_0  features_1  features_2  features_3  \\\n",
       "0  2008-07-19 11:55:00     3030.93      2564.0   2187.7333   1411.1265   \n",
       "\n",
       "   features_4  features_5  features_6  features_7  features_8  ...  \\\n",
       "0      1.3602       100.0     97.6133      0.1242      1.5005  ...   \n",
       "\n",
       "   features_581  features_582  features_583  features_584  features_585  \\\n",
       "0           NaN        0.5005        0.0118        0.0035         2.363   \n",
       "\n",
       "   features_586  features_587  features_588  features_589  features_Pass/Fail  \n",
       "0           NaN           NaN           NaN           NaN                  -1  \n",
       "\n",
       "[1 rows x 592 columns]"
      ]
     },
     "execution_count": 7,
     "metadata": {},
     "output_type": "execute_result"
    }
   ],
   "source": [
    "dataset.head(1)"
   ]
  },
  {
   "cell_type": "code",
   "execution_count": 8,
   "id": "1c5a046e",
   "metadata": {},
   "outputs": [],
   "source": [
    "dataset.rename(columns = {'features_Time': 'Time'}, inplace=True)\n",
    "dataset.rename(columns = {'features_Pass/Fail': 'Pass_Fail'}, inplace=True)"
   ]
  },
  {
   "cell_type": "code",
   "execution_count": 9,
   "id": "8ba7c51b",
   "metadata": {},
   "outputs": [
    {
     "data": {
      "text/html": [
       "<div>\n",
       "<style scoped>\n",
       "    .dataframe tbody tr th:only-of-type {\n",
       "        vertical-align: middle;\n",
       "    }\n",
       "\n",
       "    .dataframe tbody tr th {\n",
       "        vertical-align: top;\n",
       "    }\n",
       "\n",
       "    .dataframe thead th {\n",
       "        text-align: right;\n",
       "    }\n",
       "</style>\n",
       "<table border=\"1\" class=\"dataframe\">\n",
       "  <thead>\n",
       "    <tr style=\"text-align: right;\">\n",
       "      <th></th>\n",
       "      <th>Time</th>\n",
       "      <th>features_0</th>\n",
       "      <th>features_1</th>\n",
       "      <th>features_2</th>\n",
       "      <th>features_3</th>\n",
       "      <th>features_4</th>\n",
       "      <th>features_5</th>\n",
       "      <th>features_6</th>\n",
       "      <th>features_7</th>\n",
       "      <th>features_8</th>\n",
       "      <th>...</th>\n",
       "      <th>features_581</th>\n",
       "      <th>features_582</th>\n",
       "      <th>features_583</th>\n",
       "      <th>features_584</th>\n",
       "      <th>features_585</th>\n",
       "      <th>features_586</th>\n",
       "      <th>features_587</th>\n",
       "      <th>features_588</th>\n",
       "      <th>features_589</th>\n",
       "      <th>Pass_Fail</th>\n",
       "    </tr>\n",
       "  </thead>\n",
       "  <tbody>\n",
       "    <tr>\n",
       "      <th>0</th>\n",
       "      <td>2008-07-19 11:55:00</td>\n",
       "      <td>3030.93</td>\n",
       "      <td>2564.0</td>\n",
       "      <td>2187.7333</td>\n",
       "      <td>1411.1265</td>\n",
       "      <td>1.3602</td>\n",
       "      <td>100.0</td>\n",
       "      <td>97.6133</td>\n",
       "      <td>0.1242</td>\n",
       "      <td>1.5005</td>\n",
       "      <td>...</td>\n",
       "      <td>NaN</td>\n",
       "      <td>0.5005</td>\n",
       "      <td>0.0118</td>\n",
       "      <td>0.0035</td>\n",
       "      <td>2.363</td>\n",
       "      <td>NaN</td>\n",
       "      <td>NaN</td>\n",
       "      <td>NaN</td>\n",
       "      <td>NaN</td>\n",
       "      <td>-1</td>\n",
       "    </tr>\n",
       "  </tbody>\n",
       "</table>\n",
       "<p>1 rows × 592 columns</p>\n",
       "</div>"
      ],
      "text/plain": [
       "                  Time  features_0  features_1  features_2  features_3  \\\n",
       "0  2008-07-19 11:55:00     3030.93      2564.0   2187.7333   1411.1265   \n",
       "\n",
       "   features_4  features_5  features_6  features_7  features_8  ...  \\\n",
       "0      1.3602       100.0     97.6133      0.1242      1.5005  ...   \n",
       "\n",
       "   features_581  features_582  features_583  features_584  features_585  \\\n",
       "0           NaN        0.5005        0.0118        0.0035         2.363   \n",
       "\n",
       "   features_586  features_587  features_588  features_589  Pass_Fail  \n",
       "0           NaN           NaN           NaN           NaN         -1  \n",
       "\n",
       "[1 rows x 592 columns]"
      ]
     },
     "execution_count": 9,
     "metadata": {},
     "output_type": "execute_result"
    }
   ],
   "source": [
    "dataset.head(1)"
   ]
  },
  {
   "cell_type": "code",
   "execution_count": 10,
   "id": "ef608224",
   "metadata": {},
   "outputs": [
    {
     "name": "stdout",
     "output_type": "stream",
     "text": [
      "<class 'pandas.core.frame.DataFrame'>\n",
      "RangeIndex: 1567 entries, 0 to 1566\n",
      "Columns: 592 entries, Time to Pass_Fail\n",
      "dtypes: float64(590), int64(1), object(1)\n",
      "memory usage: 7.1+ MB\n"
     ]
    }
   ],
   "source": [
    "dataset.info()"
   ]
  },
  {
   "cell_type": "code",
   "execution_count": 11,
   "id": "c5319abf",
   "metadata": {},
   "outputs": [
    {
     "data": {
      "text/plain": [
       "Time             object\n",
       "features_0      float64\n",
       "features_1      float64\n",
       "features_2      float64\n",
       "features_3      float64\n",
       "                 ...   \n",
       "features_586    float64\n",
       "features_587    float64\n",
       "features_588    float64\n",
       "features_589    float64\n",
       "Pass_Fail         int64\n",
       "Length: 592, dtype: object"
      ]
     },
     "execution_count": 11,
     "metadata": {},
     "output_type": "execute_result"
    }
   ],
   "source": [
    "dataset.dtypes"
   ]
  },
  {
   "cell_type": "code",
   "execution_count": 12,
   "id": "71efe087",
   "metadata": {},
   "outputs": [
    {
     "data": {
      "text/html": [
       "<div>\n",
       "<style scoped>\n",
       "    .dataframe tbody tr th:only-of-type {\n",
       "        vertical-align: middle;\n",
       "    }\n",
       "\n",
       "    .dataframe tbody tr th {\n",
       "        vertical-align: top;\n",
       "    }\n",
       "\n",
       "    .dataframe thead th {\n",
       "        text-align: right;\n",
       "    }\n",
       "</style>\n",
       "<table border=\"1\" class=\"dataframe\">\n",
       "  <thead>\n",
       "    <tr style=\"text-align: right;\">\n",
       "      <th></th>\n",
       "      <th>count</th>\n",
       "      <th>mean</th>\n",
       "      <th>std</th>\n",
       "      <th>min</th>\n",
       "      <th>25%</th>\n",
       "      <th>50%</th>\n",
       "      <th>75%</th>\n",
       "      <th>max</th>\n",
       "    </tr>\n",
       "  </thead>\n",
       "  <tbody>\n",
       "    <tr>\n",
       "      <th>features_0</th>\n",
       "      <td>1561.0</td>\n",
       "      <td>3014.452896</td>\n",
       "      <td>73.621787</td>\n",
       "      <td>2743.2400</td>\n",
       "      <td>2966.260000</td>\n",
       "      <td>3011.4900</td>\n",
       "      <td>3056.6500</td>\n",
       "      <td>3356.3500</td>\n",
       "    </tr>\n",
       "    <tr>\n",
       "      <th>features_1</th>\n",
       "      <td>1560.0</td>\n",
       "      <td>2495.850231</td>\n",
       "      <td>80.407705</td>\n",
       "      <td>2158.7500</td>\n",
       "      <td>2452.247500</td>\n",
       "      <td>2499.4050</td>\n",
       "      <td>2538.8225</td>\n",
       "      <td>2846.4400</td>\n",
       "    </tr>\n",
       "    <tr>\n",
       "      <th>features_2</th>\n",
       "      <td>1553.0</td>\n",
       "      <td>2200.547318</td>\n",
       "      <td>29.513152</td>\n",
       "      <td>2060.6600</td>\n",
       "      <td>2181.044400</td>\n",
       "      <td>2201.0667</td>\n",
       "      <td>2218.0555</td>\n",
       "      <td>2315.2667</td>\n",
       "    </tr>\n",
       "    <tr>\n",
       "      <th>features_3</th>\n",
       "      <td>1553.0</td>\n",
       "      <td>1396.376627</td>\n",
       "      <td>441.691640</td>\n",
       "      <td>0.0000</td>\n",
       "      <td>1081.875800</td>\n",
       "      <td>1285.2144</td>\n",
       "      <td>1591.2235</td>\n",
       "      <td>3715.0417</td>\n",
       "    </tr>\n",
       "    <tr>\n",
       "      <th>features_4</th>\n",
       "      <td>1553.0</td>\n",
       "      <td>4.197013</td>\n",
       "      <td>56.355540</td>\n",
       "      <td>0.6815</td>\n",
       "      <td>1.017700</td>\n",
       "      <td>1.3168</td>\n",
       "      <td>1.5257</td>\n",
       "      <td>1114.5366</td>\n",
       "    </tr>\n",
       "    <tr>\n",
       "      <th>...</th>\n",
       "      <td>...</td>\n",
       "      <td>...</td>\n",
       "      <td>...</td>\n",
       "      <td>...</td>\n",
       "      <td>...</td>\n",
       "      <td>...</td>\n",
       "      <td>...</td>\n",
       "      <td>...</td>\n",
       "    </tr>\n",
       "    <tr>\n",
       "      <th>features_586</th>\n",
       "      <td>1566.0</td>\n",
       "      <td>0.021458</td>\n",
       "      <td>0.012358</td>\n",
       "      <td>-0.0169</td>\n",
       "      <td>0.013425</td>\n",
       "      <td>0.0205</td>\n",
       "      <td>0.0276</td>\n",
       "      <td>0.1028</td>\n",
       "    </tr>\n",
       "    <tr>\n",
       "      <th>features_587</th>\n",
       "      <td>1566.0</td>\n",
       "      <td>0.016475</td>\n",
       "      <td>0.008808</td>\n",
       "      <td>0.0032</td>\n",
       "      <td>0.010600</td>\n",
       "      <td>0.0148</td>\n",
       "      <td>0.0203</td>\n",
       "      <td>0.0799</td>\n",
       "    </tr>\n",
       "    <tr>\n",
       "      <th>features_588</th>\n",
       "      <td>1566.0</td>\n",
       "      <td>0.005283</td>\n",
       "      <td>0.002867</td>\n",
       "      <td>0.0010</td>\n",
       "      <td>0.003300</td>\n",
       "      <td>0.0046</td>\n",
       "      <td>0.0064</td>\n",
       "      <td>0.0286</td>\n",
       "    </tr>\n",
       "    <tr>\n",
       "      <th>features_589</th>\n",
       "      <td>1566.0</td>\n",
       "      <td>99.670066</td>\n",
       "      <td>93.891919</td>\n",
       "      <td>0.0000</td>\n",
       "      <td>44.368600</td>\n",
       "      <td>71.9005</td>\n",
       "      <td>114.7497</td>\n",
       "      <td>737.3048</td>\n",
       "    </tr>\n",
       "    <tr>\n",
       "      <th>Pass_Fail</th>\n",
       "      <td>1567.0</td>\n",
       "      <td>-0.867262</td>\n",
       "      <td>0.498010</td>\n",
       "      <td>-1.0000</td>\n",
       "      <td>-1.000000</td>\n",
       "      <td>-1.0000</td>\n",
       "      <td>-1.0000</td>\n",
       "      <td>1.0000</td>\n",
       "    </tr>\n",
       "  </tbody>\n",
       "</table>\n",
       "<p>591 rows × 8 columns</p>\n",
       "</div>"
      ],
      "text/plain": [
       "               count         mean         std        min          25%  \\\n",
       "features_0    1561.0  3014.452896   73.621787  2743.2400  2966.260000   \n",
       "features_1    1560.0  2495.850231   80.407705  2158.7500  2452.247500   \n",
       "features_2    1553.0  2200.547318   29.513152  2060.6600  2181.044400   \n",
       "features_3    1553.0  1396.376627  441.691640     0.0000  1081.875800   \n",
       "features_4    1553.0     4.197013   56.355540     0.6815     1.017700   \n",
       "...              ...          ...         ...        ...          ...   \n",
       "features_586  1566.0     0.021458    0.012358    -0.0169     0.013425   \n",
       "features_587  1566.0     0.016475    0.008808     0.0032     0.010600   \n",
       "features_588  1566.0     0.005283    0.002867     0.0010     0.003300   \n",
       "features_589  1566.0    99.670066   93.891919     0.0000    44.368600   \n",
       "Pass_Fail     1567.0    -0.867262    0.498010    -1.0000    -1.000000   \n",
       "\n",
       "                    50%        75%        max  \n",
       "features_0    3011.4900  3056.6500  3356.3500  \n",
       "features_1    2499.4050  2538.8225  2846.4400  \n",
       "features_2    2201.0667  2218.0555  2315.2667  \n",
       "features_3    1285.2144  1591.2235  3715.0417  \n",
       "features_4       1.3168     1.5257  1114.5366  \n",
       "...                 ...        ...        ...  \n",
       "features_586     0.0205     0.0276     0.1028  \n",
       "features_587     0.0148     0.0203     0.0799  \n",
       "features_588     0.0046     0.0064     0.0286  \n",
       "features_589    71.9005   114.7497   737.3048  \n",
       "Pass_Fail       -1.0000    -1.0000     1.0000  \n",
       "\n",
       "[591 rows x 8 columns]"
      ]
     },
     "execution_count": 12,
     "metadata": {},
     "output_type": "execute_result"
    }
   ],
   "source": [
    "dataset.describe().transpose()"
   ]
  },
  {
   "cell_type": "code",
   "execution_count": 13,
   "id": "ea1b5e5b",
   "metadata": {},
   "outputs": [
    {
     "data": {
      "text/plain": [
       "Time             0\n",
       "features_0       6\n",
       "features_1       7\n",
       "features_2      14\n",
       "features_3      14\n",
       "                ..\n",
       "features_586     1\n",
       "features_587     1\n",
       "features_588     1\n",
       "features_589     1\n",
       "Pass_Fail        0\n",
       "Length: 592, dtype: int64"
      ]
     },
     "execution_count": 13,
     "metadata": {},
     "output_type": "execute_result"
    }
   ],
   "source": [
    "dataset.isnull().sum()"
   ]
  },
  {
   "cell_type": "code",
   "execution_count": 14,
   "id": "610bbc99",
   "metadata": {},
   "outputs": [
    {
     "data": {
      "text/plain": [
       "Time             0\n",
       "features_0       6\n",
       "features_1       7\n",
       "features_2      14\n",
       "features_3      14\n",
       "                ..\n",
       "features_586     1\n",
       "features_587     1\n",
       "features_588     1\n",
       "features_589     1\n",
       "Pass_Fail        0\n",
       "Length: 592, dtype: int64"
      ]
     },
     "execution_count": 14,
     "metadata": {},
     "output_type": "execute_result"
    }
   ],
   "source": [
    "dataset.isna().sum()"
   ]
  },
  {
   "cell_type": "code",
   "execution_count": 15,
   "id": "366c6602",
   "metadata": {},
   "outputs": [],
   "source": [
    "df = dataset.iloc[:,1:]\n",
    "df = df.apply(lambda x:x.fillna(0), axis=0)\n",
    "# axis=0 - row wise\n",
    "df2 = dataset.iloc[:,0]\n",
    "result = pd.concat([df, df2], axis=1).reindex(df.index)\n",
    "# axis=1"
   ]
  },
  {
   "cell_type": "code",
   "execution_count": 16,
   "id": "4209449e",
   "metadata": {},
   "outputs": [
    {
     "data": {
      "text/html": [
       "<div>\n",
       "<style scoped>\n",
       "    .dataframe tbody tr th:only-of-type {\n",
       "        vertical-align: middle;\n",
       "    }\n",
       "\n",
       "    .dataframe tbody tr th {\n",
       "        vertical-align: top;\n",
       "    }\n",
       "\n",
       "    .dataframe thead th {\n",
       "        text-align: right;\n",
       "    }\n",
       "</style>\n",
       "<table border=\"1\" class=\"dataframe\">\n",
       "  <thead>\n",
       "    <tr style=\"text-align: right;\">\n",
       "      <th></th>\n",
       "      <th>features_0</th>\n",
       "      <th>features_1</th>\n",
       "      <th>features_2</th>\n",
       "      <th>features_3</th>\n",
       "      <th>features_4</th>\n",
       "      <th>features_5</th>\n",
       "      <th>features_6</th>\n",
       "      <th>features_7</th>\n",
       "      <th>features_8</th>\n",
       "      <th>features_9</th>\n",
       "      <th>...</th>\n",
       "      <th>features_582</th>\n",
       "      <th>features_583</th>\n",
       "      <th>features_584</th>\n",
       "      <th>features_585</th>\n",
       "      <th>features_586</th>\n",
       "      <th>features_587</th>\n",
       "      <th>features_588</th>\n",
       "      <th>features_589</th>\n",
       "      <th>Pass_Fail</th>\n",
       "      <th>Time</th>\n",
       "    </tr>\n",
       "  </thead>\n",
       "  <tbody>\n",
       "    <tr>\n",
       "      <th>0</th>\n",
       "      <td>3030.93</td>\n",
       "      <td>2564.00</td>\n",
       "      <td>2187.7333</td>\n",
       "      <td>1411.1265</td>\n",
       "      <td>1.3602</td>\n",
       "      <td>100.0</td>\n",
       "      <td>97.6133</td>\n",
       "      <td>0.1242</td>\n",
       "      <td>1.5005</td>\n",
       "      <td>0.0162</td>\n",
       "      <td>...</td>\n",
       "      <td>0.5005</td>\n",
       "      <td>0.0118</td>\n",
       "      <td>0.0035</td>\n",
       "      <td>2.3630</td>\n",
       "      <td>0.0000</td>\n",
       "      <td>0.0000</td>\n",
       "      <td>0.000</td>\n",
       "      <td>0.0000</td>\n",
       "      <td>-1</td>\n",
       "      <td>2008-07-19 11:55:00</td>\n",
       "    </tr>\n",
       "    <tr>\n",
       "      <th>1</th>\n",
       "      <td>3095.78</td>\n",
       "      <td>2465.14</td>\n",
       "      <td>2230.4222</td>\n",
       "      <td>1463.6606</td>\n",
       "      <td>0.8294</td>\n",
       "      <td>100.0</td>\n",
       "      <td>102.3433</td>\n",
       "      <td>0.1247</td>\n",
       "      <td>1.4966</td>\n",
       "      <td>-0.0005</td>\n",
       "      <td>...</td>\n",
       "      <td>0.5019</td>\n",
       "      <td>0.0223</td>\n",
       "      <td>0.0055</td>\n",
       "      <td>4.4447</td>\n",
       "      <td>0.0096</td>\n",
       "      <td>0.0201</td>\n",
       "      <td>0.006</td>\n",
       "      <td>208.2045</td>\n",
       "      <td>-1</td>\n",
       "      <td>2008-07-19 12:32:00</td>\n",
       "    </tr>\n",
       "  </tbody>\n",
       "</table>\n",
       "<p>2 rows × 592 columns</p>\n",
       "</div>"
      ],
      "text/plain": [
       "   features_0  features_1  features_2  features_3  features_4  features_5  \\\n",
       "0     3030.93     2564.00   2187.7333   1411.1265      1.3602       100.0   \n",
       "1     3095.78     2465.14   2230.4222   1463.6606      0.8294       100.0   \n",
       "\n",
       "   features_6  features_7  features_8  features_9  ...  features_582  \\\n",
       "0     97.6133      0.1242      1.5005      0.0162  ...        0.5005   \n",
       "1    102.3433      0.1247      1.4966     -0.0005  ...        0.5019   \n",
       "\n",
       "   features_583  features_584  features_585  features_586  features_587  \\\n",
       "0        0.0118        0.0035        2.3630        0.0000        0.0000   \n",
       "1        0.0223        0.0055        4.4447        0.0096        0.0201   \n",
       "\n",
       "   features_588  features_589  Pass_Fail                 Time  \n",
       "0         0.000        0.0000         -1  2008-07-19 11:55:00  \n",
       "1         0.006      208.2045         -1  2008-07-19 12:32:00  \n",
       "\n",
       "[2 rows x 592 columns]"
      ]
     },
     "execution_count": 16,
     "metadata": {},
     "output_type": "execute_result"
    }
   ],
   "source": [
    "result.head(2)"
   ]
  },
  {
   "cell_type": "code",
   "execution_count": 17,
   "id": "b958454e",
   "metadata": {},
   "outputs": [
    {
     "data": {
      "text/plain": [
       "features_0      False\n",
       "features_1      False\n",
       "features_2      False\n",
       "features_3      False\n",
       "features_4      False\n",
       "                ...  \n",
       "features_587    False\n",
       "features_588    False\n",
       "features_589    False\n",
       "Pass_Fail       False\n",
       "Time            False\n",
       "Length: 592, dtype: bool"
      ]
     },
     "execution_count": 17,
     "metadata": {},
     "output_type": "execute_result"
    }
   ],
   "source": [
    "result.isnull().any()"
   ]
  },
  {
   "cell_type": "code",
   "execution_count": 18,
   "id": "8f5d672d",
   "metadata": {},
   "outputs": [
    {
     "data": {
      "text/plain": [
       "-1    0.933631\n",
       " 1    0.066369\n",
       "Name: Pass_Fail, dtype: float64"
      ]
     },
     "execution_count": 18,
     "metadata": {},
     "output_type": "execute_result"
    }
   ],
   "source": [
    "result['Pass_Fail'].value_counts(normalize=True)"
   ]
  },
  {
   "cell_type": "code",
   "execution_count": 19,
   "id": "7d0d7905",
   "metadata": {},
   "outputs": [
    {
     "data": {
      "text/plain": [
       "-1    1463\n",
       " 1     104\n",
       "Name: Pass_Fail, dtype: int64"
      ]
     },
     "execution_count": 19,
     "metadata": {},
     "output_type": "execute_result"
    }
   ],
   "source": [
    "result['Pass_Fail'].value_counts()"
   ]
  },
  {
   "cell_type": "code",
   "execution_count": 20,
   "id": "9baf5842",
   "metadata": {},
   "outputs": [
    {
     "data": {
      "text/plain": [
       "<AxesSubplot:>"
      ]
     },
     "execution_count": 20,
     "metadata": {},
     "output_type": "execute_result"
    },
    {
     "data": {
      "image/png": "[encoded data removed]",
      "text/plain": [
       "<Figure size 432x288 with 1 Axes>"
      ]
     },
     "metadata": {
      "needs_background": "light"
     },
     "output_type": "display_data"
    }
   ],
   "source": [
    "result['Pass_Fail'].value_counts().plot(kind='bar')"
   ]
  },
  {
   "cell_type": "code",
   "execution_count": 21,
   "id": "0b683f94",
   "metadata": {},
   "outputs": [
    {
     "name": "stdout",
     "output_type": "stream",
     "text": [
      "              features_0  features_1  features_2  features_3  features_4  \\\n",
      "features_0      1.000000   -0.047782    0.007590    0.009448   -0.000915   \n",
      "features_1     -0.047782    1.000000   -0.030448    0.006021    0.002192   \n",
      "features_2      0.007590   -0.030448    1.000000    0.323782    0.020438   \n",
      "features_3      0.009448    0.006021    0.323782    1.000000   -0.054015   \n",
      "features_4     -0.000915    0.002192    0.020438   -0.054015    1.000000   \n",
      "...                  ...         ...         ...         ...         ...   \n",
      "features_586    0.044745   -0.009219    0.015733    0.038755   -0.043693   \n",
      "features_587    0.005233    0.039479   -0.007090   -0.038371   -0.030930   \n",
      "features_588    0.003918    0.040500   -0.009122   -0.033648   -0.026046   \n",
      "features_589    0.021489    0.044464   -0.030434   -0.084449    0.050741   \n",
      "Pass_Fail       0.006149   -0.019672    0.024929   -0.016341   -0.013577   \n",
      "\n",
      "              features_5  features_6  features_7  features_8  features_9  ...  \\\n",
      "features_0      0.008706    0.006129    0.010738   -0.050979    0.009959  ...   \n",
      "features_1     -0.030127   -0.031616   -0.025086    0.027609    0.003704  ...   \n",
      "features_2      0.990089    0.818770    0.747230    0.002600   -0.045731  ...   \n",
      "features_3      0.286397   -0.119180    0.279646   -0.108217    0.051567  ...   \n",
      "features_4      0.007041   -0.034736   -0.475861   -0.020082    0.053859  ...   \n",
      "...                  ...         ...         ...         ...         ...  ...   \n",
      "features_586    0.019435   -0.005877    0.051943    0.017642    0.032423  ...   \n",
      "features_587   -0.003077    0.016362   -0.006335    0.027655    0.057856  ...   \n",
      "features_588   -0.004919    0.013832   -0.014288    0.033729    0.059321  ...   \n",
      "features_589   -0.026117    0.002246   -0.067263   -0.016895    0.004106  ...   \n",
      "Pass_Fail       0.025315    0.030075    0.023590    0.028376   -0.031209  ...   \n",
      "\n",
      "              features_581  features_582  features_583  features_584  \\\n",
      "features_0       -0.033622      0.010503      0.019840      0.017889   \n",
      "features_1        0.043107     -0.017392      0.003809      0.004409   \n",
      "features_2        0.038416     -0.010627     -0.004771     -0.003030   \n",
      "features_3        0.000922      0.009788      0.022593      0.022361   \n",
      "features_4        0.107783      0.012778     -0.001323     -0.001605   \n",
      "...                    ...           ...           ...           ...   \n",
      "features_586     -0.206109     -0.008240      0.002391      0.001602   \n",
      "features_587      0.227096      0.018981     -0.001809     -0.001696   \n",
      "features_588      0.216292      0.019083     -0.001445     -0.001182   \n",
      "features_589      0.431632      0.028502     -0.002453     -0.002750   \n",
      "Pass_Fail         0.003478      0.018736      0.006131      0.005593   \n",
      "\n",
      "              features_585  features_586  features_587  features_588  \\\n",
      "features_0        0.019522      0.044745      0.005233      0.003918   \n",
      "features_1        0.003821     -0.009219      0.039479      0.040500   \n",
      "features_2       -0.004263      0.015733     -0.007090     -0.009122   \n",
      "features_3        0.023288      0.038755     -0.038371     -0.033648   \n",
      "features_4       -0.001636     -0.043693     -0.030930     -0.026046   \n",
      "...                    ...           ...           ...           ...   \n",
      "features_586      0.002872      1.000000      0.169634      0.165942   \n",
      "features_587     -0.002122      0.169634      1.000000      0.974332   \n",
      "features_588     -0.001746      0.165942      0.974332      1.000000   \n",
      "features_589     -0.003266     -0.484741      0.391503      0.389898   \n",
      "Pass_Fail         0.005179      0.004448      0.035670      0.031447   \n",
      "\n",
      "              features_589  Pass_Fail  \n",
      "features_0        0.021489   0.006149  \n",
      "features_1        0.044464  -0.019672  \n",
      "features_2       -0.030434   0.024929  \n",
      "features_3       -0.084449  -0.016341  \n",
      "features_4        0.050741  -0.013577  \n",
      "...                    ...        ...  \n",
      "features_586     -0.484741   0.004448  \n",
      "features_587      0.391503   0.035670  \n",
      "features_588      0.389898   0.031447  \n",
      "features_589      1.000000  -0.002472  \n",
      "Pass_Fail        -0.002472   1.000000  \n",
      "\n",
      "[591 rows x 591 columns]\n"
     ]
    }
   ],
   "source": [
    "corr = result.corr()\n",
    "print(corr)"
   ]
  },
  {
   "cell_type": "code",
   "execution_count": 22,
   "id": "fdb3db0d",
   "metadata": {},
   "outputs": [
    {
     "data": {
      "text/plain": [
       "Index(['features_0', 'features_1', 'features_2', 'features_3', 'features_4',\n",
       "       'features_5', 'features_6', 'features_7', 'features_8', 'features_9',\n",
       "       ...\n",
       "       'features_582', 'features_583', 'features_584', 'features_585',\n",
       "       'features_586', 'features_587', 'features_588', 'features_589',\n",
       "       'Pass_Fail', 'Time'],\n",
       "      dtype='object', length=592)"
      ]
     },
     "execution_count": 22,
     "metadata": {},
     "output_type": "execute_result"
    }
   ],
   "source": [
    "result.columns"
   ]
  },
  {
   "cell_type": "code",
   "execution_count": 23,
   "id": "21768f7d",
   "metadata": {},
   "outputs": [],
   "source": [
    "from datetime import datetime\n",
    "result['year'] = pd.DatetimeIndex(result['Time']).year\n",
    "result['month'] = pd.DatetimeIndex(result['Time']).month\n",
    "result['date'] = pd.DatetimeIndex(result['Time']).day\n",
    "result['week_day'] = pd.DatetimeIndex(result['Time']).weekday\n",
    "result['start_time'] = pd.DatetimeIndex(result['Time']).time\n",
    "result['hour'] = pd.DatetimeIndex(result['Time']).hour\n",
    "result['min'] = pd.DatetimeIndex(result['Time']).minute"
   ]
  },
  {
   "cell_type": "code",
   "execution_count": 24,
   "id": "681b597d",
   "metadata": {},
   "outputs": [
    {
     "data": {
      "text/html": [
       "<div>\n",
       "<style scoped>\n",
       "    .dataframe tbody tr th:only-of-type {\n",
       "        vertical-align: middle;\n",
       "    }\n",
       "\n",
       "    .dataframe tbody tr th {\n",
       "        vertical-align: top;\n",
       "    }\n",
       "\n",
       "    .dataframe thead th {\n",
       "        text-align: right;\n",
       "    }\n",
       "</style>\n",
       "<table border=\"1\" class=\"dataframe\">\n",
       "  <thead>\n",
       "    <tr style=\"text-align: right;\">\n",
       "      <th></th>\n",
       "      <th>features_0</th>\n",
       "      <th>features_1</th>\n",
       "      <th>features_2</th>\n",
       "      <th>features_3</th>\n",
       "      <th>features_4</th>\n",
       "      <th>features_5</th>\n",
       "      <th>features_6</th>\n",
       "      <th>features_7</th>\n",
       "      <th>features_8</th>\n",
       "      <th>features_9</th>\n",
       "      <th>...</th>\n",
       "      <th>features_589</th>\n",
       "      <th>Pass_Fail</th>\n",
       "      <th>Time</th>\n",
       "      <th>year</th>\n",
       "      <th>month</th>\n",
       "      <th>date</th>\n",
       "      <th>week_day</th>\n",
       "      <th>start_time</th>\n",
       "      <th>hour</th>\n",
       "      <th>min</th>\n",
       "    </tr>\n",
       "  </thead>\n",
       "  <tbody>\n",
       "    <tr>\n",
       "      <th>0</th>\n",
       "      <td>3030.93</td>\n",
       "      <td>2564.00</td>\n",
       "      <td>2187.7333</td>\n",
       "      <td>1411.1265</td>\n",
       "      <td>1.3602</td>\n",
       "      <td>100.0</td>\n",
       "      <td>97.6133</td>\n",
       "      <td>0.1242</td>\n",
       "      <td>1.5005</td>\n",
       "      <td>0.0162</td>\n",
       "      <td>...</td>\n",
       "      <td>0.0000</td>\n",
       "      <td>-1</td>\n",
       "      <td>2008-07-19 11:55:00</td>\n",
       "      <td>2008</td>\n",
       "      <td>7</td>\n",
       "      <td>19</td>\n",
       "      <td>5</td>\n",
       "      <td>11:55:00</td>\n",
       "      <td>11</td>\n",
       "      <td>55</td>\n",
       "    </tr>\n",
       "    <tr>\n",
       "      <th>1</th>\n",
       "      <td>3095.78</td>\n",
       "      <td>2465.14</td>\n",
       "      <td>2230.4222</td>\n",
       "      <td>1463.6606</td>\n",
       "      <td>0.8294</td>\n",
       "      <td>100.0</td>\n",
       "      <td>102.3433</td>\n",
       "      <td>0.1247</td>\n",
       "      <td>1.4966</td>\n",
       "      <td>-0.0005</td>\n",
       "      <td>...</td>\n",
       "      <td>208.2045</td>\n",
       "      <td>-1</td>\n",
       "      <td>2008-07-19 12:32:00</td>\n",
       "      <td>2008</td>\n",
       "      <td>7</td>\n",
       "      <td>19</td>\n",
       "      <td>5</td>\n",
       "      <td>12:32:00</td>\n",
       "      <td>12</td>\n",
       "      <td>32</td>\n",
       "    </tr>\n",
       "    <tr>\n",
       "      <th>2</th>\n",
       "      <td>2932.61</td>\n",
       "      <td>2559.94</td>\n",
       "      <td>2186.4111</td>\n",
       "      <td>1698.0172</td>\n",
       "      <td>1.5102</td>\n",
       "      <td>100.0</td>\n",
       "      <td>95.4878</td>\n",
       "      <td>0.1241</td>\n",
       "      <td>1.4436</td>\n",
       "      <td>0.0041</td>\n",
       "      <td>...</td>\n",
       "      <td>82.8602</td>\n",
       "      <td>1</td>\n",
       "      <td>2008-07-19 13:17:00</td>\n",
       "      <td>2008</td>\n",
       "      <td>7</td>\n",
       "      <td>19</td>\n",
       "      <td>5</td>\n",
       "      <td>13:17:00</td>\n",
       "      <td>13</td>\n",
       "      <td>17</td>\n",
       "    </tr>\n",
       "    <tr>\n",
       "      <th>3</th>\n",
       "      <td>2988.72</td>\n",
       "      <td>2479.90</td>\n",
       "      <td>2199.0333</td>\n",
       "      <td>909.7926</td>\n",
       "      <td>1.3204</td>\n",
       "      <td>100.0</td>\n",
       "      <td>104.2367</td>\n",
       "      <td>0.1217</td>\n",
       "      <td>1.4882</td>\n",
       "      <td>-0.0124</td>\n",
       "      <td>...</td>\n",
       "      <td>73.8432</td>\n",
       "      <td>-1</td>\n",
       "      <td>2008-07-19 14:43:00</td>\n",
       "      <td>2008</td>\n",
       "      <td>7</td>\n",
       "      <td>19</td>\n",
       "      <td>5</td>\n",
       "      <td>14:43:00</td>\n",
       "      <td>14</td>\n",
       "      <td>43</td>\n",
       "    </tr>\n",
       "    <tr>\n",
       "      <th>4</th>\n",
       "      <td>3032.24</td>\n",
       "      <td>2502.87</td>\n",
       "      <td>2233.3667</td>\n",
       "      <td>1326.5200</td>\n",
       "      <td>1.5334</td>\n",
       "      <td>100.0</td>\n",
       "      <td>100.3967</td>\n",
       "      <td>0.1235</td>\n",
       "      <td>1.5031</td>\n",
       "      <td>-0.0031</td>\n",
       "      <td>...</td>\n",
       "      <td>73.8432</td>\n",
       "      <td>-1</td>\n",
       "      <td>2008-07-19 15:22:00</td>\n",
       "      <td>2008</td>\n",
       "      <td>7</td>\n",
       "      <td>19</td>\n",
       "      <td>5</td>\n",
       "      <td>15:22:00</td>\n",
       "      <td>15</td>\n",
       "      <td>22</td>\n",
       "    </tr>\n",
       "  </tbody>\n",
       "</table>\n",
       "<p>5 rows × 599 columns</p>\n",
       "</div>"
      ],
      "text/plain": [
       "   features_0  features_1  features_2  features_3  features_4  features_5  \\\n",
       "0     3030.93     2564.00   2187.7333   1411.1265      1.3602       100.0   \n",
       "1     3095.78     2465.14   2230.4222   1463.6606      0.8294       100.0   \n",
       "2     2932.61     2559.94   2186.4111   1698.0172      1.5102       100.0   \n",
       "3     2988.72     2479.90   2199.0333    909.7926      1.3204       100.0   \n",
       "4     3032.24     2502.87   2233.3667   1326.5200      1.5334       100.0   \n",
       "\n",
       "   features_6  features_7  features_8  features_9  ...  features_589  \\\n",
       "0     97.6133      0.1242      1.5005      0.0162  ...        0.0000   \n",
       "1    102.3433      0.1247      1.4966     -0.0005  ...      208.2045   \n",
       "2     95.4878      0.1241      1.4436      0.0041  ...       82.8602   \n",
       "3    104.2367      0.1217      1.4882     -0.0124  ...       73.8432   \n",
       "4    100.3967      0.1235      1.5031     -0.0031  ...       73.8432   \n",
       "\n",
       "   Pass_Fail                 Time  year  month  date  week_day  start_time  \\\n",
       "0         -1  2008-07-19 11:55:00  2008      7    19         5    11:55:00   \n",
       "1         -1  2008-07-19 12:32:00  2008      7    19         5    12:32:00   \n",
       "2          1  2008-07-19 13:17:00  2008      7    19         5    13:17:00   \n",
       "3         -1  2008-07-19 14:43:00  2008      7    19         5    14:43:00   \n",
       "4         -1  2008-07-19 15:22:00  2008      7    19         5    15:22:00   \n",
       "\n",
       "   hour  min  \n",
       "0    11   55  \n",
       "1    12   32  \n",
       "2    13   17  \n",
       "3    14   43  \n",
       "4    15   22  \n",
       "\n",
       "[5 rows x 599 columns]"
      ]
     },
     "execution_count": 24,
     "metadata": {},
     "output_type": "execute_result"
    }
   ],
   "source": [
    "result.head()"
   ]
  },
  {
   "cell_type": "code",
   "execution_count": 25,
   "id": "32bf0ae7",
   "metadata": {},
   "outputs": [
    {
     "data": {
      "text/plain": [
       "array([2008], dtype=int64)"
      ]
     },
     "execution_count": 25,
     "metadata": {},
     "output_type": "execute_result"
    }
   ],
   "source": [
    "result.year.unique()"
   ]
  },
  {
   "cell_type": "code",
   "execution_count": 26,
   "id": "8f344160",
   "metadata": {},
   "outputs": [
    {
     "data": {
      "text/plain": [
       "array([ 7,  1,  2,  3,  4,  5,  6,  8,  9, 10, 11, 12], dtype=int64)"
      ]
     },
     "execution_count": 26,
     "metadata": {},
     "output_type": "execute_result"
    }
   ],
   "source": [
    "result.month.unique()"
   ]
  },
  {
   "cell_type": "code",
   "execution_count": 27,
   "id": "53016bb6",
   "metadata": {},
   "outputs": [
    {
     "data": {
      "text/plain": [
       "array([19, 20, 21, 22, 23, 25, 27, 28, 29, 30, 31,  8, 13, 15, 16, 17, 18,\n",
       "       24,  9, 14, 26, 10], dtype=int64)"
      ]
     },
     "execution_count": 27,
     "metadata": {},
     "output_type": "execute_result"
    }
   ],
   "source": [
    "result.date.unique()"
   ]
  },
  {
   "cell_type": "code",
   "execution_count": 28,
   "id": "5ff20a00",
   "metadata": {},
   "outputs": [
    {
     "data": {
      "text/plain": [
       "array([5, 6, 0, 1, 2, 4, 3], dtype=int64)"
      ]
     },
     "execution_count": 28,
     "metadata": {},
     "output_type": "execute_result"
    }
   ],
   "source": [
    "result.week_day.unique()"
   ]
  },
  {
   "cell_type": "code",
   "execution_count": 29,
   "id": "8b71ac92",
   "metadata": {},
   "outputs": [
    {
     "data": {
      "text/plain": [
       "array([11, 12, 13, 14, 15, 17, 19, 20, 21, 22,  3,  8,  0,  2,  5,  4,  9,\n",
       "       16, 23,  6, 18,  7, 10,  1], dtype=int64)"
      ]
     },
     "execution_count": 29,
     "metadata": {},
     "output_type": "execute_result"
    }
   ],
   "source": [
    "result.hour.unique()"
   ]
  },
  {
   "cell_type": "code",
   "execution_count": 30,
   "id": "0c386f24",
   "metadata": {},
   "outputs": [
    {
     "data": {
      "text/plain": [
       "<seaborn.axisgrid.FacetGrid at 0x272e30a1850>"
      ]
     },
     "execution_count": 30,
     "metadata": {},
     "output_type": "execute_result"
    },
    {
     "data": {
      "text/plain": [
       "<Figure size 432x432 with 0 Axes>"
      ]
     },
     "metadata": {},
     "output_type": "display_data"
    },
    {
     "data": {
      "image/png": "[encoded data removed]",
      "text/plain": [
       "<Figure size 360x360 with 1 Axes>"
      ]
     },
     "metadata": {
      "needs_background": "light"
     },
     "output_type": "display_data"
    },
    {
     "data": {
      "image/png": "[encoded data removed]",
      "text/plain": [
       "<Figure size 360x360 with 1 Axes>"
      ]
     },
     "metadata": {
      "needs_background": "light"
     },
     "output_type": "display_data"
    }
   ],
   "source": [
    "# Green represents failure in months\n",
    "# Red represents success varying in months\n",
    "plt.figure(figsize=(6,6))\n",
    "sns.displot(result[result.Pass_Fail==-1]['month'],color='g')\n",
    "sns.displot(result[result.Pass_Fail==1]['month'],color='r')"
   ]
  },
  {
   "cell_type": "code",
   "execution_count": 31,
   "id": "0845fd1a",
   "metadata": {},
   "outputs": [
    {
     "data": {
      "text/plain": [
       "<seaborn.axisgrid.FacetGrid at 0x272e30a1250>"
      ]
     },
     "execution_count": 31,
     "metadata": {},
     "output_type": "execute_result"
    },
    {
     "data": {
      "text/plain": [
       "<Figure size 432x432 with 0 Axes>"
      ]
     },
     "metadata": {},
     "output_type": "display_data"
    },
    {
     "data": {
      "image/png": "[encoded data removed]",
      "text/plain": [
       "<Figure size 360x360 with 1 Axes>"
      ]
     },
     "metadata": {
      "needs_background": "light"
     },
     "output_type": "display_data"
    },
    {
     "data": {
      "image/png": "[encoded data removed]",
      "text/plain": [
       "<Figure size 360x360 with 1 Axes>"
      ]
     },
     "metadata": {
      "needs_background": "light"
     },
     "output_type": "display_data"
    }
   ],
   "source": [
    "# Green represents failure \n",
    "# Red represents success\n",
    "plt.figure(figsize=(6,6))\n",
    "sns.displot(result[result.Pass_Fail==-1]['date'],color='g')\n",
    "sns.displot(result[result.Pass_Fail==1]['date'],color='r')"
   ]
  },
  {
   "cell_type": "code",
   "execution_count": 32,
   "id": "25b246ac",
   "metadata": {},
   "outputs": [
    {
     "data": {
      "text/plain": [
       "<seaborn.axisgrid.FacetGrid at 0x272e3596940>"
      ]
     },
     "execution_count": 32,
     "metadata": {},
     "output_type": "execute_result"
    },
    {
     "data": {
      "text/plain": [
       "<Figure size 432x432 with 0 Axes>"
      ]
     },
     "metadata": {},
     "output_type": "display_data"
    },
    {
     "data": {
      "image/png": "[encoded data removed]",
      "text/plain": [
       "<Figure size 360x360 with 1 Axes>"
      ]
     },
     "metadata": {
      "needs_background": "light"
     },
     "output_type": "display_data"
    },
    {
     "data": {
      "image/png": "[encoded data removed]",
      "text/plain": [
       "<Figure size 360x360 with 1 Axes>"
      ]
     },
     "metadata": {
      "needs_background": "light"
     },
     "output_type": "display_data"
    }
   ],
   "source": [
    "# Green represents failure \n",
    "# Red represents success\n",
    "plt.figure(figsize=(6,6))\n",
    "sns.displot(result[result.Pass_Fail==-1]['hour'],color='g')\n",
    "sns.displot(result[result.Pass_Fail==1]['hour'],color='r')\n",
    "# the graph represents success rate is near failure rate also in measure of particular/indivisual time."
   ]
  },
  {
   "cell_type": "markdown",
   "id": "2f3ca110",
   "metadata": {},
   "source": [
    "# Diving the dataset into input (X) and target (Y)"
   ]
  },
  {
   "cell_type": "code",
   "execution_count": 33,
   "id": "185cebbb",
   "metadata": {},
   "outputs": [],
   "source": [
    "# result.head()\n",
    "# Now we should divide out input features and target features \n",
    "x= result.drop(['Pass_Fail','Time','year','start_time'], axis=1)\n",
    "y=result['Pass_Fail']"
   ]
  },
  {
   "cell_type": "code",
   "execution_count": 34,
   "id": "20690df8",
   "metadata": {},
   "outputs": [
    {
     "data": {
      "text/html": [
       "<div>\n",
       "<style scoped>\n",
       "    .dataframe tbody tr th:only-of-type {\n",
       "        vertical-align: middle;\n",
       "    }\n",
       "\n",
       "    .dataframe tbody tr th {\n",
       "        vertical-align: top;\n",
       "    }\n",
       "\n",
       "    .dataframe thead th {\n",
       "        text-align: right;\n",
       "    }\n",
       "</style>\n",
       "<table border=\"1\" class=\"dataframe\">\n",
       "  <thead>\n",
       "    <tr style=\"text-align: right;\">\n",
       "      <th></th>\n",
       "      <th>features_0</th>\n",
       "      <th>features_1</th>\n",
       "      <th>features_2</th>\n",
       "      <th>features_3</th>\n",
       "      <th>features_4</th>\n",
       "      <th>features_5</th>\n",
       "      <th>features_6</th>\n",
       "      <th>features_7</th>\n",
       "      <th>features_8</th>\n",
       "      <th>features_9</th>\n",
       "      <th>...</th>\n",
       "      <th>features_585</th>\n",
       "      <th>features_586</th>\n",
       "      <th>features_587</th>\n",
       "      <th>features_588</th>\n",
       "      <th>features_589</th>\n",
       "      <th>month</th>\n",
       "      <th>date</th>\n",
       "      <th>week_day</th>\n",
       "      <th>hour</th>\n",
       "      <th>min</th>\n",
       "    </tr>\n",
       "  </thead>\n",
       "  <tbody>\n",
       "    <tr>\n",
       "      <th>0</th>\n",
       "      <td>3030.93</td>\n",
       "      <td>2564.00</td>\n",
       "      <td>2187.7333</td>\n",
       "      <td>1411.1265</td>\n",
       "      <td>1.3602</td>\n",
       "      <td>100.0</td>\n",
       "      <td>97.6133</td>\n",
       "      <td>0.1242</td>\n",
       "      <td>1.5005</td>\n",
       "      <td>0.0162</td>\n",
       "      <td>...</td>\n",
       "      <td>2.3630</td>\n",
       "      <td>0.0000</td>\n",
       "      <td>0.0000</td>\n",
       "      <td>0.0000</td>\n",
       "      <td>0.0000</td>\n",
       "      <td>7</td>\n",
       "      <td>19</td>\n",
       "      <td>5</td>\n",
       "      <td>11</td>\n",
       "      <td>55</td>\n",
       "    </tr>\n",
       "    <tr>\n",
       "      <th>1</th>\n",
       "      <td>3095.78</td>\n",
       "      <td>2465.14</td>\n",
       "      <td>2230.4222</td>\n",
       "      <td>1463.6606</td>\n",
       "      <td>0.8294</td>\n",
       "      <td>100.0</td>\n",
       "      <td>102.3433</td>\n",
       "      <td>0.1247</td>\n",
       "      <td>1.4966</td>\n",
       "      <td>-0.0005</td>\n",
       "      <td>...</td>\n",
       "      <td>4.4447</td>\n",
       "      <td>0.0096</td>\n",
       "      <td>0.0201</td>\n",
       "      <td>0.0060</td>\n",
       "      <td>208.2045</td>\n",
       "      <td>7</td>\n",
       "      <td>19</td>\n",
       "      <td>5</td>\n",
       "      <td>12</td>\n",
       "      <td>32</td>\n",
       "    </tr>\n",
       "    <tr>\n",
       "      <th>2</th>\n",
       "      <td>2932.61</td>\n",
       "      <td>2559.94</td>\n",
       "      <td>2186.4111</td>\n",
       "      <td>1698.0172</td>\n",
       "      <td>1.5102</td>\n",
       "      <td>100.0</td>\n",
       "      <td>95.4878</td>\n",
       "      <td>0.1241</td>\n",
       "      <td>1.4436</td>\n",
       "      <td>0.0041</td>\n",
       "      <td>...</td>\n",
       "      <td>3.1745</td>\n",
       "      <td>0.0584</td>\n",
       "      <td>0.0484</td>\n",
       "      <td>0.0148</td>\n",
       "      <td>82.8602</td>\n",
       "      <td>7</td>\n",
       "      <td>19</td>\n",
       "      <td>5</td>\n",
       "      <td>13</td>\n",
       "      <td>17</td>\n",
       "    </tr>\n",
       "    <tr>\n",
       "      <th>3</th>\n",
       "      <td>2988.72</td>\n",
       "      <td>2479.90</td>\n",
       "      <td>2199.0333</td>\n",
       "      <td>909.7926</td>\n",
       "      <td>1.3204</td>\n",
       "      <td>100.0</td>\n",
       "      <td>104.2367</td>\n",
       "      <td>0.1217</td>\n",
       "      <td>1.4882</td>\n",
       "      <td>-0.0124</td>\n",
       "      <td>...</td>\n",
       "      <td>2.0544</td>\n",
       "      <td>0.0202</td>\n",
       "      <td>0.0149</td>\n",
       "      <td>0.0044</td>\n",
       "      <td>73.8432</td>\n",
       "      <td>7</td>\n",
       "      <td>19</td>\n",
       "      <td>5</td>\n",
       "      <td>14</td>\n",
       "      <td>43</td>\n",
       "    </tr>\n",
       "    <tr>\n",
       "      <th>4</th>\n",
       "      <td>3032.24</td>\n",
       "      <td>2502.87</td>\n",
       "      <td>2233.3667</td>\n",
       "      <td>1326.5200</td>\n",
       "      <td>1.5334</td>\n",
       "      <td>100.0</td>\n",
       "      <td>100.3967</td>\n",
       "      <td>0.1235</td>\n",
       "      <td>1.5031</td>\n",
       "      <td>-0.0031</td>\n",
       "      <td>...</td>\n",
       "      <td>99.3032</td>\n",
       "      <td>0.0202</td>\n",
       "      <td>0.0149</td>\n",
       "      <td>0.0044</td>\n",
       "      <td>73.8432</td>\n",
       "      <td>7</td>\n",
       "      <td>19</td>\n",
       "      <td>5</td>\n",
       "      <td>15</td>\n",
       "      <td>22</td>\n",
       "    </tr>\n",
       "  </tbody>\n",
       "</table>\n",
       "<p>5 rows × 595 columns</p>\n",
       "</div>"
      ],
      "text/plain": [
       "   features_0  features_1  features_2  features_3  features_4  features_5  \\\n",
       "0     3030.93     2564.00   2187.7333   1411.1265      1.3602       100.0   \n",
       "1     3095.78     2465.14   2230.4222   1463.6606      0.8294       100.0   \n",
       "2     2932.61     2559.94   2186.4111   1698.0172      1.5102       100.0   \n",
       "3     2988.72     2479.90   2199.0333    909.7926      1.3204       100.0   \n",
       "4     3032.24     2502.87   2233.3667   1326.5200      1.5334       100.0   \n",
       "\n",
       "   features_6  features_7  features_8  features_9  ...  features_585  \\\n",
       "0     97.6133      0.1242      1.5005      0.0162  ...        2.3630   \n",
       "1    102.3433      0.1247      1.4966     -0.0005  ...        4.4447   \n",
       "2     95.4878      0.1241      1.4436      0.0041  ...        3.1745   \n",
       "3    104.2367      0.1217      1.4882     -0.0124  ...        2.0544   \n",
       "4    100.3967      0.1235      1.5031     -0.0031  ...       99.3032   \n",
       "\n",
       "   features_586  features_587  features_588  features_589  month  date  \\\n",
       "0        0.0000        0.0000        0.0000        0.0000      7    19   \n",
       "1        0.0096        0.0201        0.0060      208.2045      7    19   \n",
       "2        0.0584        0.0484        0.0148       82.8602      7    19   \n",
       "3        0.0202        0.0149        0.0044       73.8432      7    19   \n",
       "4        0.0202        0.0149        0.0044       73.8432      7    19   \n",
       "\n",
       "   week_day  hour  min  \n",
       "0         5    11   55  \n",
       "1         5    12   32  \n",
       "2         5    13   17  \n",
       "3         5    14   43  \n",
       "4         5    15   22  \n",
       "\n",
       "[5 rows x 595 columns]"
      ]
     },
     "execution_count": 34,
     "metadata": {},
     "output_type": "execute_result"
    }
   ],
   "source": [
    "x.head()"
   ]
  },
  {
   "cell_type": "code",
   "execution_count": 35,
   "id": "894fa48a",
   "metadata": {},
   "outputs": [
    {
     "data": {
      "text/plain": [
       "0   -1\n",
       "1   -1\n",
       "2    1\n",
       "3   -1\n",
       "4   -1\n",
       "Name: Pass_Fail, dtype: int64"
      ]
     },
     "execution_count": 35,
     "metadata": {},
     "output_type": "execute_result"
    }
   ],
   "source": [
    "y.head()"
   ]
  },
  {
   "cell_type": "markdown",
   "id": "10daaa14",
   "metadata": {},
   "source": [
    "# Now time to do feature scaling"
   ]
  },
  {
   "cell_type": "code",
   "execution_count": 36,
   "id": "6491bbfa",
   "metadata": {},
   "outputs": [],
   "source": [
    "from sklearn.preprocessing import StandardScaler\n",
    "scaler=StandardScaler()"
   ]
  },
  {
   "cell_type": "code",
   "execution_count": 37,
   "id": "90348211",
   "metadata": {},
   "outputs": [],
   "source": [
    "x_scaler= scaler.fit_transform(x)"
   ]
  },
  {
   "cell_type": "code",
   "execution_count": 38,
   "id": "3c9f4cad",
   "metadata": {},
   "outputs": [
    {
     "data": {
      "text/plain": [
       "array([[ 0.13999828,  0.42920791,  0.03273532, ...,  0.91969925,\n",
       "        -0.11346408,  1.48216024],\n",
       "       [ 0.46402024, -0.10587396,  0.23685169, ...,  0.91969925,\n",
       "         0.03191467,  0.14686372],\n",
       "       [-0.35125598,  0.40723307,  0.02641324, ...,  0.91969925,\n",
       "         0.17729342, -0.72398184],\n",
       "       ...,\n",
       "       [-0.12041844, -0.5678868 ,  0.12151173, ...,  0.41667352,\n",
       "        -0.98573659, -0.2014745 ],\n",
       "       [-0.53957345,  0.25606135, -0.01842658, ...,  0.41667352,\n",
       "        -0.84035784, -1.65288376],\n",
       "       [-0.28974927, -0.18370602,  0.06960583, ...,  0.41667352,\n",
       "        -0.84035784, -1.30454554]])"
      ]
     },
     "execution_count": 38,
     "metadata": {},
     "output_type": "execute_result"
    }
   ],
   "source": [
    "x_scaler"
   ]
  },
  {
   "cell_type": "code",
   "execution_count": 39,
   "id": "2ec1f4db",
   "metadata": {},
   "outputs": [],
   "source": [
    "# After scaling input variable put it to the variable 'x' for more clearance.\n",
    "x=pd.DataFrame(x_scaler,columns=x.columns[:])"
   ]
  },
  {
   "cell_type": "code",
   "execution_count": 40,
   "id": "0bbb004a",
   "metadata": {},
   "outputs": [
    {
     "data": {
      "text/html": [
       "<div>\n",
       "<style scoped>\n",
       "    .dataframe tbody tr th:only-of-type {\n",
       "        vertical-align: middle;\n",
       "    }\n",
       "\n",
       "    .dataframe tbody tr th {\n",
       "        vertical-align: top;\n",
       "    }\n",
       "\n",
       "    .dataframe thead th {\n",
       "        text-align: right;\n",
       "    }\n",
       "</style>\n",
       "<table border=\"1\" class=\"dataframe\">\n",
       "  <thead>\n",
       "    <tr style=\"text-align: right;\">\n",
       "      <th></th>\n",
       "      <th>features_0</th>\n",
       "      <th>features_1</th>\n",
       "      <th>features_2</th>\n",
       "      <th>features_3</th>\n",
       "      <th>features_4</th>\n",
       "      <th>features_5</th>\n",
       "      <th>features_6</th>\n",
       "      <th>features_7</th>\n",
       "      <th>features_8</th>\n",
       "      <th>features_9</th>\n",
       "      <th>...</th>\n",
       "      <th>features_585</th>\n",
       "      <th>features_586</th>\n",
       "      <th>features_587</th>\n",
       "      <th>features_588</th>\n",
       "      <th>features_589</th>\n",
       "      <th>month</th>\n",
       "      <th>date</th>\n",
       "      <th>week_day</th>\n",
       "      <th>hour</th>\n",
       "      <th>min</th>\n",
       "    </tr>\n",
       "  </thead>\n",
       "  <tbody>\n",
       "    <tr>\n",
       "      <th>0</th>\n",
       "      <td>0.139998</td>\n",
       "      <td>0.429208</td>\n",
       "      <td>0.032735</td>\n",
       "      <td>0.059342</td>\n",
       "      <td>-0.049911</td>\n",
       "      <td>0.094946</td>\n",
       "      <td>-0.228536</td>\n",
       "      <td>0.239971</td>\n",
       "      <td>0.436850</td>\n",
       "      <td>1.128343</td>\n",
       "      <td>...</td>\n",
       "      <td>-0.196519</td>\n",
       "      <td>-1.734706</td>\n",
       "      <td>-1.868461</td>\n",
       "      <td>-1.840769</td>\n",
       "      <td>-1.061159</td>\n",
       "      <td>-0.160434</td>\n",
       "      <td>0.230068</td>\n",
       "      <td>0.919699</td>\n",
       "      <td>-0.113464</td>\n",
       "      <td>1.482160</td>\n",
       "    </tr>\n",
       "    <tr>\n",
       "      <th>1</th>\n",
       "      <td>0.464020</td>\n",
       "      <td>-0.105874</td>\n",
       "      <td>0.236852</td>\n",
       "      <td>0.173847</td>\n",
       "      <td>-0.059375</td>\n",
       "      <td>0.094946</td>\n",
       "      <td>0.187826</td>\n",
       "      <td>0.278951</td>\n",
       "      <td>0.393723</td>\n",
       "      <td>0.022511</td>\n",
       "      <td>...</td>\n",
       "      <td>0.385516</td>\n",
       "      <td>-0.958144</td>\n",
       "      <td>0.412587</td>\n",
       "      <td>0.251029</td>\n",
       "      <td>1.156951</td>\n",
       "      <td>-0.160434</td>\n",
       "      <td>0.230068</td>\n",
       "      <td>0.919699</td>\n",
       "      <td>0.031915</td>\n",
       "      <td>0.146864</td>\n",
       "    </tr>\n",
       "    <tr>\n",
       "      <th>2</th>\n",
       "      <td>-0.351256</td>\n",
       "      <td>0.407233</td>\n",
       "      <td>0.026413</td>\n",
       "      <td>0.684661</td>\n",
       "      <td>-0.047236</td>\n",
       "      <td>0.094946</td>\n",
       "      <td>-0.415634</td>\n",
       "      <td>0.232175</td>\n",
       "      <td>-0.192349</td>\n",
       "      <td>0.327111</td>\n",
       "      <td>...</td>\n",
       "      <td>0.030373</td>\n",
       "      <td>2.989383</td>\n",
       "      <td>3.624211</td>\n",
       "      <td>3.318999</td>\n",
       "      <td>-0.178407</td>\n",
       "      <td>-0.160434</td>\n",
       "      <td>0.230068</td>\n",
       "      <td>0.919699</td>\n",
       "      <td>0.177293</td>\n",
       "      <td>-0.723982</td>\n",
       "    </tr>\n",
       "    <tr>\n",
       "      <th>3</th>\n",
       "      <td>-0.070903</td>\n",
       "      <td>-0.025985</td>\n",
       "      <td>0.086766</td>\n",
       "      <td>-1.033387</td>\n",
       "      <td>-0.050620</td>\n",
       "      <td>0.094946</td>\n",
       "      <td>0.354494</td>\n",
       "      <td>0.045074</td>\n",
       "      <td>0.300837</td>\n",
       "      <td>-0.765478</td>\n",
       "      <td>...</td>\n",
       "      <td>-0.282803</td>\n",
       "      <td>-0.100689</td>\n",
       "      <td>-0.177535</td>\n",
       "      <td>-0.306784</td>\n",
       "      <td>-0.274469</td>\n",
       "      <td>-0.160434</td>\n",
       "      <td>0.230068</td>\n",
       "      <td>0.919699</td>\n",
       "      <td>0.322672</td>\n",
       "      <td>0.785484</td>\n",
       "    </tr>\n",
       "    <tr>\n",
       "      <th>4</th>\n",
       "      <td>0.146544</td>\n",
       "      <td>0.098340</td>\n",
       "      <td>0.250931</td>\n",
       "      <td>-0.125070</td>\n",
       "      <td>-0.046823</td>\n",
       "      <td>0.094946</td>\n",
       "      <td>0.016475</td>\n",
       "      <td>0.185400</td>\n",
       "      <td>0.465600</td>\n",
       "      <td>-0.149655</td>\n",
       "      <td>...</td>\n",
       "      <td>26.907579</td>\n",
       "      <td>-0.100689</td>\n",
       "      <td>-0.177535</td>\n",
       "      <td>-0.306784</td>\n",
       "      <td>-0.274469</td>\n",
       "      <td>-0.160434</td>\n",
       "      <td>0.230068</td>\n",
       "      <td>0.919699</td>\n",
       "      <td>0.468051</td>\n",
       "      <td>-0.433700</td>\n",
       "    </tr>\n",
       "  </tbody>\n",
       "</table>\n",
       "<p>5 rows × 595 columns</p>\n",
       "</div>"
      ],
      "text/plain": [
       "   features_0  features_1  features_2  features_3  features_4  features_5  \\\n",
       "0    0.139998    0.429208    0.032735    0.059342   -0.049911    0.094946   \n",
       "1    0.464020   -0.105874    0.236852    0.173847   -0.059375    0.094946   \n",
       "2   -0.351256    0.407233    0.026413    0.684661   -0.047236    0.094946   \n",
       "3   -0.070903   -0.025985    0.086766   -1.033387   -0.050620    0.094946   \n",
       "4    0.146544    0.098340    0.250931   -0.125070   -0.046823    0.094946   \n",
       "\n",
       "   features_6  features_7  features_8  features_9  ...  features_585  \\\n",
       "0   -0.228536    0.239971    0.436850    1.128343  ...     -0.196519   \n",
       "1    0.187826    0.278951    0.393723    0.022511  ...      0.385516   \n",
       "2   -0.415634    0.232175   -0.192349    0.327111  ...      0.030373   \n",
       "3    0.354494    0.045074    0.300837   -0.765478  ...     -0.282803   \n",
       "4    0.016475    0.185400    0.465600   -0.149655  ...     26.907579   \n",
       "\n",
       "   features_586  features_587  features_588  features_589     month      date  \\\n",
       "0     -1.734706     -1.868461     -1.840769     -1.061159 -0.160434  0.230068   \n",
       "1     -0.958144      0.412587      0.251029      1.156951 -0.160434  0.230068   \n",
       "2      2.989383      3.624211      3.318999     -0.178407 -0.160434  0.230068   \n",
       "3     -0.100689     -0.177535     -0.306784     -0.274469 -0.160434  0.230068   \n",
       "4     -0.100689     -0.177535     -0.306784     -0.274469 -0.160434  0.230068   \n",
       "\n",
       "   week_day      hour       min  \n",
       "0  0.919699 -0.113464  1.482160  \n",
       "1  0.919699  0.031915  0.146864  \n",
       "2  0.919699  0.177293 -0.723982  \n",
       "3  0.919699  0.322672  0.785484  \n",
       "4  0.919699  0.468051 -0.433700  \n",
       "\n",
       "[5 rows x 595 columns]"
      ]
     },
     "execution_count": 40,
     "metadata": {},
     "output_type": "execute_result"
    }
   ],
   "source": [
    "x.head()"
   ]
  },
  {
   "cell_type": "code",
   "execution_count": 41,
   "id": "217f2dc7",
   "metadata": {},
   "outputs": [
    {
     "data": {
      "text/plain": [
       "-1    1463\n",
       " 1     104\n",
       "Name: Pass_Fail, dtype: int64"
      ]
     },
     "execution_count": 41,
     "metadata": {},
     "output_type": "execute_result"
    }
   ],
   "source": [
    "# here you can find that complete data imbalance is in target feature.\n",
    "y.value_counts()"
   ]
  },
  {
   "cell_type": "code",
   "execution_count": 42,
   "id": "ea87d930",
   "metadata": {},
   "outputs": [],
   "source": [
    "# So, We will use Oversampling method to make the target feature balanced. Oversampling basically copy paste the majority class\n",
    "# into minority class so we can go for work with model to predict.. \n",
    "import imblearn"
   ]
  },
  {
   "cell_type": "code",
   "execution_count": 43,
   "id": "d50b0b19",
   "metadata": {},
   "outputs": [],
   "source": [
    "# RandomOverSampler is overfitting one solution.it will makeup the both class equal.\n",
    "from imblearn.over_sampling import RandomOverSampler"
   ]
  },
  {
   "cell_type": "code",
   "execution_count": 44,
   "id": "a83f0d22",
   "metadata": {},
   "outputs": [
    {
     "name": "stdout",
     "output_type": "stream",
     "text": [
      "Counter({-1: 1463, 1: 104})\n",
      "*************************\n",
      "Counter({-1: 1463, 1: 1463})\n"
     ]
    }
   ],
   "source": [
    "ros=RandomOverSampler()\n",
    "x_ros,y_ros=ros.fit_resample(x,y)\n",
    "from collections import Counter\n",
    "print(Counter(y))\n",
    "print(\"*****\"*5)\n",
    "print(Counter(y_ros))"
   ]
  },
  {
   "cell_type": "code",
   "execution_count": 45,
   "id": "d740799f",
   "metadata": {},
   "outputs": [
    {
     "data": {
      "text/plain": [
       "-1    1463\n",
       " 1    1463\n",
       "Name: Pass_Fail, dtype: int64"
      ]
     },
     "execution_count": 45,
     "metadata": {},
     "output_type": "execute_result"
    }
   ],
   "source": [
    "y_ros.value_counts()"
   ]
  },
  {
   "cell_type": "code",
   "execution_count": 46,
   "id": "ed2de653",
   "metadata": {},
   "outputs": [
    {
     "data": {
      "text/plain": [
       "(2926, 595)"
      ]
     },
     "execution_count": 46,
     "metadata": {},
     "output_type": "execute_result"
    }
   ],
   "source": [
    "x_ros.shape"
   ]
  },
  {
   "cell_type": "markdown",
   "id": "da8fc56d",
   "metadata": {},
   "source": [
    "# PCA Algorith Model ################################"
   ]
  },
  {
   "cell_type": "code",
   "execution_count": 47,
   "id": "0cc70aec",
   "metadata": {},
   "outputs": [
    {
     "data": {
      "text/plain": [
       "(2926, 145)"
      ]
     },
     "execution_count": 47,
     "metadata": {},
     "output_type": "execute_result"
    }
   ],
   "source": [
    "# Now as we can notice we have so many input features so why not checking how significance(important) are these before-\n",
    "# proceeding for creation of the models.\n",
    "# for this PCA is very good method for dimension reduction method. Principal Component Analysis \n",
    "from sklearn.decomposition import PCA\n",
    "pca=PCA(0.95)\n",
    "x_pca=pca.fit_transform(x_ros)\n",
    "x_pca.shape\n",
    "# pca=PCA(0.95) means that It will check every input features and will compare too each other and when it find 0.95% significant\n",
    "# then it will accept those feature other wise deny it those who don't come under 95%"
   ]
  },
  {
   "cell_type": "code",
   "execution_count": 48,
   "id": "ee164d7b",
   "metadata": {},
   "outputs": [],
   "source": [
    "# Now as you can see the input feature are now reduced from 595 to 145. \n",
    "# Now split the data into test and training data\n",
    "from sklearn.model_selection import train_test_split\n",
    "x_train,x_test, y_train, y_test=train_test_split(x_pca,y_ros,test_size=0.3,random_state=1)"
   ]
  },
  {
   "cell_type": "code",
   "execution_count": 49,
   "id": "81107854",
   "metadata": {},
   "outputs": [],
   "source": [
    "# Now building the model\n",
    "from sklearn.linear_model import LogisticRegression\n",
    "from sklearn.tree import DecisionTreeClassifier\n",
    "from sklearn.ensemble import RandomForestClassifier\n",
    "from sklearn.svm import SVC #kernal= Linear, Poly, Sigmoid , rbf\n",
    "from sklearn.neighbors import KNeighborsClassifier\n",
    "from sklearn.naive_bayes import GaussianNB\n",
    "from sklearn.naive_bayes import BernoulliNB\n",
    "from sklearn.ensemble import VotingClassifier\n",
    "#from xgboost import XGBClassifier\n",
    "# Now Deep Learning libraries\n",
    "\n",
    "# import tensorflow as tf\n",
    "# from tensorflow import keras\n",
    "# from keras import Sequential\n",
    "# from keras.layers import Dense\n",
    "\n",
    "from sklearn.metrics import confusion_matrix, classification_report, accuracy_score, precision_score,f1_score,recall_score"
   ]
  },
  {
   "cell_type": "code",
   "execution_count": 50,
   "id": "091f6c3d",
   "metadata": {},
   "outputs": [
    {
     "data": {
      "text/plain": [
       "RandomForestClassifier(criterion='entropy', n_estimators=500)"
      ]
     },
     "execution_count": 50,
     "metadata": {},
     "output_type": "execute_result"
    }
   ],
   "source": [
    "rforest= RandomForestClassifier(n_estimators=500,criterion='entropy' ) # gini is always used when some character value are there for numerical value entropy is the crieteria.\n",
    "rforest.fit(x_train,y_train)"
   ]
  },
  {
   "cell_type": "code",
   "execution_count": 51,
   "id": "ad73405f",
   "metadata": {},
   "outputs": [],
   "source": [
    "y_pred_train=rforest.predict(x_train)\n",
    "y_pred_test=rforest.predict(x_test)"
   ]
  },
  {
   "cell_type": "code",
   "execution_count": 52,
   "id": "8b312bad",
   "metadata": {},
   "outputs": [
    {
     "name": "stdout",
     "output_type": "stream",
     "text": [
      "[[1019    0]\n",
      " [   0 1029]]\n",
      "[[444   0]\n",
      " [  0 434]]\n"
     ]
    }
   ],
   "source": [
    "print(confusion_matrix(y_train, y_pred_train))\n",
    "print(confusion_matrix(y_test, y_pred_test))"
   ]
  },
  {
   "cell_type": "code",
   "execution_count": 53,
   "id": "a937fe26",
   "metadata": {},
   "outputs": [
    {
     "name": "stdout",
     "output_type": "stream",
     "text": [
      "              precision    recall  f1-score   support\n",
      "\n",
      "          -1       1.00      1.00      1.00      1019\n",
      "           1       1.00      1.00      1.00      1029\n",
      "\n",
      "    accuracy                           1.00      2048\n",
      "   macro avg       1.00      1.00      1.00      2048\n",
      "weighted avg       1.00      1.00      1.00      2048\n",
      "\n",
      "              precision    recall  f1-score   support\n",
      "\n",
      "          -1       1.00      1.00      1.00       444\n",
      "           1       1.00      1.00      1.00       434\n",
      "\n",
      "    accuracy                           1.00       878\n",
      "   macro avg       1.00      1.00      1.00       878\n",
      "weighted avg       1.00      1.00      1.00       878\n",
      "\n"
     ]
    }
   ],
   "source": [
    "print(classification_report(y_train, y_pred_train))\n",
    "print(classification_report(y_test, y_pred_test))"
   ]
  },
  {
   "cell_type": "code",
   "execution_count": 54,
   "id": "b00f7e7d",
   "metadata": {},
   "outputs": [
    {
     "name": "stdout",
     "output_type": "stream",
     "text": [
      "Training Accuracy:  1.0\n",
      "Test Accuracy:  1.0\n"
     ]
    }
   ],
   "source": [
    "print(\"Training Accuracy: \",accuracy_score(y_train, y_pred_train))\n",
    "print(\"Test Accuracy: \",accuracy_score(y_test, y_pred_test))"
   ]
  },
  {
   "cell_type": "code",
   "execution_count": 55,
   "id": "6eb65018",
   "metadata": {},
   "outputs": [],
   "source": [
    "# it is very Overfitting( Because model works well with training data, but with test data it is performing very poor.)\n",
    "# So for that We have to go for another classificaion model"
   ]
  },
  {
   "cell_type": "markdown",
   "id": "4f32a702",
   "metadata": {},
   "source": [
    "# Logistic Regression ################################################"
   ]
  },
  {
   "cell_type": "code",
   "execution_count": 56,
   "id": "631ca67e",
   "metadata": {},
   "outputs": [
    {
     "data": {
      "text/html": [
       "<div>\n",
       "<style scoped>\n",
       "    .dataframe tbody tr th:only-of-type {\n",
       "        vertical-align: middle;\n",
       "    }\n",
       "\n",
       "    .dataframe tbody tr th {\n",
       "        vertical-align: top;\n",
       "    }\n",
       "\n",
       "    .dataframe thead th {\n",
       "        text-align: right;\n",
       "    }\n",
       "</style>\n",
       "<table border=\"1\" class=\"dataframe\">\n",
       "  <thead>\n",
       "    <tr style=\"text-align: right;\">\n",
       "      <th></th>\n",
       "      <th>Time</th>\n",
       "      <th>0</th>\n",
       "      <th>1</th>\n",
       "      <th>2</th>\n",
       "      <th>3</th>\n",
       "      <th>4</th>\n",
       "      <th>5</th>\n",
       "      <th>6</th>\n",
       "      <th>7</th>\n",
       "      <th>8</th>\n",
       "      <th>...</th>\n",
       "      <th>581</th>\n",
       "      <th>582</th>\n",
       "      <th>583</th>\n",
       "      <th>584</th>\n",
       "      <th>585</th>\n",
       "      <th>586</th>\n",
       "      <th>587</th>\n",
       "      <th>588</th>\n",
       "      <th>589</th>\n",
       "      <th>Pass/Fail</th>\n",
       "    </tr>\n",
       "  </thead>\n",
       "  <tbody>\n",
       "    <tr>\n",
       "      <th>0</th>\n",
       "      <td>2008-07-19 11:55:00</td>\n",
       "      <td>3030.93</td>\n",
       "      <td>2564.00</td>\n",
       "      <td>2187.7333</td>\n",
       "      <td>1411.1265</td>\n",
       "      <td>1.3602</td>\n",
       "      <td>100.0</td>\n",
       "      <td>97.6133</td>\n",
       "      <td>0.1242</td>\n",
       "      <td>1.5005</td>\n",
       "      <td>...</td>\n",
       "      <td>NaN</td>\n",
       "      <td>0.5005</td>\n",
       "      <td>0.0118</td>\n",
       "      <td>0.0035</td>\n",
       "      <td>2.3630</td>\n",
       "      <td>NaN</td>\n",
       "      <td>NaN</td>\n",
       "      <td>NaN</td>\n",
       "      <td>NaN</td>\n",
       "      <td>-1</td>\n",
       "    </tr>\n",
       "    <tr>\n",
       "      <th>1</th>\n",
       "      <td>2008-07-19 12:32:00</td>\n",
       "      <td>3095.78</td>\n",
       "      <td>2465.14</td>\n",
       "      <td>2230.4222</td>\n",
       "      <td>1463.6606</td>\n",
       "      <td>0.8294</td>\n",
       "      <td>100.0</td>\n",
       "      <td>102.3433</td>\n",
       "      <td>0.1247</td>\n",
       "      <td>1.4966</td>\n",
       "      <td>...</td>\n",
       "      <td>208.2045</td>\n",
       "      <td>0.5019</td>\n",
       "      <td>0.0223</td>\n",
       "      <td>0.0055</td>\n",
       "      <td>4.4447</td>\n",
       "      <td>0.0096</td>\n",
       "      <td>0.0201</td>\n",
       "      <td>0.0060</td>\n",
       "      <td>208.2045</td>\n",
       "      <td>-1</td>\n",
       "    </tr>\n",
       "    <tr>\n",
       "      <th>2</th>\n",
       "      <td>2008-07-19 13:17:00</td>\n",
       "      <td>2932.61</td>\n",
       "      <td>2559.94</td>\n",
       "      <td>2186.4111</td>\n",
       "      <td>1698.0172</td>\n",
       "      <td>1.5102</td>\n",
       "      <td>100.0</td>\n",
       "      <td>95.4878</td>\n",
       "      <td>0.1241</td>\n",
       "      <td>1.4436</td>\n",
       "      <td>...</td>\n",
       "      <td>82.8602</td>\n",
       "      <td>0.4958</td>\n",
       "      <td>0.0157</td>\n",
       "      <td>0.0039</td>\n",
       "      <td>3.1745</td>\n",
       "      <td>0.0584</td>\n",
       "      <td>0.0484</td>\n",
       "      <td>0.0148</td>\n",
       "      <td>82.8602</td>\n",
       "      <td>1</td>\n",
       "    </tr>\n",
       "    <tr>\n",
       "      <th>3</th>\n",
       "      <td>2008-07-19 14:43:00</td>\n",
       "      <td>2988.72</td>\n",
       "      <td>2479.90</td>\n",
       "      <td>2199.0333</td>\n",
       "      <td>909.7926</td>\n",
       "      <td>1.3204</td>\n",
       "      <td>100.0</td>\n",
       "      <td>104.2367</td>\n",
       "      <td>0.1217</td>\n",
       "      <td>1.4882</td>\n",
       "      <td>...</td>\n",
       "      <td>73.8432</td>\n",
       "      <td>0.4990</td>\n",
       "      <td>0.0103</td>\n",
       "      <td>0.0025</td>\n",
       "      <td>2.0544</td>\n",
       "      <td>0.0202</td>\n",
       "      <td>0.0149</td>\n",
       "      <td>0.0044</td>\n",
       "      <td>73.8432</td>\n",
       "      <td>-1</td>\n",
       "    </tr>\n",
       "    <tr>\n",
       "      <th>4</th>\n",
       "      <td>2008-07-19 15:22:00</td>\n",
       "      <td>3032.24</td>\n",
       "      <td>2502.87</td>\n",
       "      <td>2233.3667</td>\n",
       "      <td>1326.5200</td>\n",
       "      <td>1.5334</td>\n",
       "      <td>100.0</td>\n",
       "      <td>100.3967</td>\n",
       "      <td>0.1235</td>\n",
       "      <td>1.5031</td>\n",
       "      <td>...</td>\n",
       "      <td>NaN</td>\n",
       "      <td>0.4800</td>\n",
       "      <td>0.4766</td>\n",
       "      <td>0.1045</td>\n",
       "      <td>99.3032</td>\n",
       "      <td>0.0202</td>\n",
       "      <td>0.0149</td>\n",
       "      <td>0.0044</td>\n",
       "      <td>73.8432</td>\n",
       "      <td>-1</td>\n",
       "    </tr>\n",
       "  </tbody>\n",
       "</table>\n",
       "<p>5 rows × 592 columns</p>\n",
       "</div>"
      ],
      "text/plain": [
       "                  Time        0        1          2          3       4      5  \\\n",
       "0  2008-07-19 11:55:00  3030.93  2564.00  2187.7333  1411.1265  1.3602  100.0   \n",
       "1  2008-07-19 12:32:00  3095.78  2465.14  2230.4222  1463.6606  0.8294  100.0   \n",
       "2  2008-07-19 13:17:00  2932.61  2559.94  2186.4111  1698.0172  1.5102  100.0   \n",
       "3  2008-07-19 14:43:00  2988.72  2479.90  2199.0333   909.7926  1.3204  100.0   \n",
       "4  2008-07-19 15:22:00  3032.24  2502.87  2233.3667  1326.5200  1.5334  100.0   \n",
       "\n",
       "          6       7       8  ...       581     582     583     584      585  \\\n",
       "0   97.6133  0.1242  1.5005  ...       NaN  0.5005  0.0118  0.0035   2.3630   \n",
       "1  102.3433  0.1247  1.4966  ...  208.2045  0.5019  0.0223  0.0055   4.4447   \n",
       "2   95.4878  0.1241  1.4436  ...   82.8602  0.4958  0.0157  0.0039   3.1745   \n",
       "3  104.2367  0.1217  1.4882  ...   73.8432  0.4990  0.0103  0.0025   2.0544   \n",
       "4  100.3967  0.1235  1.5031  ...       NaN  0.4800  0.4766  0.1045  99.3032   \n",
       "\n",
       "      586     587     588       589  Pass/Fail  \n",
       "0     NaN     NaN     NaN       NaN         -1  \n",
       "1  0.0096  0.0201  0.0060  208.2045         -1  \n",
       "2  0.0584  0.0484  0.0148   82.8602          1  \n",
       "3  0.0202  0.0149  0.0044   73.8432         -1  \n",
       "4  0.0202  0.0149  0.0044   73.8432         -1  \n",
       "\n",
       "[5 rows x 592 columns]"
      ]
     },
     "execution_count": 56,
     "metadata": {},
     "output_type": "execute_result"
    }
   ],
   "source": [
    "dataset=pd.read_csv('manufacturing dataset.csv')\n",
    "dataset.head()"
   ]
  },
  {
   "cell_type": "code",
   "execution_count": 57,
   "id": "ae026c76",
   "metadata": {},
   "outputs": [],
   "source": [
    "dataset.columns = 'features_'+dataset.columns"
   ]
  },
  {
   "cell_type": "code",
   "execution_count": 58,
   "id": "747a49d1",
   "metadata": {},
   "outputs": [],
   "source": [
    "dataset.rename(columns = {'features_Time': 'Time'}, inplace=True)\n",
    "dataset.rename(columns = {'features_Pass/Fail': 'Pass_Fail'}, inplace=True)"
   ]
  },
  {
   "cell_type": "code",
   "execution_count": 59,
   "id": "6f944751",
   "metadata": {},
   "outputs": [],
   "source": [
    "df = dataset.iloc[:,1:]\n",
    "df = df.apply(lambda x:x.fillna(0), axis=0)\n",
    "# axis=0 - row wise\n",
    "df2 = dataset.iloc[:,0]\n",
    "result = pd.concat([df, df2], axis=1).reindex(df.index)"
   ]
  },
  {
   "cell_type": "code",
   "execution_count": 60,
   "id": "7e8403b7",
   "metadata": {},
   "outputs": [],
   "source": [
    "from datetime import datetime\n",
    "result['year'] = pd.DatetimeIndex(result['Time']).year\n",
    "result['month'] = pd.DatetimeIndex(result['Time']).month\n",
    "result['date'] = pd.DatetimeIndex(result['Time']).day\n",
    "result['week_day'] = pd.DatetimeIndex(result['Time']).weekday\n",
    "result['start_time'] = pd.DatetimeIndex(result['Time']).time\n",
    "result['hour'] = pd.DatetimeIndex(result['Time']).hour\n",
    "result['min'] = pd.DatetimeIndex(result['Time']).minute"
   ]
  },
  {
   "cell_type": "code",
   "execution_count": 61,
   "id": "47ebc85c",
   "metadata": {},
   "outputs": [],
   "source": [
    "x= result.drop(['Pass_Fail','Time','year','start_time'], axis=1)\n",
    "y=result['Pass_Fail']"
   ]
  },
  {
   "cell_type": "code",
   "execution_count": 62,
   "id": "88e0d97f",
   "metadata": {},
   "outputs": [
    {
     "data": {
      "text/plain": [
       "(1567, 595)"
      ]
     },
     "execution_count": 62,
     "metadata": {},
     "output_type": "execute_result"
    }
   ],
   "source": [
    "x.shape"
   ]
  },
  {
   "cell_type": "code",
   "execution_count": 63,
   "id": "651b008c",
   "metadata": {},
   "outputs": [
    {
     "data": {
      "text/plain": [
       "-1    1463\n",
       " 1     104\n",
       "Name: Pass_Fail, dtype: int64"
      ]
     },
     "execution_count": 63,
     "metadata": {},
     "output_type": "execute_result"
    }
   ],
   "source": [
    "y.value_counts()"
   ]
  },
  {
   "cell_type": "code",
   "execution_count": 64,
   "id": "87cc798d",
   "metadata": {},
   "outputs": [],
   "source": [
    "from sklearn.model_selection import train_test_split\n",
    "x_train,x_test,y_train,y_test=train_test_split(x,y,test_size=0.3,random_state=1)"
   ]
  },
  {
   "cell_type": "code",
   "execution_count": 65,
   "id": "855f37cd",
   "metadata": {},
   "outputs": [
    {
     "name": "stderr",
     "output_type": "stream",
     "text": [
      "C:\\Users\\kanur\\anaconda3\\lib\\site-packages\\sklearn\\linear_model\\_logistic.py:814: ConvergenceWarning: lbfgs failed to converge (status=1):\n",
      "STOP: TOTAL NO. of ITERATIONS REACHED LIMIT.\n",
      "\n",
      "Increase the number of iterations (max_iter) or scale the data as shown in:\n",
      "    https://scikit-learn.org/stable/modules/preprocessing.html\n",
      "Please also refer to the documentation for alternative solver options:\n",
      "    https://scikit-learn.org/stable/modules/linear_model.html#logistic-regression\n",
      "  n_iter_i = _check_optimize_result(\n"
     ]
    },
    {
     "data": {
      "text/plain": [
       "LogisticRegression()"
      ]
     },
     "execution_count": 65,
     "metadata": {},
     "output_type": "execute_result"
    }
   ],
   "source": [
    "from sklearn.linear_model import LogisticRegression\n",
    "logmodel=LogisticRegression()\n",
    "logmodel.fit(x_train,y_train)"
   ]
  },
  {
   "cell_type": "code",
   "execution_count": 66,
   "id": "9c3504a2",
   "metadata": {},
   "outputs": [],
   "source": [
    "y_pred= logmodel.predict(x_train)"
   ]
  },
  {
   "cell_type": "code",
   "execution_count": 67,
   "id": "19fa9002",
   "metadata": {},
   "outputs": [],
   "source": [
    "x_pred= logmodel.predict(x_test)"
   ]
  },
  {
   "cell_type": "code",
   "execution_count": 68,
   "id": "bb781386",
   "metadata": {},
   "outputs": [],
   "source": [
    "from sklearn.metrics import confusion_matrix, classification_report, accuracy_score, precision_score,f1_score,recall_score"
   ]
  },
  {
   "cell_type": "code",
   "execution_count": 69,
   "id": "0a9adcf0",
   "metadata": {},
   "outputs": [
    {
     "data": {
      "text/plain": [
       "0.9306569343065694"
      ]
     },
     "execution_count": 69,
     "metadata": {},
     "output_type": "execute_result"
    }
   ],
   "source": [
    "accuracy_score(y_train,y_pred)"
   ]
  },
  {
   "cell_type": "code",
   "execution_count": 70,
   "id": "4cace926",
   "metadata": {},
   "outputs": [
    {
     "data": {
      "text/plain": [
       "0.9256900212314225"
      ]
     },
     "execution_count": 70,
     "metadata": {},
     "output_type": "execute_result"
    }
   ],
   "source": [
    "accuracy_score(y_test,x_pred)"
   ]
  },
  {
   "cell_type": "code",
   "execution_count": 71,
   "id": "60821f50",
   "metadata": {},
   "outputs": [
    {
     "name": "stdout",
     "output_type": "stream",
     "text": [
      "Classification report of training data               precision    recall  f1-score   support\n",
      "\n",
      "          -1       0.94      0.99      0.96      1024\n",
      "           1       0.25      0.03      0.05        72\n",
      "\n",
      "    accuracy                           0.93      1096\n",
      "   macro avg       0.59      0.51      0.51      1096\n",
      "weighted avg       0.89      0.93      0.90      1096\n",
      "\n"
     ]
    }
   ],
   "source": [
    "print(\"Classification report of training data\",classification_report(y_train,y_pred))"
   ]
  },
  {
   "cell_type": "code",
   "execution_count": 72,
   "id": "3079e6d1",
   "metadata": {},
   "outputs": [
    {
     "name": "stdout",
     "output_type": "stream",
     "text": [
      "Classification report of training data               precision    recall  f1-score   support\n",
      "\n",
      "          -1       0.93      0.99      0.96       439\n",
      "           1       0.00      0.00      0.00        32\n",
      "\n",
      "    accuracy                           0.93       471\n",
      "   macro avg       0.47      0.50      0.48       471\n",
      "weighted avg       0.87      0.93      0.90       471\n",
      "\n"
     ]
    }
   ],
   "source": [
    "print(\"Classification report of training data\",classification_report(y_test,x_pred))"
   ]
  },
  {
   "cell_type": "code",
   "execution_count": 73,
   "id": "4d48c8d9",
   "metadata": {},
   "outputs": [
    {
     "name": "stdout",
     "output_type": "stream",
     "text": [
      "confusion_matrix of train data:\n",
      " [[1018    6]\n",
      " [  70    2]]\n"
     ]
    }
   ],
   "source": [
    "print(\"confusion_matrix of train data:\\n\",confusion_matrix(y_train,y_pred))"
   ]
  },
  {
   "cell_type": "code",
   "execution_count": 74,
   "id": "bb23d9ed",
   "metadata": {},
   "outputs": [
    {
     "name": "stdout",
     "output_type": "stream",
     "text": [
      "confusion_matrix of train data:\n",
      " [[436   3]\n",
      " [ 32   0]]\n"
     ]
    }
   ],
   "source": [
    "print(\"confusion_matrix of train data:\\n\",confusion_matrix(y_test,x_pred))"
   ]
  },
  {
   "cell_type": "markdown",
   "id": "0dc94f33",
   "metadata": {},
   "source": [
    "## using Standard Scaler and randomOversampler for balancing the imbalance data then perform logistic Regression ##"
   ]
  },
  {
   "cell_type": "code",
   "execution_count": 75,
   "id": "943b7f07",
   "metadata": {},
   "outputs": [],
   "source": [
    "from sklearn.preprocessing import StandardScaler\n",
    "scaler=StandardScaler()"
   ]
  },
  {
   "cell_type": "code",
   "execution_count": 76,
   "id": "528ce5d1",
   "metadata": {},
   "outputs": [
    {
     "data": {
      "text/plain": [
       "StandardScaler()"
      ]
     },
     "execution_count": 76,
     "metadata": {},
     "output_type": "execute_result"
    }
   ],
   "source": [
    "scaler.fit(x,y)"
   ]
  },
  {
   "cell_type": "code",
   "execution_count": 77,
   "id": "8079f8ae",
   "metadata": {},
   "outputs": [],
   "source": [
    "from imblearn.over_sampling import RandomOverSampler"
   ]
  },
  {
   "cell_type": "code",
   "execution_count": 78,
   "id": "2fae307d",
   "metadata": {},
   "outputs": [
    {
     "name": "stdout",
     "output_type": "stream",
     "text": [
      "Counter({-1: 1463, 1: 104})\n",
      "*************************\n",
      "Counter({-1: 1463, 1: 1463})\n"
     ]
    }
   ],
   "source": [
    "ros=RandomOverSampler()\n",
    "x_ros,y_ros=ros.fit_resample(x,y)\n",
    "from collections import Counter\n",
    "print(Counter(y))\n",
    "print(\"*****\"*5)\n",
    "print(Counter(y_ros))"
   ]
  },
  {
   "cell_type": "code",
   "execution_count": 79,
   "id": "332723f5",
   "metadata": {},
   "outputs": [],
   "source": [
    "x=x_ros\n",
    "y=y_ros"
   ]
  },
  {
   "cell_type": "code",
   "execution_count": 80,
   "id": "2c5f9d69",
   "metadata": {},
   "outputs": [
    {
     "data": {
      "text/plain": [
       "(2926, 595)"
      ]
     },
     "execution_count": 80,
     "metadata": {},
     "output_type": "execute_result"
    }
   ],
   "source": [
    "x.shape"
   ]
  },
  {
   "cell_type": "code",
   "execution_count": 81,
   "id": "7a8cdb84",
   "metadata": {},
   "outputs": [
    {
     "data": {
      "text/plain": [
       "-1    1463\n",
       " 1    1463\n",
       "Name: Pass_Fail, dtype: int64"
      ]
     },
     "execution_count": 81,
     "metadata": {},
     "output_type": "execute_result"
    }
   ],
   "source": [
    "y.value_counts()"
   ]
  },
  {
   "cell_type": "code",
   "execution_count": 82,
   "id": "a4ac4535",
   "metadata": {},
   "outputs": [],
   "source": [
    "from sklearn.model_selection import train_test_split"
   ]
  },
  {
   "cell_type": "code",
   "execution_count": 83,
   "id": "39a1b024",
   "metadata": {},
   "outputs": [],
   "source": [
    "x_train,x_test,y_train,y_test=train_test_split(x,y,test_size=0.33,random_state=1)"
   ]
  },
  {
   "cell_type": "code",
   "execution_count": 84,
   "id": "7fe0849e",
   "metadata": {},
   "outputs": [],
   "source": [
    "from sklearn.linear_model import LogisticRegression\n",
    "lgmodel=LogisticRegression()"
   ]
  },
  {
   "cell_type": "code",
   "execution_count": 85,
   "id": "dbc19099",
   "metadata": {},
   "outputs": [
    {
     "name": "stderr",
     "output_type": "stream",
     "text": [
      "C:\\Users\\kanur\\anaconda3\\lib\\site-packages\\sklearn\\linear_model\\_logistic.py:814: ConvergenceWarning: lbfgs failed to converge (status=1):\n",
      "STOP: TOTAL NO. of ITERATIONS REACHED LIMIT.\n",
      "\n",
      "Increase the number of iterations (max_iter) or scale the data as shown in:\n",
      "    https://scikit-learn.org/stable/modules/preprocessing.html\n",
      "Please also refer to the documentation for alternative solver options:\n",
      "    https://scikit-learn.org/stable/modules/linear_model.html#logistic-regression\n",
      "  n_iter_i = _check_optimize_result(\n"
     ]
    },
    {
     "data": {
      "text/plain": [
       "LogisticRegression()"
      ]
     },
     "execution_count": 85,
     "metadata": {},
     "output_type": "execute_result"
    }
   ],
   "source": [
    "lgmodel.fit(x_train,y_train)"
   ]
  },
  {
   "cell_type": "code",
   "execution_count": 86,
   "id": "1a304d1d",
   "metadata": {},
   "outputs": [],
   "source": [
    "pred_x_train=lgmodel.predict(x_train)"
   ]
  },
  {
   "cell_type": "code",
   "execution_count": 87,
   "id": "589b394f",
   "metadata": {},
   "outputs": [],
   "source": [
    "pred_x_test=lgmodel.predict(x_test)"
   ]
  },
  {
   "cell_type": "code",
   "execution_count": 88,
   "id": "58357701",
   "metadata": {},
   "outputs": [
    {
     "data": {
      "text/plain": [
       "0.6877551020408164"
      ]
     },
     "execution_count": 88,
     "metadata": {},
     "output_type": "execute_result"
    }
   ],
   "source": [
    "accuracy_score(y_train,pred_x_train)"
   ]
  },
  {
   "cell_type": "code",
   "execution_count": 89,
   "id": "e737b609",
   "metadata": {},
   "outputs": [
    {
     "data": {
      "text/plain": [
       "0.6759834368530021"
      ]
     },
     "execution_count": 89,
     "metadata": {},
     "output_type": "execute_result"
    }
   ],
   "source": [
    "accuracy_score(y_test,pred_x_test)"
   ]
  },
  {
   "cell_type": "code",
   "execution_count": 90,
   "id": "b8f8d798",
   "metadata": {},
   "outputs": [
    {
     "name": "stdout",
     "output_type": "stream",
     "text": [
      "Classification report of training data               precision    recall  f1-score   support\n",
      "\n",
      "          -1       0.69      0.68      0.68       979\n",
      "           1       0.69      0.70      0.69       981\n",
      "\n",
      "    accuracy                           0.69      1960\n",
      "   macro avg       0.69      0.69      0.69      1960\n",
      "weighted avg       0.69      0.69      0.69      1960\n",
      "\n"
     ]
    }
   ],
   "source": [
    "print(\"Classification report of training data\",classification_report(y_train,pred_x_train))"
   ]
  },
  {
   "cell_type": "code",
   "execution_count": 91,
   "id": "7c42dc3e",
   "metadata": {},
   "outputs": [
    {
     "name": "stdout",
     "output_type": "stream",
     "text": [
      "Classification report of training data               precision    recall  f1-score   support\n",
      "\n",
      "          -1       0.68      0.66      0.67       484\n",
      "           1       0.67      0.69      0.68       482\n",
      "\n",
      "    accuracy                           0.68       966\n",
      "   macro avg       0.68      0.68      0.68       966\n",
      "weighted avg       0.68      0.68      0.68       966\n",
      "\n"
     ]
    }
   ],
   "source": [
    "print(\"Classification report of training data\",classification_report(y_test,pred_x_test))"
   ]
  },
  {
   "cell_type": "code",
   "execution_count": 92,
   "id": "a04dd91f",
   "metadata": {
    "scrolled": true
   },
   "outputs": [
    {
     "name": "stdout",
     "output_type": "stream",
     "text": [
      "confusion_matrix of train data:\n",
      " [[665 314]\n",
      " [298 683]]\n"
     ]
    }
   ],
   "source": [
    "print(\"confusion_matrix of train data:\\n\",confusion_matrix(y_train,pred_x_train))"
   ]
  },
  {
   "cell_type": "code",
   "execution_count": 93,
   "id": "edcdfa32",
   "metadata": {},
   "outputs": [
    {
     "name": "stdout",
     "output_type": "stream",
     "text": [
      "confusion_matrix of train data:\n",
      " [[321 163]\n",
      " [150 332]]\n"
     ]
    }
   ],
   "source": [
    "print(\"confusion_matrix of train data:\\n\",confusion_matrix(y_test,pred_x_test))"
   ]
  },
  {
   "cell_type": "markdown",
   "id": "921eebd0",
   "metadata": {},
   "source": [
    "# Decision Tree Classifier #######################################"
   ]
  },
  {
   "cell_type": "code",
   "execution_count": 94,
   "id": "c4d70c42",
   "metadata": {},
   "outputs": [
    {
     "data": {
      "text/plain": [
       "(1960, 595)"
      ]
     },
     "execution_count": 94,
     "metadata": {},
     "output_type": "execute_result"
    }
   ],
   "source": [
    "x_train.shape"
   ]
  },
  {
   "cell_type": "code",
   "execution_count": 95,
   "id": "34099894",
   "metadata": {},
   "outputs": [],
   "source": [
    "from sklearn.preprocessing import StandardScaler\n",
    "scaler= StandardScaler()"
   ]
  },
  {
   "cell_type": "code",
   "execution_count": 96,
   "id": "ab47943f",
   "metadata": {},
   "outputs": [
    {
     "data": {
      "text/plain": [
       "StandardScaler()"
      ]
     },
     "execution_count": 96,
     "metadata": {},
     "output_type": "execute_result"
    }
   ],
   "source": [
    "scaler.fit(x,y)"
   ]
  },
  {
   "cell_type": "code",
   "execution_count": 97,
   "id": "9a9c0106",
   "metadata": {},
   "outputs": [],
   "source": [
    "from imblearn.over_sampling import RandomOverSampler"
   ]
  },
  {
   "cell_type": "code",
   "execution_count": 98,
   "id": "ea553cbd",
   "metadata": {},
   "outputs": [
    {
     "name": "stdout",
     "output_type": "stream",
     "text": [
      "Counter({-1: 1463, 1: 1463})\n",
      "*************************\n",
      "Counter({-1: 1463, 1: 1463})\n"
     ]
    }
   ],
   "source": [
    "ros=RandomOverSampler()\n",
    "x_ros,y_ros=ros.fit_resample(x,y)\n",
    "from collections import Counter\n",
    "print(Counter(y))\n",
    "print(\"*****\"*5)\n",
    "print(Counter(y_ros))"
   ]
  },
  {
   "cell_type": "code",
   "execution_count": 99,
   "id": "c883e28f",
   "metadata": {},
   "outputs": [],
   "source": [
    "x=x_ros\n",
    "y=y_ros"
   ]
  },
  {
   "cell_type": "code",
   "execution_count": 100,
   "id": "198acc67",
   "metadata": {},
   "outputs": [],
   "source": [
    "from sklearn.model_selection import train_test_split"
   ]
  },
  {
   "cell_type": "code",
   "execution_count": 101,
   "id": "71201c31",
   "metadata": {},
   "outputs": [],
   "source": [
    "x_train,x_test,y_train,y_test=train_test_split(x,y,test_size=0.33,random_state=1)"
   ]
  },
  {
   "cell_type": "code",
   "execution_count": 102,
   "id": "5a227593",
   "metadata": {},
   "outputs": [
    {
     "data": {
      "text/plain": [
       "DecisionTreeClassifier(criterion='entropy', random_state=1)"
      ]
     },
     "execution_count": 102,
     "metadata": {},
     "output_type": "execute_result"
    }
   ],
   "source": [
    "from sklearn.tree import DecisionTreeClassifier\n",
    "classifier=DecisionTreeClassifier(criterion= \"entropy\", random_state=1)\n",
    "classifier.fit(x_train,y_train)"
   ]
  },
  {
   "cell_type": "code",
   "execution_count": 103,
   "id": "914de0f3",
   "metadata": {},
   "outputs": [],
   "source": [
    "pred_y_train=classifier.predict(x_train)\n",
    "pred_y_test=classifier.predict(x_test)"
   ]
  },
  {
   "cell_type": "code",
   "execution_count": 104,
   "id": "c903c85d",
   "metadata": {},
   "outputs": [
    {
     "data": {
      "text/plain": [
       "1.0"
      ]
     },
     "execution_count": 104,
     "metadata": {},
     "output_type": "execute_result"
    }
   ],
   "source": [
    "accuracy_score(y_train,pred_y_train)"
   ]
  },
  {
   "cell_type": "code",
   "execution_count": 105,
   "id": "fe133fc6",
   "metadata": {},
   "outputs": [
    {
     "data": {
      "text/plain": [
       "0.94824016563147"
      ]
     },
     "execution_count": 105,
     "metadata": {},
     "output_type": "execute_result"
    }
   ],
   "source": [
    "accuracy_score(y_test,pred_y_test)"
   ]
  },
  {
   "cell_type": "code",
   "execution_count": 106,
   "id": "47813fa7",
   "metadata": {},
   "outputs": [
    {
     "name": "stdout",
     "output_type": "stream",
     "text": [
      "Classification report of training data               precision    recall  f1-score   support\n",
      "\n",
      "          -1       1.00      1.00      1.00       979\n",
      "           1       1.00      1.00      1.00       981\n",
      "\n",
      "    accuracy                           1.00      1960\n",
      "   macro avg       1.00      1.00      1.00      1960\n",
      "weighted avg       1.00      1.00      1.00      1960\n",
      "\n"
     ]
    }
   ],
   "source": [
    "print(\"Classification report of training data\",classification_report(y_train,pred_y_train))"
   ]
  },
  {
   "cell_type": "code",
   "execution_count": 107,
   "id": "cbcb065d",
   "metadata": {},
   "outputs": [
    {
     "name": "stdout",
     "output_type": "stream",
     "text": [
      "confusion_matrix of train data:\n",
      " [[434  50]\n",
      " [  0 482]]\n"
     ]
    }
   ],
   "source": [
    "print(\"confusion_matrix of train data:\\n\",confusion_matrix(y_test,pred_y_test))"
   ]
  },
  {
   "cell_type": "code",
   "execution_count": 108,
   "id": "39e89495",
   "metadata": {},
   "outputs": [],
   "source": [
    "from sklearn.metrics import roc_auc_score"
   ]
  },
  {
   "cell_type": "code",
   "execution_count": 109,
   "id": "cec81f98",
   "metadata": {},
   "outputs": [
    {
     "data": {
      "text/plain": [
       "1.0"
      ]
     },
     "execution_count": 109,
     "metadata": {},
     "output_type": "execute_result"
    }
   ],
   "source": [
    "roc_auc_score(y_train,pred_y_train)"
   ]
  },
  {
   "cell_type": "code",
   "execution_count": 110,
   "id": "6b0060b6",
   "metadata": {},
   "outputs": [
    {
     "data": {
      "text/plain": [
       "0.9483471074380165"
      ]
     },
     "execution_count": 110,
     "metadata": {},
     "output_type": "execute_result"
    }
   ],
   "source": [
    "roc_auc_score(y_test,pred_y_test)"
   ]
  },
  {
   "cell_type": "markdown",
   "id": "0c6a4d78",
   "metadata": {},
   "source": [
    "# Run through gridsearchcv ##########"
   ]
  },
  {
   "cell_type": "code",
   "execution_count": 111,
   "id": "cf302add",
   "metadata": {},
   "outputs": [],
   "source": [
    "from sklearn.model_selection import GridSearchCV"
   ]
  },
  {
   "cell_type": "code",
   "execution_count": 112,
   "id": "e83971dc",
   "metadata": {},
   "outputs": [],
   "source": [
    "params=[{\"criterion\": ['gini','entropy'],'max_depth': range(2,10)}]"
   ]
  },
  {
   "cell_type": "code",
   "execution_count": 113,
   "id": "3cd58300",
   "metadata": {},
   "outputs": [],
   "source": [
    "model=DecisionTreeClassifier()"
   ]
  },
  {
   "cell_type": "code",
   "execution_count": 114,
   "id": "a652585f",
   "metadata": {},
   "outputs": [],
   "source": [
    "modelCV=GridSearchCV(model,params,cv=10,scoring=\"roc_auc\")"
   ]
  },
  {
   "cell_type": "code",
   "execution_count": 115,
   "id": "20a19e0e",
   "metadata": {},
   "outputs": [
    {
     "data": {
      "text/plain": [
       "GridSearchCV(cv=10, estimator=DecisionTreeClassifier(),\n",
       "             param_grid=[{'criterion': ['gini', 'entropy'],\n",
       "                          'max_depth': range(2, 10)}],\n",
       "             scoring='roc_auc')"
      ]
     },
     "execution_count": 115,
     "metadata": {},
     "output_type": "execute_result"
    }
   ],
   "source": [
    "modelCV.fit(x_train,y_train)"
   ]
  },
  {
   "cell_type": "code",
   "execution_count": 116,
   "id": "268341b9",
   "metadata": {},
   "outputs": [
    {
     "data": {
      "text/plain": [
       "0.9266707433376604"
      ]
     },
     "execution_count": 116,
     "metadata": {},
     "output_type": "execute_result"
    }
   ],
   "source": [
    "modelCV.best_score_"
   ]
  },
  {
   "cell_type": "code",
   "execution_count": 117,
   "id": "687fa151",
   "metadata": {},
   "outputs": [
    {
     "data": {
      "text/plain": [
       "{'criterion': 'gini', 'max_depth': 8}"
      ]
     },
     "execution_count": 117,
     "metadata": {},
     "output_type": "execute_result"
    }
   ],
   "source": [
    "modelCV.best_params_"
   ]
  },
  {
   "cell_type": "code",
   "execution_count": null,
   "id": "ca436759",
   "metadata": {},
   "outputs": [],
   "source": []
  },
  {
   "cell_type": "markdown",
   "id": "2271ef68",
   "metadata": {},
   "source": [
    "# KNN model #########################"
   ]
  },
  {
   "cell_type": "code",
   "execution_count": 118,
   "id": "dfb6fffd",
   "metadata": {},
   "outputs": [
    {
     "data": {
      "text/plain": [
       "(2926, 595)"
      ]
     },
     "execution_count": 118,
     "metadata": {},
     "output_type": "execute_result"
    }
   ],
   "source": [
    "x.shape"
   ]
  },
  {
   "cell_type": "code",
   "execution_count": 119,
   "id": "cd609e3c",
   "metadata": {},
   "outputs": [
    {
     "data": {
      "text/plain": [
       "(2926,)"
      ]
     },
     "execution_count": 119,
     "metadata": {},
     "output_type": "execute_result"
    }
   ],
   "source": [
    "y.shape"
   ]
  },
  {
   "cell_type": "code",
   "execution_count": 120,
   "id": "b7aecf39",
   "metadata": {},
   "outputs": [],
   "source": [
    "from sklearn.preprocessing import StandardScaler"
   ]
  },
  {
   "cell_type": "code",
   "execution_count": 121,
   "id": "1d4cca5a",
   "metadata": {},
   "outputs": [],
   "source": [
    "scaler=StandardScaler()"
   ]
  },
  {
   "cell_type": "code",
   "execution_count": 122,
   "id": "4282303a",
   "metadata": {},
   "outputs": [
    {
     "data": {
      "text/plain": [
       "StandardScaler()"
      ]
     },
     "execution_count": 122,
     "metadata": {},
     "output_type": "execute_result"
    }
   ],
   "source": [
    "scaler.fit(x,y)"
   ]
  },
  {
   "cell_type": "code",
   "execution_count": 123,
   "id": "c4f64de0",
   "metadata": {},
   "outputs": [],
   "source": [
    "from sklearn.model_selection import train_test_split\n",
    "x_train,x_test,y_train,y_test=train_test_split(x,y,test_size=0.3,random_state=1)"
   ]
  },
  {
   "cell_type": "code",
   "execution_count": 124,
   "id": "57df11be",
   "metadata": {},
   "outputs": [],
   "source": [
    "from sklearn.neighbors import KNeighborsClassifier\n",
    "knn= KNeighborsClassifier(n_neighbors=3)"
   ]
  },
  {
   "cell_type": "code",
   "execution_count": 125,
   "id": "d6fd2496",
   "metadata": {},
   "outputs": [
    {
     "data": {
      "text/plain": [
       "KNeighborsClassifier(n_neighbors=3)"
      ]
     },
     "execution_count": 125,
     "metadata": {},
     "output_type": "execute_result"
    }
   ],
   "source": [
    "knn.fit(x_train,y_train)"
   ]
  },
  {
   "cell_type": "code",
   "execution_count": 126,
   "id": "d54c541e",
   "metadata": {},
   "outputs": [],
   "source": [
    "y_pred_train=knn.predict(x_train)"
   ]
  },
  {
   "cell_type": "code",
   "execution_count": 127,
   "id": "6e32709d",
   "metadata": {},
   "outputs": [],
   "source": [
    "y_pred_test=knn.predict(x_test)"
   ]
  },
  {
   "cell_type": "code",
   "execution_count": 128,
   "id": "e4a5708d",
   "metadata": {},
   "outputs": [
    {
     "name": "stdout",
     "output_type": "stream",
     "text": [
      "Confusion matrix\n",
      " [[ 934   85]\n",
      " [   0 1029]]\n"
     ]
    }
   ],
   "source": [
    "print(\"Confusion matrix\\n\",confusion_matrix(y_train,y_pred_train))"
   ]
  },
  {
   "cell_type": "code",
   "execution_count": 129,
   "id": "9248f85c",
   "metadata": {},
   "outputs": [
    {
     "name": "stdout",
     "output_type": "stream",
     "text": [
      "Confusion matrix\n",
      " [[381  63]\n",
      " [  0 434]]\n"
     ]
    }
   ],
   "source": [
    "print(\"Confusion matrix\\n\",confusion_matrix(y_test,y_pred_test))"
   ]
  },
  {
   "cell_type": "code",
   "execution_count": 130,
   "id": "2f8b9927",
   "metadata": {},
   "outputs": [
    {
     "name": "stdout",
     "output_type": "stream",
     "text": [
      "Classification Report\n",
      "               precision    recall  f1-score   support\n",
      "\n",
      "          -1       1.00      0.92      0.96      1019\n",
      "           1       0.92      1.00      0.96      1029\n",
      "\n",
      "    accuracy                           0.96      2048\n",
      "   macro avg       0.96      0.96      0.96      2048\n",
      "weighted avg       0.96      0.96      0.96      2048\n",
      "\n"
     ]
    }
   ],
   "source": [
    "print(\"Classification Report\\n\",classification_report(y_train,y_pred_train))"
   ]
  },
  {
   "cell_type": "code",
   "execution_count": 131,
   "id": "e91deac8",
   "metadata": {},
   "outputs": [
    {
     "name": "stdout",
     "output_type": "stream",
     "text": [
      "Classification Report\n",
      "               precision    recall  f1-score   support\n",
      "\n",
      "          -1       1.00      0.86      0.92       444\n",
      "           1       0.87      1.00      0.93       434\n",
      "\n",
      "    accuracy                           0.93       878\n",
      "   macro avg       0.94      0.93      0.93       878\n",
      "weighted avg       0.94      0.93      0.93       878\n",
      "\n"
     ]
    }
   ],
   "source": [
    "print(\"Classification Report\\n\",classification_report(y_test,y_pred_test))"
   ]
  },
  {
   "cell_type": "code",
   "execution_count": 132,
   "id": "7ab2702a",
   "metadata": {},
   "outputs": [
    {
     "data": {
      "text/plain": [
       "0.95849609375"
      ]
     },
     "execution_count": 132,
     "metadata": {},
     "output_type": "execute_result"
    }
   ],
   "source": [
    "accuracy_score(y_train,y_pred_train)"
   ]
  },
  {
   "cell_type": "code",
   "execution_count": 133,
   "id": "821c7e21",
   "metadata": {},
   "outputs": [
    {
     "data": {
      "text/plain": [
       "0.928246013667426"
      ]
     },
     "execution_count": 133,
     "metadata": {},
     "output_type": "execute_result"
    }
   ],
   "source": [
    "accuracy_score(y_test,y_pred_test)"
   ]
  },
  {
   "cell_type": "markdown",
   "id": "272adc5b",
   "metadata": {},
   "source": [
    "# Run This algorithm Through GridSearchCV"
   ]
  },
  {
   "cell_type": "code",
   "execution_count": 134,
   "id": "51eca4ca",
   "metadata": {},
   "outputs": [],
   "source": [
    "from sklearn.model_selection import GridSearchCV"
   ]
  },
  {
   "cell_type": "code",
   "execution_count": 135,
   "id": "867aee31",
   "metadata": {},
   "outputs": [],
   "source": [
    "params=[{'n_neighbors': range(3,10), 'metric': ['euclidean', 'manhattan', 'chebyshev', 'canberra']}]"
   ]
  },
  {
   "cell_type": "code",
   "execution_count": 136,
   "id": "d5b7200f",
   "metadata": {},
   "outputs": [],
   "source": [
    "modelCV=GridSearchCV(KNeighborsClassifier(),params,cv=10,scoring='roc_auc')"
   ]
  },
  {
   "cell_type": "code",
   "execution_count": 137,
   "id": "f9195d00",
   "metadata": {},
   "outputs": [
    {
     "data": {
      "text/plain": [
       "GridSearchCV(cv=10, estimator=KNeighborsClassifier(),\n",
       "             param_grid=[{'metric': ['euclidean', 'manhattan', 'chebyshev',\n",
       "                                     'canberra'],\n",
       "                          'n_neighbors': range(3, 10)}],\n",
       "             scoring='roc_auc')"
      ]
     },
     "execution_count": 137,
     "metadata": {},
     "output_type": "execute_result"
    }
   ],
   "source": [
    "modelCV.fit(x_train,y_train)"
   ]
  },
  {
   "cell_type": "code",
   "execution_count": 138,
   "id": "73134112",
   "metadata": {},
   "outputs": [
    {
     "data": {
      "text/plain": [
       "0.9583315519881348"
      ]
     },
     "execution_count": 138,
     "metadata": {},
     "output_type": "execute_result"
    }
   ],
   "source": [
    "modelCV.best_score_"
   ]
  },
  {
   "cell_type": "code",
   "execution_count": 139,
   "id": "6774462e",
   "metadata": {},
   "outputs": [
    {
     "data": {
      "text/plain": [
       "{'metric': 'manhattan', 'n_neighbors': 3}"
      ]
     },
     "execution_count": 139,
     "metadata": {},
     "output_type": "execute_result"
    }
   ],
   "source": [
    "modelCV.best_params_"
   ]
  },
  {
   "cell_type": "code",
   "execution_count": 140,
   "id": "57e08340",
   "metadata": {},
   "outputs": [],
   "source": [
    "y_pred=modelCV.predict(x_test)"
   ]
  },
  {
   "cell_type": "code",
   "execution_count": 141,
   "id": "afb01203",
   "metadata": {},
   "outputs": [],
   "source": [
    "from sklearn.metrics import roc_auc_score"
   ]
  },
  {
   "cell_type": "code",
   "execution_count": 142,
   "id": "d58149e2",
   "metadata": {},
   "outputs": [
    {
     "data": {
      "text/plain": [
       "0.9538288288288288"
      ]
     },
     "execution_count": 142,
     "metadata": {},
     "output_type": "execute_result"
    }
   ],
   "source": [
    "roc_auc_score(y_test, modelCV.predict_proba(x_test)[:,1])"
   ]
  },
  {
   "cell_type": "markdown",
   "id": "dd2d02df",
   "metadata": {},
   "source": [
    "# SVM Model ###############"
   ]
  },
  {
   "cell_type": "code",
   "execution_count": 143,
   "id": "77ce907c",
   "metadata": {},
   "outputs": [
    {
     "data": {
      "text/html": [
       "<div>\n",
       "<style scoped>\n",
       "    .dataframe tbody tr th:only-of-type {\n",
       "        vertical-align: middle;\n",
       "    }\n",
       "\n",
       "    .dataframe tbody tr th {\n",
       "        vertical-align: top;\n",
       "    }\n",
       "\n",
       "    .dataframe thead th {\n",
       "        text-align: right;\n",
       "    }\n",
       "</style>\n",
       "<table border=\"1\" class=\"dataframe\">\n",
       "  <thead>\n",
       "    <tr style=\"text-align: right;\">\n",
       "      <th></th>\n",
       "      <th>features_0</th>\n",
       "      <th>features_1</th>\n",
       "      <th>features_2</th>\n",
       "      <th>features_3</th>\n",
       "      <th>features_4</th>\n",
       "      <th>features_5</th>\n",
       "      <th>features_6</th>\n",
       "      <th>features_7</th>\n",
       "      <th>features_8</th>\n",
       "      <th>features_9</th>\n",
       "      <th>...</th>\n",
       "      <th>features_585</th>\n",
       "      <th>features_586</th>\n",
       "      <th>features_587</th>\n",
       "      <th>features_588</th>\n",
       "      <th>features_589</th>\n",
       "      <th>month</th>\n",
       "      <th>date</th>\n",
       "      <th>week_day</th>\n",
       "      <th>hour</th>\n",
       "      <th>min</th>\n",
       "    </tr>\n",
       "  </thead>\n",
       "  <tbody>\n",
       "    <tr>\n",
       "      <th>0</th>\n",
       "      <td>3030.93</td>\n",
       "      <td>2564.00</td>\n",
       "      <td>2187.7333</td>\n",
       "      <td>1411.1265</td>\n",
       "      <td>1.3602</td>\n",
       "      <td>100.0</td>\n",
       "      <td>97.6133</td>\n",
       "      <td>0.1242</td>\n",
       "      <td>1.5005</td>\n",
       "      <td>0.0162</td>\n",
       "      <td>...</td>\n",
       "      <td>2.3630</td>\n",
       "      <td>0.0000</td>\n",
       "      <td>0.0000</td>\n",
       "      <td>0.0000</td>\n",
       "      <td>0.0000</td>\n",
       "      <td>7</td>\n",
       "      <td>19</td>\n",
       "      <td>5</td>\n",
       "      <td>11</td>\n",
       "      <td>55</td>\n",
       "    </tr>\n",
       "    <tr>\n",
       "      <th>1</th>\n",
       "      <td>3095.78</td>\n",
       "      <td>2465.14</td>\n",
       "      <td>2230.4222</td>\n",
       "      <td>1463.6606</td>\n",
       "      <td>0.8294</td>\n",
       "      <td>100.0</td>\n",
       "      <td>102.3433</td>\n",
       "      <td>0.1247</td>\n",
       "      <td>1.4966</td>\n",
       "      <td>-0.0005</td>\n",
       "      <td>...</td>\n",
       "      <td>4.4447</td>\n",
       "      <td>0.0096</td>\n",
       "      <td>0.0201</td>\n",
       "      <td>0.0060</td>\n",
       "      <td>208.2045</td>\n",
       "      <td>7</td>\n",
       "      <td>19</td>\n",
       "      <td>5</td>\n",
       "      <td>12</td>\n",
       "      <td>32</td>\n",
       "    </tr>\n",
       "    <tr>\n",
       "      <th>2</th>\n",
       "      <td>2932.61</td>\n",
       "      <td>2559.94</td>\n",
       "      <td>2186.4111</td>\n",
       "      <td>1698.0172</td>\n",
       "      <td>1.5102</td>\n",
       "      <td>100.0</td>\n",
       "      <td>95.4878</td>\n",
       "      <td>0.1241</td>\n",
       "      <td>1.4436</td>\n",
       "      <td>0.0041</td>\n",
       "      <td>...</td>\n",
       "      <td>3.1745</td>\n",
       "      <td>0.0584</td>\n",
       "      <td>0.0484</td>\n",
       "      <td>0.0148</td>\n",
       "      <td>82.8602</td>\n",
       "      <td>7</td>\n",
       "      <td>19</td>\n",
       "      <td>5</td>\n",
       "      <td>13</td>\n",
       "      <td>17</td>\n",
       "    </tr>\n",
       "    <tr>\n",
       "      <th>3</th>\n",
       "      <td>2988.72</td>\n",
       "      <td>2479.90</td>\n",
       "      <td>2199.0333</td>\n",
       "      <td>909.7926</td>\n",
       "      <td>1.3204</td>\n",
       "      <td>100.0</td>\n",
       "      <td>104.2367</td>\n",
       "      <td>0.1217</td>\n",
       "      <td>1.4882</td>\n",
       "      <td>-0.0124</td>\n",
       "      <td>...</td>\n",
       "      <td>2.0544</td>\n",
       "      <td>0.0202</td>\n",
       "      <td>0.0149</td>\n",
       "      <td>0.0044</td>\n",
       "      <td>73.8432</td>\n",
       "      <td>7</td>\n",
       "      <td>19</td>\n",
       "      <td>5</td>\n",
       "      <td>14</td>\n",
       "      <td>43</td>\n",
       "    </tr>\n",
       "    <tr>\n",
       "      <th>4</th>\n",
       "      <td>3032.24</td>\n",
       "      <td>2502.87</td>\n",
       "      <td>2233.3667</td>\n",
       "      <td>1326.5200</td>\n",
       "      <td>1.5334</td>\n",
       "      <td>100.0</td>\n",
       "      <td>100.3967</td>\n",
       "      <td>0.1235</td>\n",
       "      <td>1.5031</td>\n",
       "      <td>-0.0031</td>\n",
       "      <td>...</td>\n",
       "      <td>99.3032</td>\n",
       "      <td>0.0202</td>\n",
       "      <td>0.0149</td>\n",
       "      <td>0.0044</td>\n",
       "      <td>73.8432</td>\n",
       "      <td>7</td>\n",
       "      <td>19</td>\n",
       "      <td>5</td>\n",
       "      <td>15</td>\n",
       "      <td>22</td>\n",
       "    </tr>\n",
       "  </tbody>\n",
       "</table>\n",
       "<p>5 rows × 595 columns</p>\n",
       "</div>"
      ],
      "text/plain": [
       "   features_0  features_1  features_2  features_3  features_4  features_5  \\\n",
       "0     3030.93     2564.00   2187.7333   1411.1265      1.3602       100.0   \n",
       "1     3095.78     2465.14   2230.4222   1463.6606      0.8294       100.0   \n",
       "2     2932.61     2559.94   2186.4111   1698.0172      1.5102       100.0   \n",
       "3     2988.72     2479.90   2199.0333    909.7926      1.3204       100.0   \n",
       "4     3032.24     2502.87   2233.3667   1326.5200      1.5334       100.0   \n",
       "\n",
       "   features_6  features_7  features_8  features_9  ...  features_585  \\\n",
       "0     97.6133      0.1242      1.5005      0.0162  ...        2.3630   \n",
       "1    102.3433      0.1247      1.4966     -0.0005  ...        4.4447   \n",
       "2     95.4878      0.1241      1.4436      0.0041  ...        3.1745   \n",
       "3    104.2367      0.1217      1.4882     -0.0124  ...        2.0544   \n",
       "4    100.3967      0.1235      1.5031     -0.0031  ...       99.3032   \n",
       "\n",
       "   features_586  features_587  features_588  features_589  month  date  \\\n",
       "0        0.0000        0.0000        0.0000        0.0000      7    19   \n",
       "1        0.0096        0.0201        0.0060      208.2045      7    19   \n",
       "2        0.0584        0.0484        0.0148       82.8602      7    19   \n",
       "3        0.0202        0.0149        0.0044       73.8432      7    19   \n",
       "4        0.0202        0.0149        0.0044       73.8432      7    19   \n",
       "\n",
       "   week_day  hour  min  \n",
       "0         5    11   55  \n",
       "1         5    12   32  \n",
       "2         5    13   17  \n",
       "3         5    14   43  \n",
       "4         5    15   22  \n",
       "\n",
       "[5 rows x 595 columns]"
      ]
     },
     "execution_count": 143,
     "metadata": {},
     "output_type": "execute_result"
    }
   ],
   "source": [
    "x.head()"
   ]
  },
  {
   "cell_type": "code",
   "execution_count": 144,
   "id": "5e7fa06d",
   "metadata": {},
   "outputs": [
    {
     "data": {
      "text/plain": [
       "(2926,)"
      ]
     },
     "execution_count": 144,
     "metadata": {},
     "output_type": "execute_result"
    }
   ],
   "source": [
    "y.shape"
   ]
  },
  {
   "cell_type": "code",
   "execution_count": 145,
   "id": "aed7d0e7",
   "metadata": {},
   "outputs": [],
   "source": [
    "from sklearn.preprocessing import StandardScaler\n",
    "scaler= StandardScaler()"
   ]
  },
  {
   "cell_type": "code",
   "execution_count": 146,
   "id": "90096160",
   "metadata": {},
   "outputs": [
    {
     "data": {
      "text/plain": [
       "StandardScaler()"
      ]
     },
     "execution_count": 146,
     "metadata": {},
     "output_type": "execute_result"
    }
   ],
   "source": [
    "scaler.fit(x,y)"
   ]
  },
  {
   "cell_type": "code",
   "execution_count": 147,
   "id": "6acfdb74",
   "metadata": {},
   "outputs": [],
   "source": [
    "from sklearn.model_selection import train_test_split\n",
    "x_train,x_test,y_train,y_test=train_test_split(x,y,test_size=0.3,random_state=42)"
   ]
  },
  {
   "cell_type": "code",
   "execution_count": 148,
   "id": "f3d7446e",
   "metadata": {},
   "outputs": [],
   "source": [
    "from sklearn.svm import SVC"
   ]
  },
  {
   "cell_type": "code",
   "execution_count": 149,
   "id": "17951d89",
   "metadata": {},
   "outputs": [],
   "source": [
    "svc=SVC() # we will go with default kernal"
   ]
  },
  {
   "cell_type": "code",
   "execution_count": 150,
   "id": "663f55e5",
   "metadata": {},
   "outputs": [
    {
     "data": {
      "text/plain": [
       "SVC()"
      ]
     },
     "execution_count": 150,
     "metadata": {},
     "output_type": "execute_result"
    }
   ],
   "source": [
    "svc.fit(x_train,y_train)"
   ]
  },
  {
   "cell_type": "code",
   "execution_count": 151,
   "id": "5d662240",
   "metadata": {},
   "outputs": [],
   "source": [
    "y_pred_test=svc.predict(x_test)"
   ]
  },
  {
   "cell_type": "code",
   "execution_count": 152,
   "id": "03460e4f",
   "metadata": {},
   "outputs": [],
   "source": [
    "y_pred_train=svc.predict(x_train)"
   ]
  },
  {
   "cell_type": "code",
   "execution_count": 153,
   "id": "9ac428bf",
   "metadata": {},
   "outputs": [
    {
     "data": {
      "text/plain": [
       "0.6343963553530751"
      ]
     },
     "execution_count": 153,
     "metadata": {},
     "output_type": "execute_result"
    }
   ],
   "source": [
    "from sklearn.metrics import confusion_matrix,classification_report,accuracy_score\n",
    "accuracy_score(y_test,y_pred_test)"
   ]
  },
  {
   "cell_type": "code",
   "execution_count": 154,
   "id": "8df135b0",
   "metadata": {},
   "outputs": [
    {
     "data": {
      "text/plain": [
       "0.6533203125"
      ]
     },
     "execution_count": 154,
     "metadata": {},
     "output_type": "execute_result"
    }
   ],
   "source": [
    "accuracy_score(y_train,y_pred_train)"
   ]
  },
  {
   "cell_type": "code",
   "execution_count": 155,
   "id": "a65f64ab",
   "metadata": {},
   "outputs": [
    {
     "name": "stdout",
     "output_type": "stream",
     "text": [
      "Classification Report \n",
      "               precision    recall  f1-score   support\n",
      "\n",
      "          -1       0.52      0.69      0.59       342\n",
      "           1       0.75      0.60      0.67       536\n",
      "\n",
      "    accuracy                           0.63       878\n",
      "   macro avg       0.64      0.64      0.63       878\n",
      "weighted avg       0.66      0.63      0.64       878\n",
      "\n",
      "Classification Report \n",
      "               precision    recall  f1-score   support\n",
      "\n",
      "          -1       0.57      0.68      0.62       848\n",
      "           1       0.74      0.64      0.68      1200\n",
      "\n",
      "    accuracy                           0.65      2048\n",
      "   macro avg       0.65      0.66      0.65      2048\n",
      "weighted avg       0.67      0.65      0.66      2048\n",
      "\n"
     ]
    }
   ],
   "source": [
    "print(\"Classification Report \\n\",classification_report(y_pred_test,y_test))\n",
    "print(\"Classification Report \\n\",classification_report(y_pred_train,y_train))"
   ]
  },
  {
   "cell_type": "code",
   "execution_count": 156,
   "id": "a6ff91a6",
   "metadata": {},
   "outputs": [
    {
     "name": "stdout",
     "output_type": "stream",
     "text": [
      "Confusion Matrix for test Data \n",
      " [[235 107]\n",
      " [214 322]]\n",
      "Confusion Matrix Training Data\n",
      " [[576 272]\n",
      " [438 762]]\n"
     ]
    }
   ],
   "source": [
    "print(\"Confusion Matrix for test Data \\n\",confusion_matrix(y_pred_test,y_test))\n",
    "print(\"Confusion Matrix Training Data\\n\",confusion_matrix(y_pred_train,y_train))"
   ]
  },
  {
   "cell_type": "markdown",
   "id": "a2adc2e2",
   "metadata": {},
   "source": [
    "# SVM with Linear Kernal"
   ]
  },
  {
   "cell_type": "code",
   "execution_count": null,
   "id": "7c134537",
   "metadata": {},
   "outputs": [],
   "source": [
    "# svcL=SVC(kernel='linear')\n",
    "# svcL.fit(x_train,y_train)"
   ]
  },
  {
   "cell_type": "code",
   "execution_count": 158,
   "id": "37af7b9d",
   "metadata": {},
   "outputs": [],
   "source": [
    "# y_pred_test=svcL.predict(x_test)\n",
    "# y_pred_train=svcL.predict(x_train)"
   ]
  },
  {
   "cell_type": "code",
   "execution_count": 159,
   "id": "45a955ae",
   "metadata": {},
   "outputs": [],
   "source": [
    "# print(\"Accuracy :\",accuracy_score(y_pred_test,y_test))\n",
    "# print(\"Accuracy :\",accuracy_score(y_pred_train,y_train))"
   ]
  },
  {
   "cell_type": "code",
   "execution_count": 160,
   "id": "00331938",
   "metadata": {},
   "outputs": [],
   "source": [
    "# print(\"Classification Report \\n\",classification_report(y_pred_test,y_test))\n",
    "# print(\"Classification Report \\n\",classification_report(y_pred_train,y_train))"
   ]
  },
  {
   "cell_type": "code",
   "execution_count": 161,
   "id": "18689078",
   "metadata": {},
   "outputs": [],
   "source": [
    "# print(\"Confusion Matrix for test Data \\n\",confusion_matrix(y_pred_test,y_test))\n",
    "# print(\"Confusion Matrix Training Data\\n\",confusion_matrix(y_pred_train,y_train))"
   ]
  },
  {
   "cell_type": "markdown",
   "id": "77e4196c",
   "metadata": {},
   "source": [
    "# SVM with Polynomial Kernal"
   ]
  },
  {
   "cell_type": "code",
   "execution_count": 162,
   "id": "269ff661",
   "metadata": {},
   "outputs": [
    {
     "data": {
      "text/plain": [
       "SVC(kernel='poly')"
      ]
     },
     "execution_count": 162,
     "metadata": {},
     "output_type": "execute_result"
    }
   ],
   "source": [
    "svcP=SVC(kernel='poly')\n",
    "svcP.fit(x_train,y_train)"
   ]
  },
  {
   "cell_type": "code",
   "execution_count": 163,
   "id": "23e49dcd",
   "metadata": {},
   "outputs": [],
   "source": [
    "y_pred_test=svcP.predict(x_test)\n",
    "y_pred_train=svcP.predict(x_train)"
   ]
  },
  {
   "cell_type": "code",
   "execution_count": 164,
   "id": "024617a1",
   "metadata": {},
   "outputs": [
    {
     "name": "stdout",
     "output_type": "stream",
     "text": [
      "Accuracy for test Data \n",
      " 0.6560364464692483\n",
      "Accuracy for train Data \n",
      " 0.66162109375\n"
     ]
    }
   ],
   "source": [
    "print(\"Accuracy for test Data \\n\",accuracy_score(y_pred_test,y_test))\n",
    "print(\"Accuracy for train Data \\n\",accuracy_score(y_pred_train,y_train))"
   ]
  },
  {
   "cell_type": "code",
   "execution_count": 165,
   "id": "7688d2d8",
   "metadata": {},
   "outputs": [
    {
     "name": "stdout",
     "output_type": "stream",
     "text": [
      "Classification Report \n",
      "               precision    recall  f1-score   support\n",
      "\n",
      "          -1       0.63      0.68      0.65       415\n",
      "           1       0.69      0.64      0.66       463\n",
      "\n",
      "    accuracy                           0.66       878\n",
      "   macro avg       0.66      0.66      0.66       878\n",
      "weighted avg       0.66      0.66      0.66       878\n",
      "\n",
      "Classification Report \n",
      "               precision    recall  f1-score   support\n",
      "\n",
      "          -1       0.64      0.66      0.65       979\n",
      "           1       0.68      0.66      0.67      1069\n",
      "\n",
      "    accuracy                           0.66      2048\n",
      "   macro avg       0.66      0.66      0.66      2048\n",
      "weighted avg       0.66      0.66      0.66      2048\n",
      "\n"
     ]
    }
   ],
   "source": [
    "print(\"Classification Report \\n\",classification_report(y_pred_test,y_test))\n",
    "print(\"Classification Report \\n\",classification_report(y_pred_train,y_train))"
   ]
  },
  {
   "cell_type": "code",
   "execution_count": 166,
   "id": "8a142f48",
   "metadata": {},
   "outputs": [
    {
     "name": "stdout",
     "output_type": "stream",
     "text": [
      "Confusion Matrix for test Data \n",
      " [[281 134]\n",
      " [168 295]]\n",
      "Confusion Matrix Training Data\n",
      " [[650 329]\n",
      " [364 705]]\n"
     ]
    }
   ],
   "source": [
    "print(\"Confusion Matrix for test Data \\n\",confusion_matrix(y_pred_test,y_test))\n",
    "print(\"Confusion Matrix Training Data\\n\",confusion_matrix(y_pred_train,y_train))"
   ]
  },
  {
   "cell_type": "markdown",
   "id": "9587ce6d",
   "metadata": {},
   "source": [
    "# SVM with Sigmoid"
   ]
  },
  {
   "cell_type": "code",
   "execution_count": 167,
   "id": "f1b60c2d",
   "metadata": {},
   "outputs": [
    {
     "data": {
      "text/plain": [
       "SVC(kernel='sigmoid')"
      ]
     },
     "execution_count": 167,
     "metadata": {},
     "output_type": "execute_result"
    }
   ],
   "source": [
    "svcS=SVC(kernel='sigmoid')\n",
    "svcS.fit(x_train,y_train)"
   ]
  },
  {
   "cell_type": "code",
   "execution_count": 168,
   "id": "5841433f",
   "metadata": {},
   "outputs": [],
   "source": [
    "y_pred_test=svcS.predict(x_test)\n",
    "y_pred_train=svcS.predict(x_train)"
   ]
  },
  {
   "cell_type": "code",
   "execution_count": 169,
   "id": "18e6223b",
   "metadata": {},
   "outputs": [
    {
     "name": "stdout",
     "output_type": "stream",
     "text": [
      "Accuracy for test Data \n",
      " 0.5216400911161732\n",
      "Accuracy for train Data \n",
      " 0.53173828125\n"
     ]
    }
   ],
   "source": [
    "print(\"Accuracy for test Data \\n\",accuracy_score(y_pred_test,y_test))\n",
    "print(\"Accuracy for train Data \\n\",accuracy_score(y_pred_train,y_train))"
   ]
  },
  {
   "cell_type": "code",
   "execution_count": 170,
   "id": "f3db0803",
   "metadata": {},
   "outputs": [
    {
     "name": "stdout",
     "output_type": "stream",
     "text": [
      "Classification Report \n",
      "               precision    recall  f1-score   support\n",
      "\n",
      "          -1       0.48      0.54      0.51       403\n",
      "           1       0.56      0.51      0.54       475\n",
      "\n",
      "    accuracy                           0.52       878\n",
      "   macro avg       0.52      0.52      0.52       878\n",
      "weighted avg       0.53      0.52      0.52       878\n",
      "\n",
      "Classification Report \n",
      "               precision    recall  f1-score   support\n",
      "\n",
      "          -1       0.53      0.53      0.53      1013\n",
      "           1       0.54      0.54      0.54      1035\n",
      "\n",
      "    accuracy                           0.53      2048\n",
      "   macro avg       0.53      0.53      0.53      2048\n",
      "weighted avg       0.53      0.53      0.53      2048\n",
      "\n"
     ]
    }
   ],
   "source": [
    "print(\"Classification Report \\n\",classification_report(y_pred_test,y_test))\n",
    "print(\"Classification Report \\n\",classification_report(y_pred_train,y_train))"
   ]
  },
  {
   "cell_type": "code",
   "execution_count": 171,
   "id": "f8f51196",
   "metadata": {},
   "outputs": [
    {
     "name": "stdout",
     "output_type": "stream",
     "text": [
      "Confusion Matrix for test Data \n",
      " [[216 187]\n",
      " [233 242]]\n",
      "Confusion Matrix Training Data\n",
      " [[534 479]\n",
      " [480 555]]\n"
     ]
    }
   ],
   "source": [
    "print(\"Confusion Matrix for test Data \\n\",confusion_matrix(y_pred_test,y_test))\n",
    "print(\"Confusion Matrix Training Data\\n\",confusion_matrix(y_pred_train,y_train))"
   ]
  },
  {
   "cell_type": "code",
   "execution_count": null,
   "id": "fc41dff1",
   "metadata": {},
   "outputs": [],
   "source": []
  }
 ],
 "metadata": {
  "kernelspec": {
   "display_name": "Python 3 (ipykernel)",
   "language": "python",
   "name": "python3"
  },
  "language_info": {
   "codemirror_mode": {
    "name": "ipython",
    "version": 3
   },
   "file_extension": ".py",
   "mimetype": "text/x-python",
   "name": "python",
   "nbconvert_exporter": "python",
   "pygments_lexer": "ipython3",
   "version": "3.9.12"
  }
 },
 "nbformat": 4,
 "nbformat_minor": 5
}
