{
 "cells": [
  {
   "cell_type": "markdown",
   "metadata": {
    "id": "TrUdbmrRh7px"
   },
   "source": [
    "# Problem Statement\n",
    "# Patients with Liver disease have been continuously increasing because of excessive consumption of alcohol, inhale of harmful gases, intake of contaminated food, pickles and drugs. This dataset was used to evaluate prediction algorithms in an effort to reduce burden on doctors.\n",
    "\n",
    "# Details\n",
    "# This data set contains 583 liver patient records and 167 non liver patient records collected from North East of Andhra Pradesh, India. The \"Dataset\" column is a class label used to divide groups into liver patient (liver disease) or not (no disease). This data set contains 441 male patient records and 142 female patient records. Any patient whose age exceeded 89 is listed as being of age \"90\".\n",
    "\n",
    "# Columns:\n",
    "# • Age of the patient • Gender of the patient • Total Bilirubin • Direct Bilirubin • Alkaline Phosphotase • Alamine Aminotransferase • Aspartate Aminotransferase • Total Protiens • Albumin • Albumin and Globulin Ratio • Dataset: field used to split the data into two sets (patient with liver disease, or no disease)\n",
    "\n",
    "# Objective:\n",
    "# # The primary goal is to visualize the data and establish trends or important characteristics, if any. The next important objective is to create a pycaret model that can predict the class of the patient by the virtue of its input."
   ]
  },
  {
   "cell_type": "code",
   "execution_count": 1,
   "metadata": {},
   "outputs": [],
   "source": [
    "import os\n",
    "import numpy as np\n",
    "import pandas as pd\n",
    "import warnings\n",
    "warnings.filterwarnings('ignore')"
   ]
  },
  {
   "cell_type": "markdown",
   "metadata": {
    "id": "AYnDY8Mmkd9m"
   },
   "source": [
    "# pycaret library"
   ]
  },
  {
   "cell_type": "code",
   "execution_count": 2,
   "metadata": {
    "colab": {
     "base_uri": "https://localhost:8080/",
     "height": 1000
    },
    "id": "IpJcRpSsiJh_",
    "outputId": "750517fd-1691-49fe-ec5f-214758977200"
   },
   "outputs": [],
   "source": [
    "# !pip install pycaret"
   ]
  },
  {
   "cell_type": "code",
   "execution_count": 3,
   "metadata": {
    "id": "hVOfhebtk7qs"
   },
   "outputs": [],
   "source": [
    "import pycaret"
   ]
  },
  {
   "cell_type": "code",
   "execution_count": 4,
   "metadata": {
    "colab": {
     "base_uri": "https://localhost:8080/",
     "height": 270
    },
    "id": "joKFiRlYiJlC",
    "outputId": "f9e6978b-42dd-41fc-f31c-537655039702"
   },
   "outputs": [
    {
     "data": {
      "text/html": [
       "<div>\n",
       "<style scoped>\n",
       "    .dataframe tbody tr th:only-of-type {\n",
       "        vertical-align: middle;\n",
       "    }\n",
       "\n",
       "    .dataframe tbody tr th {\n",
       "        vertical-align: top;\n",
       "    }\n",
       "\n",
       "    .dataframe thead th {\n",
       "        text-align: right;\n",
       "    }\n",
       "</style>\n",
       "<table border=\"1\" class=\"dataframe\">\n",
       "  <thead>\n",
       "    <tr style=\"text-align: right;\">\n",
       "      <th></th>\n",
       "      <th>Age</th>\n",
       "      <th>Gender</th>\n",
       "      <th>Total_Bilirubin</th>\n",
       "      <th>Direct_Bilirubin</th>\n",
       "      <th>Alkaline_Phosphotase</th>\n",
       "      <th>Alamine_Aminotransferase</th>\n",
       "      <th>Aspartate_Aminotransferase</th>\n",
       "      <th>Total_Protiens</th>\n",
       "      <th>Albumin</th>\n",
       "      <th>Albumin_and_Globulin_Ratio</th>\n",
       "      <th>Dataset</th>\n",
       "    </tr>\n",
       "  </thead>\n",
       "  <tbody>\n",
       "    <tr>\n",
       "      <th>0</th>\n",
       "      <td>65</td>\n",
       "      <td>Female</td>\n",
       "      <td>0.7</td>\n",
       "      <td>0.1</td>\n",
       "      <td>187</td>\n",
       "      <td>16</td>\n",
       "      <td>18</td>\n",
       "      <td>6.8</td>\n",
       "      <td>3.3</td>\n",
       "      <td>0.90</td>\n",
       "      <td>1</td>\n",
       "    </tr>\n",
       "    <tr>\n",
       "      <th>1</th>\n",
       "      <td>62</td>\n",
       "      <td>Male</td>\n",
       "      <td>10.9</td>\n",
       "      <td>5.5</td>\n",
       "      <td>699</td>\n",
       "      <td>64</td>\n",
       "      <td>100</td>\n",
       "      <td>7.5</td>\n",
       "      <td>3.2</td>\n",
       "      <td>0.74</td>\n",
       "      <td>1</td>\n",
       "    </tr>\n",
       "    <tr>\n",
       "      <th>2</th>\n",
       "      <td>62</td>\n",
       "      <td>Male</td>\n",
       "      <td>7.3</td>\n",
       "      <td>4.1</td>\n",
       "      <td>490</td>\n",
       "      <td>60</td>\n",
       "      <td>68</td>\n",
       "      <td>7.0</td>\n",
       "      <td>3.3</td>\n",
       "      <td>0.89</td>\n",
       "      <td>1</td>\n",
       "    </tr>\n",
       "    <tr>\n",
       "      <th>3</th>\n",
       "      <td>58</td>\n",
       "      <td>Male</td>\n",
       "      <td>1.0</td>\n",
       "      <td>0.4</td>\n",
       "      <td>182</td>\n",
       "      <td>14</td>\n",
       "      <td>20</td>\n",
       "      <td>6.8</td>\n",
       "      <td>3.4</td>\n",
       "      <td>1.00</td>\n",
       "      <td>1</td>\n",
       "    </tr>\n",
       "    <tr>\n",
       "      <th>4</th>\n",
       "      <td>72</td>\n",
       "      <td>Male</td>\n",
       "      <td>3.9</td>\n",
       "      <td>2.0</td>\n",
       "      <td>195</td>\n",
       "      <td>27</td>\n",
       "      <td>59</td>\n",
       "      <td>7.3</td>\n",
       "      <td>2.4</td>\n",
       "      <td>0.40</td>\n",
       "      <td>1</td>\n",
       "    </tr>\n",
       "  </tbody>\n",
       "</table>\n",
       "</div>"
      ],
      "text/plain": [
       "   Age  Gender  Total_Bilirubin  Direct_Bilirubin  Alkaline_Phosphotase  \\\n",
       "0   65  Female              0.7               0.1                   187   \n",
       "1   62    Male             10.9               5.5                   699   \n",
       "2   62    Male              7.3               4.1                   490   \n",
       "3   58    Male              1.0               0.4                   182   \n",
       "4   72    Male              3.9               2.0                   195   \n",
       "\n",
       "   Alamine_Aminotransferase  Aspartate_Aminotransferase  Total_Protiens  \\\n",
       "0                        16                          18             6.8   \n",
       "1                        64                         100             7.5   \n",
       "2                        60                          68             7.0   \n",
       "3                        14                          20             6.8   \n",
       "4                        27                          59             7.3   \n",
       "\n",
       "   Albumin  Albumin_and_Globulin_Ratio  Dataset  \n",
       "0      3.3                        0.90        1  \n",
       "1      3.2                        0.74        1  \n",
       "2      3.3                        0.89        1  \n",
       "3      3.4                        1.00        1  \n",
       "4      2.4                        0.40        1  "
      ]
     },
     "execution_count": 4,
     "metadata": {},
     "output_type": "execute_result"
    }
   ],
   "source": [
    "from pycaret.datasets import get_data\n",
    "dataset = pd.read_csv('indian_liver_patient.csv')\n",
    "dataset.head()"
   ]
  },
  {
   "cell_type": "code",
   "execution_count": 5,
   "metadata": {
    "colab": {
     "base_uri": "https://localhost:8080/"
    },
    "id": "iAQsOZo3k4Ca",
    "outputId": "c2b7a9d1-42a3-453d-b721-adc3834da44e"
   },
   "outputs": [
    {
     "data": {
      "text/plain": [
       "(583, 11)"
      ]
     },
     "execution_count": 5,
     "metadata": {},
     "output_type": "execute_result"
    }
   ],
   "source": [
    "dataset.shape"
   ]
  },
  {
   "cell_type": "code",
   "execution_count": 6,
   "metadata": {
    "colab": {
     "base_uri": "https://localhost:8080/"
    },
    "id": "x9PCb-PKiJn3",
    "outputId": "a0b66692-fa7e-4b61-e909-57c81dcf17c8"
   },
   "outputs": [
    {
     "data": {
      "text/plain": [
       "Index(['Age', 'Gender', 'Total_Bilirubin', 'Direct_Bilirubin',\n",
       "       'Alkaline_Phosphotase', 'Alamine_Aminotransferase',\n",
       "       'Aspartate_Aminotransferase', 'Total_Protiens', 'Albumin',\n",
       "       'Albumin_and_Globulin_Ratio', 'Dataset'],\n",
       "      dtype='object')"
      ]
     },
     "execution_count": 6,
     "metadata": {},
     "output_type": "execute_result"
    }
   ],
   "source": [
    "dataset.columns"
   ]
  },
  {
   "cell_type": "code",
   "execution_count": 7,
   "metadata": {
    "colab": {
     "base_uri": "https://localhost:8080/"
    },
    "id": "54_Q7OsZiJqn",
    "outputId": "2384f9b0-ffef-403c-f516-2c2c02113faf"
   },
   "outputs": [
    {
     "data": {
      "text/plain": [
       "Age                           0\n",
       "Gender                        0\n",
       "Total_Bilirubin               0\n",
       "Direct_Bilirubin              0\n",
       "Alkaline_Phosphotase          0\n",
       "Alamine_Aminotransferase      0\n",
       "Aspartate_Aminotransferase    0\n",
       "Total_Protiens                0\n",
       "Albumin                       0\n",
       "Albumin_and_Globulin_Ratio    4\n",
       "Dataset                       0\n",
       "dtype: int64"
      ]
     },
     "execution_count": 7,
     "metadata": {},
     "output_type": "execute_result"
    }
   ],
   "source": [
    "dataset.isnull().sum()"
   ]
  },
  {
   "cell_type": "code",
   "execution_count": 8,
   "metadata": {
    "id": "BIdMA3LxiJt1"
   },
   "outputs": [],
   "source": [
    "# splitting the data into training and test\n",
    "# training data\n",
    "data = dataset.sample(frac=0.90, random_state=1).reset_index(drop=True)\n",
    "# test data\n",
    "data_unseen = dataset.drop(data.index).reset_index(drop=True)"
   ]
  },
  {
   "cell_type": "code",
   "execution_count": 9,
   "metadata": {
    "colab": {
     "base_uri": "https://localhost:8080/",
     "height": 270
    },
    "id": "VqCiNDBJoifr",
    "outputId": "0dcaf52c-7be9-46c4-b015-425d0c6414ac"
   },
   "outputs": [
    {
     "data": {
      "text/html": [
       "<div>\n",
       "<style scoped>\n",
       "    .dataframe tbody tr th:only-of-type {\n",
       "        vertical-align: middle;\n",
       "    }\n",
       "\n",
       "    .dataframe tbody tr th {\n",
       "        vertical-align: top;\n",
       "    }\n",
       "\n",
       "    .dataframe thead th {\n",
       "        text-align: right;\n",
       "    }\n",
       "</style>\n",
       "<table border=\"1\" class=\"dataframe\">\n",
       "  <thead>\n",
       "    <tr style=\"text-align: right;\">\n",
       "      <th></th>\n",
       "      <th>Age</th>\n",
       "      <th>Gender</th>\n",
       "      <th>Total_Bilirubin</th>\n",
       "      <th>Direct_Bilirubin</th>\n",
       "      <th>Alkaline_Phosphotase</th>\n",
       "      <th>Alamine_Aminotransferase</th>\n",
       "      <th>Aspartate_Aminotransferase</th>\n",
       "      <th>Total_Protiens</th>\n",
       "      <th>Albumin</th>\n",
       "      <th>Albumin_and_Globulin_Ratio</th>\n",
       "      <th>Dataset</th>\n",
       "    </tr>\n",
       "  </thead>\n",
       "  <tbody>\n",
       "    <tr>\n",
       "      <th>520</th>\n",
       "      <td>45</td>\n",
       "      <td>Male</td>\n",
       "      <td>1.7</td>\n",
       "      <td>0.8</td>\n",
       "      <td>315</td>\n",
       "      <td>12</td>\n",
       "      <td>38</td>\n",
       "      <td>6.3</td>\n",
       "      <td>2.1</td>\n",
       "      <td>0.5</td>\n",
       "      <td>1</td>\n",
       "    </tr>\n",
       "    <tr>\n",
       "      <th>521</th>\n",
       "      <td>50</td>\n",
       "      <td>Male</td>\n",
       "      <td>4.2</td>\n",
       "      <td>2.3</td>\n",
       "      <td>450</td>\n",
       "      <td>69</td>\n",
       "      <td>50</td>\n",
       "      <td>7.0</td>\n",
       "      <td>3.0</td>\n",
       "      <td>0.7</td>\n",
       "      <td>1</td>\n",
       "    </tr>\n",
       "    <tr>\n",
       "      <th>522</th>\n",
       "      <td>50</td>\n",
       "      <td>Female</td>\n",
       "      <td>1.0</td>\n",
       "      <td>0.5</td>\n",
       "      <td>239</td>\n",
       "      <td>16</td>\n",
       "      <td>39</td>\n",
       "      <td>7.5</td>\n",
       "      <td>3.7</td>\n",
       "      <td>0.9</td>\n",
       "      <td>1</td>\n",
       "    </tr>\n",
       "    <tr>\n",
       "      <th>523</th>\n",
       "      <td>55</td>\n",
       "      <td>Male</td>\n",
       "      <td>75.0</td>\n",
       "      <td>3.6</td>\n",
       "      <td>332</td>\n",
       "      <td>40</td>\n",
       "      <td>66</td>\n",
       "      <td>6.2</td>\n",
       "      <td>2.5</td>\n",
       "      <td>0.6</td>\n",
       "      <td>1</td>\n",
       "    </tr>\n",
       "    <tr>\n",
       "      <th>524</th>\n",
       "      <td>45</td>\n",
       "      <td>Female</td>\n",
       "      <td>0.7</td>\n",
       "      <td>0.2</td>\n",
       "      <td>153</td>\n",
       "      <td>41</td>\n",
       "      <td>42</td>\n",
       "      <td>4.5</td>\n",
       "      <td>2.2</td>\n",
       "      <td>0.9</td>\n",
       "      <td>2</td>\n",
       "    </tr>\n",
       "  </tbody>\n",
       "</table>\n",
       "</div>"
      ],
      "text/plain": [
       "     Age  Gender  Total_Bilirubin  Direct_Bilirubin  Alkaline_Phosphotase  \\\n",
       "520   45    Male              1.7               0.8                   315   \n",
       "521   50    Male              4.2               2.3                   450   \n",
       "522   50  Female              1.0               0.5                   239   \n",
       "523   55    Male             75.0               3.6                   332   \n",
       "524   45  Female              0.7               0.2                   153   \n",
       "\n",
       "     Alamine_Aminotransferase  Aspartate_Aminotransferase  Total_Protiens  \\\n",
       "520                        12                          38             6.3   \n",
       "521                        69                          50             7.0   \n",
       "522                        16                          39             7.5   \n",
       "523                        40                          66             6.2   \n",
       "524                        41                          42             4.5   \n",
       "\n",
       "     Albumin  Albumin_and_Globulin_Ratio  Dataset  \n",
       "520      2.1                         0.5        1  \n",
       "521      3.0                         0.7        1  \n",
       "522      3.7                         0.9        1  \n",
       "523      2.5                         0.6        1  \n",
       "524      2.2                         0.9        2  "
      ]
     },
     "execution_count": 9,
     "metadata": {},
     "output_type": "execute_result"
    }
   ],
   "source": [
    "data.tail()"
   ]
  },
  {
   "cell_type": "code",
   "execution_count": 10,
   "metadata": {
    "id": "yOyo8Ydbv2jD"
   },
   "outputs": [],
   "source": [
    "data['Albumin_and_Globulin_Ratio'] = data['Albumin_and_Globulin_Ratio'].fillna(data['Albumin_and_Globulin_Ratio'].median())"
   ]
  },
  {
   "cell_type": "code",
   "execution_count": 11,
   "metadata": {
    "colab": {
     "base_uri": "https://localhost:8080/"
    },
    "id": "yc2IJn5mv-aj",
    "outputId": "9ce56fa2-2bdf-4680-9e09-9a391136e2ee"
   },
   "outputs": [
    {
     "data": {
      "text/plain": [
       "Age                           0\n",
       "Gender                        0\n",
       "Total_Bilirubin               0\n",
       "Direct_Bilirubin              0\n",
       "Alkaline_Phosphotase          0\n",
       "Alamine_Aminotransferase      0\n",
       "Aspartate_Aminotransferase    0\n",
       "Total_Protiens                0\n",
       "Albumin                       0\n",
       "Albumin_and_Globulin_Ratio    0\n",
       "Dataset                       0\n",
       "dtype: int64"
      ]
     },
     "execution_count": 11,
     "metadata": {},
     "output_type": "execute_result"
    }
   ],
   "source": [
    "data.isnull().sum()"
   ]
  },
  {
   "cell_type": "code",
   "execution_count": 12,
   "metadata": {
    "id": "Uj_k0OVgvP31"
   },
   "outputs": [],
   "source": [
    "data['Gender'] = data['Gender'].astype('category')\n",
    "data['Gender'] = data['Gender'].cat.codes"
   ]
  },
  {
   "cell_type": "code",
   "execution_count": 13,
   "metadata": {
    "id": "J4tc7UxRnn6E"
   },
   "outputs": [],
   "source": [
    "x = data.iloc[:,0:-1]\n",
    "y = data.iloc[:,-1]\n",
    "from sklearn.model_selection import train_test_split\n",
    "x_train, x_test, y_train, y_test = train_test_split(x, y, train_size=0.9, random_state=1)\n"
   ]
  },
  {
   "cell_type": "code",
   "execution_count": 14,
   "metadata": {
    "colab": {
     "base_uri": "https://localhost:8080/"
    },
    "id": "LGgjaY-3iJwZ",
    "outputId": "617dbf91-c43f-4f79-ad51-932ff1533874"
   },
   "outputs": [
    {
     "name": "stdout",
     "output_type": "stream",
     "text": [
      "Data for Modeling :(525, 11)\n",
      "##############################################################################################################\n",
      "Unseen Data for Prediction :(58, 11)\n"
     ]
    }
   ],
   "source": [
    "print(\"Data for Modeling :\" + str(data.shape))\n",
    "print(\"###########\"*10)\n",
    "print(\"Unseen Data for Prediction :\" + str(data_unseen.shape))"
   ]
  },
  {
   "cell_type": "code",
   "execution_count": 15,
   "metadata": {
    "colab": {
     "base_uri": "https://localhost:8080/",
     "height": 446
    },
    "id": "tWCguaxSp_d5",
    "outputId": "061492c6-1bed-4042-cd2f-4e4142e527b7"
   },
   "outputs": [],
   "source": [
    "# !pip install numba==0.53"
   ]
  },
  {
   "cell_type": "code",
   "execution_count": 16,
   "metadata": {
    "id": "uGfWbBioiJzr"
   },
   "outputs": [],
   "source": [
    "from pycaret.classification import *"
   ]
  },
  {
   "cell_type": "code",
   "execution_count": 21,
   "metadata": {
    "colab": {
     "base_uri": "https://localhost:8080/",
     "height": 1000,
     "referenced_widgets": [
      "a6fde767cdc642c5a001689f980bce80",
      "657274e1fb3241668c846828ff4e7fd3",
      "7d633a6903084fa0b2cb9b7aa56cf038",
      "8df9ed408a144922b0e0090be997965b",
      "6699d4b26861457e83c19aecbd2bd3d0",
      "7625618e9df34927992ec4467646eb68"
     ]
    },
    "id": "8wDH8_RlqTUJ",
    "outputId": "663f9e2c-c9e1-4090-e49d-b4300566e576"
   },
   "outputs": [
    {
     "data": {
      "application/vnd.jupyter.widget-view+json": {
       "model_id": "41426a132d284f74946d6c85f81dce2f",
       "version_major": 2,
       "version_minor": 0
      },
      "text/plain": [
       "IntProgress(value=0, description='Processing: ', max=3)"
      ]
     },
     "metadata": {},
     "output_type": "display_data"
    },
    {
     "data": {
      "text/html": [
       "<div>\n",
       "<style scoped>\n",
       "    .dataframe tbody tr th:only-of-type {\n",
       "        vertical-align: middle;\n",
       "    }\n",
       "\n",
       "    .dataframe tbody tr th {\n",
       "        vertical-align: top;\n",
       "    }\n",
       "\n",
       "    .dataframe thead th {\n",
       "        text-align: right;\n",
       "    }\n",
       "</style>\n",
       "<table border=\"1\" class=\"dataframe\">\n",
       "  <thead>\n",
       "    <tr style=\"text-align: right;\">\n",
       "      <th></th>\n",
       "      <th></th>\n",
       "      <th></th>\n",
       "    </tr>\n",
       "    <tr>\n",
       "      <th></th>\n",
       "      <th></th>\n",
       "      <th></th>\n",
       "    </tr>\n",
       "  </thead>\n",
       "  <tbody>\n",
       "    <tr>\n",
       "      <th>Initiated</th>\n",
       "      <td>. . . . . . . . . . . . . . . . . .</td>\n",
       "      <td>16:41:22</td>\n",
       "    </tr>\n",
       "    <tr>\n",
       "      <th>Status</th>\n",
       "      <td>. . . . . . . . . . . . . . . . . .</td>\n",
       "      <td>Preparing Data for Modeling</td>\n",
       "    </tr>\n",
       "  </tbody>\n",
       "</table>\n",
       "</div>"
      ],
      "text/plain": [
       "                                                                           \n",
       "                                                                           \n",
       "Initiated  . . . . . . . . . . . . . . . . . .                     16:41:22\n",
       "Status     . . . . . . . . . . . . . . . . . .  Preparing Data for Modeling"
      ]
     },
     "metadata": {},
     "output_type": "display_data"
    },
    {
     "ename": "ValueError",
     "evalue": "Setting a random_state has no effect since shuffle is False. You should leave random_state to its default (None), or set shuffle=True.",
     "output_type": "error",
     "traceback": [
      "\u001b[1;31m---------------------------------------------------------------------------\u001b[0m",
      "\u001b[1;31mValueError\u001b[0m                                Traceback (most recent call last)",
      "Input \u001b[1;32mIn [21]\u001b[0m, in \u001b[0;36m<cell line: 1>\u001b[1;34m()\u001b[0m\n\u001b[1;32m----> 1\u001b[0m exp_clf101 \u001b[38;5;241m=\u001b[39m \u001b[43msetup\u001b[49m\u001b[43m(\u001b[49m\u001b[43mdata\u001b[49m\u001b[38;5;241;43m=\u001b[39;49m\u001b[43mdata\u001b[49m\u001b[43m,\u001b[49m\u001b[43m \u001b[49m\u001b[43mtarget\u001b[49m\u001b[38;5;241;43m=\u001b[39;49m\u001b[38;5;124;43m'\u001b[39;49m\u001b[38;5;124;43mDataset\u001b[39;49m\u001b[38;5;124;43m'\u001b[39;49m\u001b[43m \u001b[49m\u001b[43m,\u001b[49m\u001b[43m \u001b[49m\u001b[43msession_id\u001b[49m\u001b[38;5;241;43m=\u001b[39;49m\u001b[38;5;241;43m123\u001b[39;49m\u001b[43m)\u001b[49m\n",
      "File \u001b[1;32m~\\anaconda3\\lib\\site-packages\\pycaret\\classification.py:580\u001b[0m, in \u001b[0;36msetup\u001b[1;34m(data, target, train_size, test_data, preprocess, imputation_type, iterative_imputation_iters, categorical_features, categorical_imputation, categorical_iterative_imputer, ordinal_features, high_cardinality_features, high_cardinality_method, numeric_features, numeric_imputation, numeric_iterative_imputer, date_features, ignore_features, normalize, normalize_method, transformation, transformation_method, handle_unknown_categorical, unknown_categorical_method, pca, pca_method, pca_components, ignore_low_variance, combine_rare_levels, rare_level_threshold, bin_numeric_features, remove_outliers, outliers_threshold, remove_multicollinearity, multicollinearity_threshold, remove_perfect_collinearity, create_clusters, cluster_iter, polynomial_features, polynomial_degree, trigonometry_features, polynomial_threshold, group_features, group_names, feature_selection, feature_selection_threshold, feature_selection_method, feature_interaction, feature_ratio, interaction_threshold, fix_imbalance, fix_imbalance_method, data_split_shuffle, data_split_stratify, fold_strategy, fold, fold_shuffle, fold_groups, n_jobs, use_gpu, custom_pipeline, html, session_id, log_experiment, experiment_name, log_plots, log_profile, log_data, silent, verbose, profile, profile_kwargs)\u001b[0m\n\u001b[0;32m    577\u001b[0m \u001b[38;5;28;01mif\u001b[39;00m log_plots \u001b[38;5;241m==\u001b[39m \u001b[38;5;28;01mTrue\u001b[39;00m:\n\u001b[0;32m    578\u001b[0m     log_plots \u001b[38;5;241m=\u001b[39m [\u001b[38;5;124m\"\u001b[39m\u001b[38;5;124mauc\u001b[39m\u001b[38;5;124m\"\u001b[39m, \u001b[38;5;124m\"\u001b[39m\u001b[38;5;124mconfusion_matrix\u001b[39m\u001b[38;5;124m\"\u001b[39m, \u001b[38;5;124m\"\u001b[39m\u001b[38;5;124mfeature\u001b[39m\u001b[38;5;124m\"\u001b[39m]\n\u001b[1;32m--> 580\u001b[0m \u001b[38;5;28;01mreturn\u001b[39;00m \u001b[43mpycaret\u001b[49m\u001b[38;5;241;43m.\u001b[39;49m\u001b[43minternal\u001b[49m\u001b[38;5;241;43m.\u001b[39;49m\u001b[43mtabular\u001b[49m\u001b[38;5;241;43m.\u001b[39;49m\u001b[43msetup\u001b[49m\u001b[43m(\u001b[49m\n\u001b[0;32m    581\u001b[0m \u001b[43m    \u001b[49m\u001b[43mml_usecase\u001b[49m\u001b[38;5;241;43m=\u001b[39;49m\u001b[38;5;124;43m\"\u001b[39;49m\u001b[38;5;124;43mclassification\u001b[39;49m\u001b[38;5;124;43m\"\u001b[39;49m\u001b[43m,\u001b[49m\n\u001b[0;32m    582\u001b[0m \u001b[43m    \u001b[49m\u001b[43mavailable_plots\u001b[49m\u001b[38;5;241;43m=\u001b[39;49m\u001b[43mavailable_plots\u001b[49m\u001b[43m,\u001b[49m\n\u001b[0;32m    583\u001b[0m \u001b[43m    \u001b[49m\u001b[43mdata\u001b[49m\u001b[38;5;241;43m=\u001b[39;49m\u001b[43mdata\u001b[49m\u001b[43m,\u001b[49m\n\u001b[0;32m    584\u001b[0m \u001b[43m    \u001b[49m\u001b[43mtarget\u001b[49m\u001b[38;5;241;43m=\u001b[39;49m\u001b[43mtarget\u001b[49m\u001b[43m,\u001b[49m\n\u001b[0;32m    585\u001b[0m \u001b[43m    \u001b[49m\u001b[43mtrain_size\u001b[49m\u001b[38;5;241;43m=\u001b[39;49m\u001b[43mtrain_size\u001b[49m\u001b[43m,\u001b[49m\n\u001b[0;32m    586\u001b[0m \u001b[43m    \u001b[49m\u001b[43mtest_data\u001b[49m\u001b[38;5;241;43m=\u001b[39;49m\u001b[43mtest_data\u001b[49m\u001b[43m,\u001b[49m\n\u001b[0;32m    587\u001b[0m \u001b[43m    \u001b[49m\u001b[43mpreprocess\u001b[49m\u001b[38;5;241;43m=\u001b[39;49m\u001b[43mpreprocess\u001b[49m\u001b[43m,\u001b[49m\n\u001b[0;32m    588\u001b[0m \u001b[43m    \u001b[49m\u001b[43mimputation_type\u001b[49m\u001b[38;5;241;43m=\u001b[39;49m\u001b[43mimputation_type\u001b[49m\u001b[43m,\u001b[49m\n\u001b[0;32m    589\u001b[0m \u001b[43m    \u001b[49m\u001b[43miterative_imputation_iters\u001b[49m\u001b[38;5;241;43m=\u001b[39;49m\u001b[43miterative_imputation_iters\u001b[49m\u001b[43m,\u001b[49m\n\u001b[0;32m    590\u001b[0m \u001b[43m    \u001b[49m\u001b[43mcategorical_features\u001b[49m\u001b[38;5;241;43m=\u001b[39;49m\u001b[43mcategorical_features\u001b[49m\u001b[43m,\u001b[49m\n\u001b[0;32m    591\u001b[0m \u001b[43m    \u001b[49m\u001b[43mcategorical_imputation\u001b[49m\u001b[38;5;241;43m=\u001b[39;49m\u001b[43mcategorical_imputation\u001b[49m\u001b[43m,\u001b[49m\n\u001b[0;32m    592\u001b[0m \u001b[43m    \u001b[49m\u001b[43mcategorical_iterative_imputer\u001b[49m\u001b[38;5;241;43m=\u001b[39;49m\u001b[43mcategorical_iterative_imputer\u001b[49m\u001b[43m,\u001b[49m\n\u001b[0;32m    593\u001b[0m \u001b[43m    \u001b[49m\u001b[43mordinal_features\u001b[49m\u001b[38;5;241;43m=\u001b[39;49m\u001b[43mordinal_features\u001b[49m\u001b[43m,\u001b[49m\n\u001b[0;32m    594\u001b[0m \u001b[43m    \u001b[49m\u001b[43mhigh_cardinality_features\u001b[49m\u001b[38;5;241;43m=\u001b[39;49m\u001b[43mhigh_cardinality_features\u001b[49m\u001b[43m,\u001b[49m\n\u001b[0;32m    595\u001b[0m \u001b[43m    \u001b[49m\u001b[43mhigh_cardinality_method\u001b[49m\u001b[38;5;241;43m=\u001b[39;49m\u001b[43mhigh_cardinality_method\u001b[49m\u001b[43m,\u001b[49m\n\u001b[0;32m    596\u001b[0m \u001b[43m    \u001b[49m\u001b[43mnumeric_features\u001b[49m\u001b[38;5;241;43m=\u001b[39;49m\u001b[43mnumeric_features\u001b[49m\u001b[43m,\u001b[49m\n\u001b[0;32m    597\u001b[0m \u001b[43m    \u001b[49m\u001b[43mnumeric_imputation\u001b[49m\u001b[38;5;241;43m=\u001b[39;49m\u001b[43mnumeric_imputation\u001b[49m\u001b[43m,\u001b[49m\n\u001b[0;32m    598\u001b[0m \u001b[43m    \u001b[49m\u001b[43mnumeric_iterative_imputer\u001b[49m\u001b[38;5;241;43m=\u001b[39;49m\u001b[43mnumeric_iterative_imputer\u001b[49m\u001b[43m,\u001b[49m\n\u001b[0;32m    599\u001b[0m \u001b[43m    \u001b[49m\u001b[43mdate_features\u001b[49m\u001b[38;5;241;43m=\u001b[39;49m\u001b[43mdate_features\u001b[49m\u001b[43m,\u001b[49m\n\u001b[0;32m    600\u001b[0m \u001b[43m    \u001b[49m\u001b[43mignore_features\u001b[49m\u001b[38;5;241;43m=\u001b[39;49m\u001b[43mignore_features\u001b[49m\u001b[43m,\u001b[49m\n\u001b[0;32m    601\u001b[0m \u001b[43m    \u001b[49m\u001b[43mnormalize\u001b[49m\u001b[38;5;241;43m=\u001b[39;49m\u001b[43mnormalize\u001b[49m\u001b[43m,\u001b[49m\n\u001b[0;32m    602\u001b[0m \u001b[43m    \u001b[49m\u001b[43mnormalize_method\u001b[49m\u001b[38;5;241;43m=\u001b[39;49m\u001b[43mnormalize_method\u001b[49m\u001b[43m,\u001b[49m\n\u001b[0;32m    603\u001b[0m \u001b[43m    \u001b[49m\u001b[43mtransformation\u001b[49m\u001b[38;5;241;43m=\u001b[39;49m\u001b[43mtransformation\u001b[49m\u001b[43m,\u001b[49m\n\u001b[0;32m    604\u001b[0m \u001b[43m    \u001b[49m\u001b[43mtransformation_method\u001b[49m\u001b[38;5;241;43m=\u001b[39;49m\u001b[43mtransformation_method\u001b[49m\u001b[43m,\u001b[49m\n\u001b[0;32m    605\u001b[0m \u001b[43m    \u001b[49m\u001b[43mhandle_unknown_categorical\u001b[49m\u001b[38;5;241;43m=\u001b[39;49m\u001b[43mhandle_unknown_categorical\u001b[49m\u001b[43m,\u001b[49m\n\u001b[0;32m    606\u001b[0m \u001b[43m    \u001b[49m\u001b[43munknown_categorical_method\u001b[49m\u001b[38;5;241;43m=\u001b[39;49m\u001b[43munknown_categorical_method\u001b[49m\u001b[43m,\u001b[49m\n\u001b[0;32m    607\u001b[0m \u001b[43m    \u001b[49m\u001b[43mpca\u001b[49m\u001b[38;5;241;43m=\u001b[39;49m\u001b[43mpca\u001b[49m\u001b[43m,\u001b[49m\n\u001b[0;32m    608\u001b[0m \u001b[43m    \u001b[49m\u001b[43mpca_method\u001b[49m\u001b[38;5;241;43m=\u001b[39;49m\u001b[43mpca_method\u001b[49m\u001b[43m,\u001b[49m\n\u001b[0;32m    609\u001b[0m \u001b[43m    \u001b[49m\u001b[43mpca_components\u001b[49m\u001b[38;5;241;43m=\u001b[39;49m\u001b[43mpca_components\u001b[49m\u001b[43m,\u001b[49m\n\u001b[0;32m    610\u001b[0m \u001b[43m    \u001b[49m\u001b[43mignore_low_variance\u001b[49m\u001b[38;5;241;43m=\u001b[39;49m\u001b[43mignore_low_variance\u001b[49m\u001b[43m,\u001b[49m\n\u001b[0;32m    611\u001b[0m \u001b[43m    \u001b[49m\u001b[43mcombine_rare_levels\u001b[49m\u001b[38;5;241;43m=\u001b[39;49m\u001b[43mcombine_rare_levels\u001b[49m\u001b[43m,\u001b[49m\n\u001b[0;32m    612\u001b[0m \u001b[43m    \u001b[49m\u001b[43mrare_level_threshold\u001b[49m\u001b[38;5;241;43m=\u001b[39;49m\u001b[43mrare_level_threshold\u001b[49m\u001b[43m,\u001b[49m\n\u001b[0;32m    613\u001b[0m \u001b[43m    \u001b[49m\u001b[43mbin_numeric_features\u001b[49m\u001b[38;5;241;43m=\u001b[39;49m\u001b[43mbin_numeric_features\u001b[49m\u001b[43m,\u001b[49m\n\u001b[0;32m    614\u001b[0m \u001b[43m    \u001b[49m\u001b[43mremove_outliers\u001b[49m\u001b[38;5;241;43m=\u001b[39;49m\u001b[43mremove_outliers\u001b[49m\u001b[43m,\u001b[49m\n\u001b[0;32m    615\u001b[0m \u001b[43m    \u001b[49m\u001b[43moutliers_threshold\u001b[49m\u001b[38;5;241;43m=\u001b[39;49m\u001b[43moutliers_threshold\u001b[49m\u001b[43m,\u001b[49m\n\u001b[0;32m    616\u001b[0m \u001b[43m    \u001b[49m\u001b[43mremove_multicollinearity\u001b[49m\u001b[38;5;241;43m=\u001b[39;49m\u001b[43mremove_multicollinearity\u001b[49m\u001b[43m,\u001b[49m\n\u001b[0;32m    617\u001b[0m \u001b[43m    \u001b[49m\u001b[43mmulticollinearity_threshold\u001b[49m\u001b[38;5;241;43m=\u001b[39;49m\u001b[43mmulticollinearity_threshold\u001b[49m\u001b[43m,\u001b[49m\n\u001b[0;32m    618\u001b[0m \u001b[43m    \u001b[49m\u001b[43mremove_perfect_collinearity\u001b[49m\u001b[38;5;241;43m=\u001b[39;49m\u001b[43mremove_perfect_collinearity\u001b[49m\u001b[43m,\u001b[49m\n\u001b[0;32m    619\u001b[0m \u001b[43m    \u001b[49m\u001b[43mcreate_clusters\u001b[49m\u001b[38;5;241;43m=\u001b[39;49m\u001b[43mcreate_clusters\u001b[49m\u001b[43m,\u001b[49m\n\u001b[0;32m    620\u001b[0m \u001b[43m    \u001b[49m\u001b[43mcluster_iter\u001b[49m\u001b[38;5;241;43m=\u001b[39;49m\u001b[43mcluster_iter\u001b[49m\u001b[43m,\u001b[49m\n\u001b[0;32m    621\u001b[0m \u001b[43m    \u001b[49m\u001b[43mpolynomial_features\u001b[49m\u001b[38;5;241;43m=\u001b[39;49m\u001b[43mpolynomial_features\u001b[49m\u001b[43m,\u001b[49m\n\u001b[0;32m    622\u001b[0m \u001b[43m    \u001b[49m\u001b[43mpolynomial_degree\u001b[49m\u001b[38;5;241;43m=\u001b[39;49m\u001b[43mpolynomial_degree\u001b[49m\u001b[43m,\u001b[49m\n\u001b[0;32m    623\u001b[0m \u001b[43m    \u001b[49m\u001b[43mtrigonometry_features\u001b[49m\u001b[38;5;241;43m=\u001b[39;49m\u001b[43mtrigonometry_features\u001b[49m\u001b[43m,\u001b[49m\n\u001b[0;32m    624\u001b[0m \u001b[43m    \u001b[49m\u001b[43mpolynomial_threshold\u001b[49m\u001b[38;5;241;43m=\u001b[39;49m\u001b[43mpolynomial_threshold\u001b[49m\u001b[43m,\u001b[49m\n\u001b[0;32m    625\u001b[0m \u001b[43m    \u001b[49m\u001b[43mgroup_features\u001b[49m\u001b[38;5;241;43m=\u001b[39;49m\u001b[43mgroup_features\u001b[49m\u001b[43m,\u001b[49m\n\u001b[0;32m    626\u001b[0m \u001b[43m    \u001b[49m\u001b[43mgroup_names\u001b[49m\u001b[38;5;241;43m=\u001b[39;49m\u001b[43mgroup_names\u001b[49m\u001b[43m,\u001b[49m\n\u001b[0;32m    627\u001b[0m \u001b[43m    \u001b[49m\u001b[43mfeature_selection\u001b[49m\u001b[38;5;241;43m=\u001b[39;49m\u001b[43mfeature_selection\u001b[49m\u001b[43m,\u001b[49m\n\u001b[0;32m    628\u001b[0m \u001b[43m    \u001b[49m\u001b[43mfeature_selection_threshold\u001b[49m\u001b[38;5;241;43m=\u001b[39;49m\u001b[43mfeature_selection_threshold\u001b[49m\u001b[43m,\u001b[49m\n\u001b[0;32m    629\u001b[0m \u001b[43m    \u001b[49m\u001b[43mfeature_selection_method\u001b[49m\u001b[38;5;241;43m=\u001b[39;49m\u001b[43mfeature_selection_method\u001b[49m\u001b[43m,\u001b[49m\n\u001b[0;32m    630\u001b[0m \u001b[43m    \u001b[49m\u001b[43mfeature_interaction\u001b[49m\u001b[38;5;241;43m=\u001b[39;49m\u001b[43mfeature_interaction\u001b[49m\u001b[43m,\u001b[49m\n\u001b[0;32m    631\u001b[0m \u001b[43m    \u001b[49m\u001b[43mfeature_ratio\u001b[49m\u001b[38;5;241;43m=\u001b[39;49m\u001b[43mfeature_ratio\u001b[49m\u001b[43m,\u001b[49m\n\u001b[0;32m    632\u001b[0m \u001b[43m    \u001b[49m\u001b[43minteraction_threshold\u001b[49m\u001b[38;5;241;43m=\u001b[39;49m\u001b[43minteraction_threshold\u001b[49m\u001b[43m,\u001b[49m\n\u001b[0;32m    633\u001b[0m \u001b[43m    \u001b[49m\u001b[43mfix_imbalance\u001b[49m\u001b[38;5;241;43m=\u001b[39;49m\u001b[43mfix_imbalance\u001b[49m\u001b[43m,\u001b[49m\n\u001b[0;32m    634\u001b[0m \u001b[43m    \u001b[49m\u001b[43mfix_imbalance_method\u001b[49m\u001b[38;5;241;43m=\u001b[39;49m\u001b[43mfix_imbalance_method\u001b[49m\u001b[43m,\u001b[49m\n\u001b[0;32m    635\u001b[0m \u001b[43m    \u001b[49m\u001b[43mdata_split_shuffle\u001b[49m\u001b[38;5;241;43m=\u001b[39;49m\u001b[43mdata_split_shuffle\u001b[49m\u001b[43m,\u001b[49m\n\u001b[0;32m    636\u001b[0m \u001b[43m    \u001b[49m\u001b[43mdata_split_stratify\u001b[49m\u001b[38;5;241;43m=\u001b[39;49m\u001b[43mdata_split_stratify\u001b[49m\u001b[43m,\u001b[49m\n\u001b[0;32m    637\u001b[0m \u001b[43m    \u001b[49m\u001b[43mfold_strategy\u001b[49m\u001b[38;5;241;43m=\u001b[39;49m\u001b[43mfold_strategy\u001b[49m\u001b[43m,\u001b[49m\n\u001b[0;32m    638\u001b[0m \u001b[43m    \u001b[49m\u001b[43mfold\u001b[49m\u001b[38;5;241;43m=\u001b[39;49m\u001b[43mfold\u001b[49m\u001b[43m,\u001b[49m\n\u001b[0;32m    639\u001b[0m \u001b[43m    \u001b[49m\u001b[43mfold_shuffle\u001b[49m\u001b[38;5;241;43m=\u001b[39;49m\u001b[43mfold_shuffle\u001b[49m\u001b[43m,\u001b[49m\n\u001b[0;32m    640\u001b[0m \u001b[43m    \u001b[49m\u001b[43mfold_groups\u001b[49m\u001b[38;5;241;43m=\u001b[39;49m\u001b[43mfold_groups\u001b[49m\u001b[43m,\u001b[49m\n\u001b[0;32m    641\u001b[0m \u001b[43m    \u001b[49m\u001b[43mn_jobs\u001b[49m\u001b[38;5;241;43m=\u001b[39;49m\u001b[43mn_jobs\u001b[49m\u001b[43m,\u001b[49m\n\u001b[0;32m    642\u001b[0m \u001b[43m    \u001b[49m\u001b[43muse_gpu\u001b[49m\u001b[38;5;241;43m=\u001b[39;49m\u001b[43muse_gpu\u001b[49m\u001b[43m,\u001b[49m\n\u001b[0;32m    643\u001b[0m \u001b[43m    \u001b[49m\u001b[43mcustom_pipeline\u001b[49m\u001b[38;5;241;43m=\u001b[39;49m\u001b[43mcustom_pipeline\u001b[49m\u001b[43m,\u001b[49m\n\u001b[0;32m    644\u001b[0m \u001b[43m    \u001b[49m\u001b[43mhtml\u001b[49m\u001b[38;5;241;43m=\u001b[39;49m\u001b[43mhtml\u001b[49m\u001b[43m,\u001b[49m\n\u001b[0;32m    645\u001b[0m \u001b[43m    \u001b[49m\u001b[43msession_id\u001b[49m\u001b[38;5;241;43m=\u001b[39;49m\u001b[43msession_id\u001b[49m\u001b[43m,\u001b[49m\n\u001b[0;32m    646\u001b[0m \u001b[43m    \u001b[49m\u001b[43mlog_experiment\u001b[49m\u001b[38;5;241;43m=\u001b[39;49m\u001b[43mlog_experiment\u001b[49m\u001b[43m,\u001b[49m\n\u001b[0;32m    647\u001b[0m \u001b[43m    \u001b[49m\u001b[43mexperiment_name\u001b[49m\u001b[38;5;241;43m=\u001b[39;49m\u001b[43mexperiment_name\u001b[49m\u001b[43m,\u001b[49m\n\u001b[0;32m    648\u001b[0m \u001b[43m    \u001b[49m\u001b[43mlog_plots\u001b[49m\u001b[38;5;241;43m=\u001b[39;49m\u001b[43mlog_plots\u001b[49m\u001b[43m,\u001b[49m\n\u001b[0;32m    649\u001b[0m \u001b[43m    \u001b[49m\u001b[43mlog_profile\u001b[49m\u001b[38;5;241;43m=\u001b[39;49m\u001b[43mlog_profile\u001b[49m\u001b[43m,\u001b[49m\n\u001b[0;32m    650\u001b[0m \u001b[43m    \u001b[49m\u001b[43mlog_data\u001b[49m\u001b[38;5;241;43m=\u001b[39;49m\u001b[43mlog_data\u001b[49m\u001b[43m,\u001b[49m\n\u001b[0;32m    651\u001b[0m \u001b[43m    \u001b[49m\u001b[43msilent\u001b[49m\u001b[38;5;241;43m=\u001b[39;49m\u001b[43msilent\u001b[49m\u001b[43m,\u001b[49m\n\u001b[0;32m    652\u001b[0m \u001b[43m    \u001b[49m\u001b[43mverbose\u001b[49m\u001b[38;5;241;43m=\u001b[39;49m\u001b[43mverbose\u001b[49m\u001b[43m,\u001b[49m\n\u001b[0;32m    653\u001b[0m \u001b[43m    \u001b[49m\u001b[43mprofile\u001b[49m\u001b[38;5;241;43m=\u001b[39;49m\u001b[43mprofile\u001b[49m\u001b[43m,\u001b[49m\n\u001b[0;32m    654\u001b[0m \u001b[43m    \u001b[49m\u001b[43mprofile_kwargs\u001b[49m\u001b[38;5;241;43m=\u001b[39;49m\u001b[43mprofile_kwargs\u001b[49m\u001b[43m,\u001b[49m\n\u001b[0;32m    655\u001b[0m \u001b[43m\u001b[49m\u001b[43m)\u001b[49m\n",
      "File \u001b[1;32m~\\anaconda3\\lib\\site-packages\\pycaret\\internal\\tabular.py:1217\u001b[0m, in \u001b[0;36msetup\u001b[1;34m(data, target, ml_usecase, available_plots, train_size, test_data, preprocess, imputation_type, iterative_imputation_iters, categorical_features, categorical_imputation, categorical_iterative_imputer, ordinal_features, high_cardinality_features, high_cardinality_method, numeric_features, numeric_imputation, numeric_iterative_imputer, date_features, ignore_features, normalize, normalize_method, transformation, transformation_method, handle_unknown_categorical, unknown_categorical_method, pca, pca_method, pca_components, ignore_low_variance, combine_rare_levels, rare_level_threshold, bin_numeric_features, remove_outliers, outliers_threshold, remove_multicollinearity, multicollinearity_threshold, remove_perfect_collinearity, create_clusters, cluster_iter, polynomial_features, polynomial_degree, trigonometry_features, polynomial_threshold, group_features, group_names, feature_selection, feature_selection_threshold, feature_selection_method, feature_interaction, feature_ratio, interaction_threshold, fix_imbalance, fix_imbalance_method, transform_target, transform_target_method, data_split_shuffle, data_split_stratify, fold_strategy, fold, fold_shuffle, fold_groups, n_jobs, use_gpu, custom_pipeline, html, session_id, log_experiment, experiment_name, log_plots, log_profile, log_data, silent, verbose, profile, profile_kwargs, display)\u001b[0m\n\u001b[0;32m   1213\u001b[0m     fold_generator \u001b[38;5;241m=\u001b[39m KFold(\n\u001b[0;32m   1214\u001b[0m         fold_param, random_state\u001b[38;5;241m=\u001b[39mseed, shuffle\u001b[38;5;241m=\u001b[39mfold_shuffle_param\n\u001b[0;32m   1215\u001b[0m     )\n\u001b[0;32m   1216\u001b[0m \u001b[38;5;28;01melif\u001b[39;00m fold_strategy \u001b[38;5;241m==\u001b[39m \u001b[38;5;124m\"\u001b[39m\u001b[38;5;124mstratifiedkfold\u001b[39m\u001b[38;5;124m\"\u001b[39m:\n\u001b[1;32m-> 1217\u001b[0m     fold_generator \u001b[38;5;241m=\u001b[39m \u001b[43mStratifiedKFold\u001b[49m\u001b[43m(\u001b[49m\n\u001b[0;32m   1218\u001b[0m \u001b[43m        \u001b[49m\u001b[43mfold_param\u001b[49m\u001b[43m,\u001b[49m\u001b[43m \u001b[49m\u001b[43mrandom_state\u001b[49m\u001b[38;5;241;43m=\u001b[39;49m\u001b[43mseed\u001b[49m\u001b[43m,\u001b[49m\u001b[43m \u001b[49m\u001b[43mshuffle\u001b[49m\u001b[38;5;241;43m=\u001b[39;49m\u001b[43mfold_shuffle_param\u001b[49m\n\u001b[0;32m   1219\u001b[0m \u001b[43m    \u001b[49m\u001b[43m)\u001b[49m\n\u001b[0;32m   1220\u001b[0m \u001b[38;5;28;01melif\u001b[39;00m fold_strategy \u001b[38;5;241m==\u001b[39m \u001b[38;5;124m\"\u001b[39m\u001b[38;5;124mgroupkfold\u001b[39m\u001b[38;5;124m\"\u001b[39m:\n\u001b[0;32m   1221\u001b[0m     fold_generator \u001b[38;5;241m=\u001b[39m GroupKFold(fold_param)\n",
      "File \u001b[1;32m~\\anaconda3\\lib\\site-packages\\sklearn\\model_selection\\_split.py:644\u001b[0m, in \u001b[0;36mStratifiedKFold.__init__\u001b[1;34m(self, n_splits, shuffle, random_state)\u001b[0m\n\u001b[0;32m    643\u001b[0m \u001b[38;5;28;01mdef\u001b[39;00m \u001b[38;5;21m__init__\u001b[39m(\u001b[38;5;28mself\u001b[39m, n_splits\u001b[38;5;241m=\u001b[39m\u001b[38;5;241m5\u001b[39m, \u001b[38;5;241m*\u001b[39m, shuffle\u001b[38;5;241m=\u001b[39m\u001b[38;5;28;01mFalse\u001b[39;00m, random_state\u001b[38;5;241m=\u001b[39m\u001b[38;5;28;01mNone\u001b[39;00m):\n\u001b[1;32m--> 644\u001b[0m     \u001b[38;5;28;43msuper\u001b[39;49m\u001b[43m(\u001b[49m\u001b[43m)\u001b[49m\u001b[38;5;241;43m.\u001b[39;49m\u001b[38;5;21;43m__init__\u001b[39;49m\u001b[43m(\u001b[49m\u001b[43mn_splits\u001b[49m\u001b[38;5;241;43m=\u001b[39;49m\u001b[43mn_splits\u001b[49m\u001b[43m,\u001b[49m\u001b[43m \u001b[49m\u001b[43mshuffle\u001b[49m\u001b[38;5;241;43m=\u001b[39;49m\u001b[43mshuffle\u001b[49m\u001b[43m,\u001b[49m\u001b[43m \u001b[49m\u001b[43mrandom_state\u001b[49m\u001b[38;5;241;43m=\u001b[39;49m\u001b[43mrandom_state\u001b[49m\u001b[43m)\u001b[49m\n",
      "File \u001b[1;32m~\\anaconda3\\lib\\site-packages\\sklearn\\model_selection\\_split.py:296\u001b[0m, in \u001b[0;36m_BaseKFold.__init__\u001b[1;34m(self, n_splits, shuffle, random_state)\u001b[0m\n\u001b[0;32m    293\u001b[0m     \u001b[38;5;28;01mraise\u001b[39;00m \u001b[38;5;167;01mTypeError\u001b[39;00m(\u001b[38;5;124m\"\u001b[39m\u001b[38;5;124mshuffle must be True or False; got \u001b[39m\u001b[38;5;132;01m{0}\u001b[39;00m\u001b[38;5;124m\"\u001b[39m\u001b[38;5;241m.\u001b[39mformat(shuffle))\n\u001b[0;32m    295\u001b[0m \u001b[38;5;28;01mif\u001b[39;00m \u001b[38;5;129;01mnot\u001b[39;00m shuffle \u001b[38;5;129;01mand\u001b[39;00m random_state \u001b[38;5;129;01mis\u001b[39;00m \u001b[38;5;129;01mnot\u001b[39;00m \u001b[38;5;28;01mNone\u001b[39;00m:  \u001b[38;5;66;03m# None is the default\u001b[39;00m\n\u001b[1;32m--> 296\u001b[0m     \u001b[38;5;28;01mraise\u001b[39;00m \u001b[38;5;167;01mValueError\u001b[39;00m(\n\u001b[0;32m    297\u001b[0m         \u001b[38;5;124m\"\u001b[39m\u001b[38;5;124mSetting a random_state has no effect since shuffle is \u001b[39m\u001b[38;5;124m\"\u001b[39m\n\u001b[0;32m    298\u001b[0m         \u001b[38;5;124m\"\u001b[39m\u001b[38;5;124mFalse. You should leave \u001b[39m\u001b[38;5;124m\"\u001b[39m\n\u001b[0;32m    299\u001b[0m         \u001b[38;5;124m\"\u001b[39m\u001b[38;5;124mrandom_state to its default (None), or set shuffle=True.\u001b[39m\u001b[38;5;124m\"\u001b[39m,\n\u001b[0;32m    300\u001b[0m     )\n\u001b[0;32m    302\u001b[0m \u001b[38;5;28mself\u001b[39m\u001b[38;5;241m.\u001b[39mn_splits \u001b[38;5;241m=\u001b[39m n_splits\n\u001b[0;32m    303\u001b[0m \u001b[38;5;28mself\u001b[39m\u001b[38;5;241m.\u001b[39mshuffle \u001b[38;5;241m=\u001b[39m shuffle\n",
      "\u001b[1;31mValueError\u001b[0m: Setting a random_state has no effect since shuffle is False. You should leave random_state to its default (None), or set shuffle=True."
     ]
    }
   ],
   "source": [
    "exp_clf101 = setup(data=data, target='Dataset' , session_id=123)"
   ]
  },
  {
   "cell_type": "code",
   "execution_count": null,
   "metadata": {
    "colab": {
     "base_uri": "https://localhost:8080/",
     "height": 765,
     "referenced_widgets": [
      "b34ed4669f7d4e8498f2da1e51bb5db1",
      "8299e97daf644f2983d81e950237e84e",
      "07485999b14b4c77ac096773d926e13f"
     ]
    },
    "id": "0LBYyYEYqcph",
    "outputId": "058e89d9-7f5d-4b63-ebac-df4d65701371"
   },
   "outputs": [],
   "source": [
    "compare_models()"
   ]
  },
  {
   "cell_type": "code",
   "execution_count": null,
   "metadata": {
    "id": "ujV3hsV9qcst"
   },
   "outputs": [],
   "source": [
    "ExtraTreesClassifier(bootstrap=False, ccp_alpha=0.0, class_weight=None,\n",
    "                     criterion='gini', max_depth=None, max_features='auto',\n",
    "                     max_leaf_nodes=None, max_samples=None,\n",
    "                     min_impurity_decrease=0.0, min_impurity_split=None,\n",
    "                     min_samples_leaf=1, min_samples_split=2,\n",
    "                     min_weight_fraction_leaf=0.0, n_estimators=100, n_jobs=-1,\n",
    "                     oob_score=False, random_state=123, verbose=0,\n",
    "                     warm_start=False)"
   ]
  },
  {
   "cell_type": "code",
   "execution_count": null,
   "metadata": {
    "colab": {
     "base_uri": "https://localhost:8080/",
     "height": 618,
     "referenced_widgets": [
      "5d5df60050f44aa1bebd9d33e299017e",
      "eebd91c0a20d4e898ce699af0e365707",
      "3628c901dd8e478cbbe9e2553c3acbe0"
     ]
    },
    "id": "dvCCrSVOqcvp",
    "outputId": "b84949c8-4bd4-4710-dbd9-26bdafcef9bc"
   },
   "outputs": [],
   "source": [
    "lr = create_model('lr')"
   ]
  },
  {
   "cell_type": "code",
   "execution_count": null,
   "metadata": {
    "colab": {
     "base_uri": "https://localhost:8080/",
     "height": 672,
     "referenced_widgets": [
      "a8d23b1a452e432f9bb5098362b483d3",
      "537f4620f250428b9f6a8f288d5b3076",
      "8716ffab11fe4c35bd198b277e56c515"
     ]
    },
    "id": "eedX5aPxqc10",
    "outputId": "916e623a-8746-48bc-947e-b3dcac9bac66"
   },
   "outputs": [],
   "source": [
    "et = create_model('et')"
   ]
  },
  {
   "cell_type": "code",
   "execution_count": null,
   "metadata": {
    "id": "S7-fZ2j4qc4y"
   },
   "outputs": [],
   "source": [
    "from sklearn.linear_model import LogisticRegression\n",
    "lr_model = LogisticRegression(C=1.0, class_weight=None, dual=False, fit_intercept=True,\n",
    "                   intercept_scaling=1, l1_ratio=None, max_iter=1000,\n",
    "                   multi_class='auto', n_jobs=None, penalty='l2',\n",
    "                   random_state=123, solver='lbfgs', tol=0.0001, verbose=0,\n",
    "                   warm_start=False)\n",
    "\n"
   ]
  },
  {
   "cell_type": "code",
   "execution_count": null,
   "metadata": {
    "id": "T0Kq0sqfviyJ"
   },
   "outputs": [],
   "source": [
    "x_train.head()"
   ]
  },
  {
   "cell_type": "code",
   "execution_count": null,
   "metadata": {
    "colab": {
     "base_uri": "https://localhost:8080/"
    },
    "id": "xdH_Dj5Svfgm",
    "outputId": "ed49fe90-1d26-4034-dc05-8b140a6e202a"
   },
   "outputs": [],
   "source": [
    "lr_model.fit(x_train, y_train)"
   ]
  },
  {
   "cell_type": "code",
   "execution_count": null,
   "metadata": {
    "id": "8zevYgjbwIb3"
   },
   "outputs": [],
   "source": [
    "y_pred_train = lr_model.predict(x_train)\n",
    "y_pred_test = lr_model.predict(x_test)"
   ]
  },
  {
   "cell_type": "code",
   "execution_count": null,
   "metadata": {
    "id": "AcUcNzcywIp7"
   },
   "outputs": [],
   "source": [
    "from sklearn.metrics import accuracy_score"
   ]
  },
  {
   "cell_type": "code",
   "execution_count": null,
   "metadata": {
    "colab": {
     "base_uri": "https://localhost:8080/"
    },
    "id": "fj6i5QDGwUkx",
    "outputId": "479f1ebc-cdf9-45c6-c0fc-5f5147b93d52"
   },
   "outputs": [],
   "source": [
    "print(\"Training Accuracy : \", accuracy_score(y_train, y_pred_train))\n",
    "print(\"#########\"*10)\n",
    "print(\"Test Accuracy : \", accuracy_score(y_test, y_pred_test))"
   ]
  },
  {
   "cell_type": "code",
   "execution_count": null,
   "metadata": {
    "colab": {
     "base_uri": "https://localhost:8080/"
    },
    "id": "garcy5NfwsEJ",
    "outputId": "2555e7c3-1c93-4ef6-e6ae-4d74904f0d5e"
   },
   "outputs": [],
   "source": [
    "from sklearn.model_selection import cross_val_score\n",
    "training_accuracy = cross_val_score(lr_model, x_train, y_train, cv=10)\n",
    "test_accuracy = cross_val_score(lr_model, x_test, y_test, cv=10)\n",
    "print(training_accuracy.mean())\n",
    "print(\"############\"*10)\n",
    "print(test_accuracy.mean())"
   ]
  },
  {
   "cell_type": "code",
   "execution_count": null,
   "metadata": {
    "colab": {
     "base_uri": "https://localhost:8080/",
     "height": 1000,
     "referenced_widgets": [
      "ba7c31ea44da44eca3b33ed390910a11",
      "993d5959e71e4bc490b5f2b2c9300b7e",
      "087beed804c9488ea07d6c23eab72a90"
     ]
    },
    "id": "kWjCy6FzxfXc",
    "outputId": "6755894e-7982-4bec-bf4a-6dacfec31600"
   },
   "outputs": [],
   "source": [
    "plot_model(lr, plot='auc')"
   ]
  },
  {
   "cell_type": "code",
   "execution_count": null,
   "metadata": {
    "colab": {
     "base_uri": "https://localhost:8080/",
     "height": 618,
     "referenced_widgets": [
      "ccf8fc399b574a85a3e2e3e5bcd256a7",
      "eda2b3b2c71c4b6381e0990e6b689939",
      "0f92a3018011489580421a64e641c634"
     ]
    },
    "id": "av9x7G-WxfaZ",
    "outputId": "36cc97e5-222a-4109-cf3c-7ac20bedb1d5"
   },
   "outputs": [],
   "source": [
    "tuned_lr = tune_model(lr)"
   ]
  },
  {
   "cell_type": "code",
   "execution_count": null,
   "metadata": {
    "colab": {
     "base_uri": "https://localhost:8080/",
     "height": 672,
     "referenced_widgets": [
      "1a900028500745299b9a3254dce5ce81",
      "1a1d108f1eb643358d27dde9a920e007",
      "45cdb910877b41c7b069318a7707a262"
     ]
    },
    "id": "r6W6RgfzxfdO",
    "outputId": "3d23786c-8cee-40b2-829e-b8e8e4b83b6d"
   },
   "outputs": [],
   "source": [
    "tuned_et = tune_model(et)"
   ]
  },
  {
   "cell_type": "code",
   "execution_count": null,
   "metadata": {
    "colab": {
     "base_uri": "https://localhost:8080/",
     "height": 1000,
     "referenced_widgets": [
      "8bf4aef70b2841ca90c0927ed81c8d0f",
      "4ded714c033e4a6a9592a6af6006323b",
      "1c34407c15a045b2924b8b7eaabea3b8"
     ]
    },
    "id": "mVFmBjUdxfgc",
    "outputId": "6d39f47b-8d7a-491d-ccf8-53f882cb1cc7"
   },
   "outputs": [],
   "source": [
    "plot_model(et, plot='auc')"
   ]
  },
  {
   "cell_type": "code",
   "execution_count": null,
   "metadata": {
    "colab": {
     "base_uri": "https://localhost:8080/",
     "height": 514
    },
    "id": "khG7Wddfxfjc",
    "outputId": "24e8754f-56d6-419a-a7df-9bf9d15edd81"
   },
   "outputs": [],
   "source": [
    "# which feature is more significant\n",
    "plot_model(tuned_et, plot='feature')"
   ]
  },
  {
   "cell_type": "code",
   "execution_count": null,
   "metadata": {
    "colab": {
     "base_uri": "https://localhost:8080/",
     "height": 514
    },
    "id": "1Jh2e8ibxfm8",
    "outputId": "3d662ef9-e9f3-4db9-b190-fec76fc78ded"
   },
   "outputs": [],
   "source": [
    "plot_model(tuned_lr, plot='feature')"
   ]
  },
  {
   "cell_type": "code",
   "execution_count": null,
   "metadata": {
    "colab": {
     "base_uri": "https://localhost:8080/",
     "height": 437
    },
    "id": "fJ1y37Z4zGX3",
    "outputId": "85da9e1a-86e1-4ac1-8d53-2ce8d104f98f"
   },
   "outputs": [],
   "source": [
    "plot_model(tuned_lr, plot='confusion_matrix')"
   ]
  },
  {
   "cell_type": "code",
   "execution_count": null,
   "metadata": {
    "colab": {
     "base_uri": "https://localhost:8080/",
     "height": 893,
     "referenced_widgets": [
      "6e5daeea722b4f0e951727abe045a70e",
      "bff67cb30540456c9c71b46ad69b6ebf",
      "98d564c0b4a0496699e5a9f6bcd83ced",
      "fec2077d6c2c4654af1d4784cff4e226",
      "d2d5b564ab8b436886c75191add0ea34",
      "2f69e6eae486440eb34e1524f68c04ac",
      "156ef3f1759e4d91b0dc97a24b5ae25b",
      "c44f0aeb25af451b8ff8f71333be6395",
      "ee3491331095496b91bf8cb1dc38f3e6",
      "a859dce174944a13a8bd9d59cd4399a3",
      "391bad2c7ad247d9a697267a5f62874e",
      "4cab4024876a42d398399be23a7c7084",
      "43edac9c3c834777b97172fffdef7aa6",
      "199604cfdb3f4b4eb92c04a652f951fd",
      "ad0667fe5be04b7ca02b35c8e03054a3",
      "1b119bcf96294fcfb3195b1b8776890f",
      "0783bfad6d9d4a768c1f4befe029d7d7",
      "74555ee2fb334b99a297bef2e5f353e3",
      "85dd3bbbf25a471796088ec714c7a8a2",
      "cb8071a2f7364563b429a91a5d4dceeb",
      "04c5eddc33644920a8feb95617e386b7",
      "7ebade74c327458d97f3443eb2e82570",
      "f958bb4def9a477a82ba0384f1a9c0c5",
      "7f2382a0c1324ac888b274e7ec2e627b",
      "b0d92d2ba1e94795a06540d90ec50b04",
      "12f8c6ab6ab545e6af9075276f84f122",
      "69d67d2cf8dd4def8f6a9e0782e877e9",
      "0e5f8ab970fa454991e30eab19d31f76"
     ]
    },
    "id": "ow78PZjyzGay",
    "outputId": "370af899-126d-4745-939f-64f36426bcbf"
   },
   "outputs": [],
   "source": [
    "# Evaluate the model\n",
    "evaluate_model(tuned_lr)"
   ]
  },
  {
   "cell_type": "code",
   "execution_count": null,
   "metadata": {
    "colab": {
     "base_uri": "https://localhost:8080/",
     "height": 599
    },
    "id": "f8jVkgqvzGd8",
    "outputId": "20f094a9-e578-4d0b-8ad0-ac39499e964e"
   },
   "outputs": [],
   "source": [
    "# Test data - unseen data\n",
    "unseen_prediction = predict_model(tuned_lr, data=data_unseen)\n",
    "unseen_prediction.head()"
   ]
  },
  {
   "cell_type": "code",
   "execution_count": null,
   "metadata": {
    "colab": {
     "base_uri": "https://localhost:8080/"
    },
    "id": "nbs95jG3zGgp",
    "outputId": "b4dd5ebc-ce86-4103-afda-ecee4b6bc5be"
   },
   "outputs": [],
   "source": [
    "save_model(tuned_lr, 'tuned_lr_model')"
   ]
  }
 ],
 "metadata": {
  "accelerator": "GPU",
  "colab": {
   "provenance": []
  },
  "gpuClass": "standard",
  "kernelspec": {
   "display_name": "Python 3 (ipykernel)",
   "language": "python",
   "name": "python3"
  },
  "language_info": {
   "codemirror_mode": {
    "name": "ipython",
    "version": 3
   },
   "file_extension": ".py",
   "mimetype": "text/x-python",
   "name": "python",
   "nbconvert_exporter": "python",
   "pygments_lexer": "ipython3",
   "version": "3.9.12"
  },
  "widgets": {
   "application/vnd.jupyter.widget-state+json": {
    "04c5eddc33644920a8feb95617e386b7": {
     "model_module": "@jupyter-widgets/base",
     "model_module_version": "1.2.0",
     "model_name": "LayoutModel",
     "state": {
      "_model_module": "@jupyter-widgets/base",
      "_model_module_version": "1.2.0",
      "_model_name": "LayoutModel",
      "_view_count": null,
      "_view_module": "@jupyter-widgets/base",
      "_view_module_version": "1.2.0",
      "_view_name": "LayoutView",
      "align_content": null,
      "align_items": null,
      "align_self": null,
      "border": null,
      "bottom": null,
      "display": null,
      "flex": null,
      "flex_flow": null,
      "grid_area": null,
      "grid_auto_columns": null,
      "grid_auto_flow": null,
      "grid_auto_rows": null,
      "grid_column": null,
      "grid_gap": null,
      "grid_row": null,
      "grid_template_areas": null,
      "grid_template_columns": null,
      "grid_template_rows": null,
      "height": null,
      "justify_content": null,
      "justify_items": null,
      "left": null,
      "margin": null,
      "max_height": null,
      "max_width": null,
      "min_height": null,
      "min_width": null,
      "object_fit": null,
      "object_position": null,
      "order": null,
      "overflow": null,
      "overflow_x": null,
      "overflow_y": null,
      "padding": null,
      "right": null,
      "top": null,
      "visibility": null,
      "width": null
     }
    },
    "07485999b14b4c77ac096773d926e13f": {
     "model_module": "@jupyter-widgets/controls",
     "model_module_version": "1.5.0",
     "model_name": "ProgressStyleModel",
     "state": {
      "_model_module": "@jupyter-widgets/controls",
      "_model_module_version": "1.5.0",
      "_model_name": "ProgressStyleModel",
      "_view_count": null,
      "_view_module": "@jupyter-widgets/base",
      "_view_module_version": "1.2.0",
      "_view_name": "StyleView",
      "bar_color": null,
      "description_width": ""
     }
    },
    "0783bfad6d9d4a768c1f4befe029d7d7": {
     "model_module": "@jupyter-widgets/controls",
     "model_module_version": "1.5.0",
     "model_name": "IntProgressModel",
     "state": {
      "_dom_classes": [],
      "_model_module": "@jupyter-widgets/controls",
      "_model_module_version": "1.5.0",
      "_model_name": "IntProgressModel",
      "_view_count": null,
      "_view_module": "@jupyter-widgets/controls",
      "_view_module_version": "1.5.0",
      "_view_name": "ProgressView",
      "bar_style": "",
      "description": "Processing: ",
      "description_tooltip": null,
      "layout": "IPY_MODEL_74555ee2fb334b99a297bef2e5f353e3",
      "max": 5,
      "min": 0,
      "orientation": "horizontal",
      "style": "IPY_MODEL_85dd3bbbf25a471796088ec714c7a8a2",
      "value": 3
     }
    },
    "087beed804c9488ea07d6c23eab72a90": {
     "model_module": "@jupyter-widgets/controls",
     "model_module_version": "1.5.0",
     "model_name": "ProgressStyleModel",
     "state": {
      "_model_module": "@jupyter-widgets/controls",
      "_model_module_version": "1.5.0",
      "_model_name": "ProgressStyleModel",
      "_view_count": null,
      "_view_module": "@jupyter-widgets/base",
      "_view_module_version": "1.2.0",
      "_view_name": "StyleView",
      "bar_color": null,
      "description_width": ""
     }
    },
    "0e5f8ab970fa454991e30eab19d31f76": {
     "model_module": "@jupyter-widgets/controls",
     "model_module_version": "1.5.0",
     "model_name": "ProgressStyleModel",
     "state": {
      "_model_module": "@jupyter-widgets/controls",
      "_model_module_version": "1.5.0",
      "_model_name": "ProgressStyleModel",
      "_view_count": null,
      "_view_module": "@jupyter-widgets/base",
      "_view_module_version": "1.2.0",
      "_view_name": "StyleView",
      "bar_color": null,
      "description_width": ""
     }
    },
    "0f92a3018011489580421a64e641c634": {
     "model_module": "@jupyter-widgets/controls",
     "model_module_version": "1.5.0",
     "model_name": "ProgressStyleModel",
     "state": {
      "_model_module": "@jupyter-widgets/controls",
      "_model_module_version": "1.5.0",
      "_model_name": "ProgressStyleModel",
      "_view_count": null,
      "_view_module": "@jupyter-widgets/base",
      "_view_module_version": "1.2.0",
      "_view_name": "StyleView",
      "bar_color": null,
      "description_width": ""
     }
    },
    "12f8c6ab6ab545e6af9075276f84f122": {
     "model_module": "@jupyter-widgets/controls",
     "model_module_version": "1.5.0",
     "model_name": "IntProgressModel",
     "state": {
      "_dom_classes": [],
      "_model_module": "@jupyter-widgets/controls",
      "_model_module_version": "1.5.0",
      "_model_name": "IntProgressModel",
      "_view_count": null,
      "_view_module": "@jupyter-widgets/controls",
      "_view_module_version": "1.5.0",
      "_view_name": "ProgressView",
      "bar_style": "",
      "description": "Processing: ",
      "description_tooltip": null,
      "layout": "IPY_MODEL_69d67d2cf8dd4def8f6a9e0782e877e9",
      "max": 5,
      "min": 0,
      "orientation": "horizontal",
      "style": "IPY_MODEL_0e5f8ab970fa454991e30eab19d31f76",
      "value": 5
     }
    },
    "156ef3f1759e4d91b0dc97a24b5ae25b": {
     "model_module": "@jupyter-widgets/base",
     "model_module_version": "1.2.0",
     "model_name": "LayoutModel",
     "state": {
      "_model_module": "@jupyter-widgets/base",
      "_model_module_version": "1.2.0",
      "_model_name": "LayoutModel",
      "_view_count": null,
      "_view_module": "@jupyter-widgets/base",
      "_view_module_version": "1.2.0",
      "_view_name": "LayoutView",
      "align_content": null,
      "align_items": null,
      "align_self": null,
      "border": null,
      "bottom": null,
      "display": null,
      "flex": null,
      "flex_flow": null,
      "grid_area": null,
      "grid_auto_columns": null,
      "grid_auto_flow": null,
      "grid_auto_rows": null,
      "grid_column": null,
      "grid_gap": null,
      "grid_row": null,
      "grid_template_areas": null,
      "grid_template_columns": null,
      "grid_template_rows": null,
      "height": null,
      "justify_content": null,
      "justify_items": null,
      "left": null,
      "margin": null,
      "max_height": null,
      "max_width": null,
      "min_height": null,
      "min_width": null,
      "object_fit": null,
      "object_position": null,
      "order": null,
      "overflow": null,
      "overflow_x": null,
      "overflow_y": null,
      "padding": null,
      "right": null,
      "top": null,
      "visibility": null,
      "width": null
     }
    },
    "199604cfdb3f4b4eb92c04a652f951fd": {
     "model_module": "@jupyter-widgets/controls",
     "model_module_version": "1.5.0",
     "model_name": "IntProgressModel",
     "state": {
      "_dom_classes": [],
      "_model_module": "@jupyter-widgets/controls",
      "_model_module_version": "1.5.0",
      "_model_name": "IntProgressModel",
      "_view_count": null,
      "_view_module": "@jupyter-widgets/controls",
      "_view_module_version": "1.5.0",
      "_view_name": "ProgressView",
      "bar_style": "",
      "description": "Processing: ",
      "description_tooltip": null,
      "layout": "IPY_MODEL_ad0667fe5be04b7ca02b35c8e03054a3",
      "max": 5,
      "min": 0,
      "orientation": "horizontal",
      "style": "IPY_MODEL_1b119bcf96294fcfb3195b1b8776890f",
      "value": 5
     }
    },
    "1a1d108f1eb643358d27dde9a920e007": {
     "model_module": "@jupyter-widgets/base",
     "model_module_version": "1.2.0",
     "model_name": "LayoutModel",
     "state": {
      "_model_module": "@jupyter-widgets/base",
      "_model_module_version": "1.2.0",
      "_model_name": "LayoutModel",
      "_view_count": null,
      "_view_module": "@jupyter-widgets/base",
      "_view_module_version": "1.2.0",
      "_view_name": "LayoutView",
      "align_content": null,
      "align_items": null,
      "align_self": null,
      "border": null,
      "bottom": null,
      "display": null,
      "flex": null,
      "flex_flow": null,
      "grid_area": null,
      "grid_auto_columns": null,
      "grid_auto_flow": null,
      "grid_auto_rows": null,
      "grid_column": null,
      "grid_gap": null,
      "grid_row": null,
      "grid_template_areas": null,
      "grid_template_columns": null,
      "grid_template_rows": null,
      "height": null,
      "justify_content": null,
      "justify_items": null,
      "left": null,
      "margin": null,
      "max_height": null,
      "max_width": null,
      "min_height": null,
      "min_width": null,
      "object_fit": null,
      "object_position": null,
      "order": null,
      "overflow": null,
      "overflow_x": null,
      "overflow_y": null,
      "padding": null,
      "right": null,
      "top": null,
      "visibility": null,
      "width": null
     }
    },
    "1a900028500745299b9a3254dce5ce81": {
     "model_module": "@jupyter-widgets/controls",
     "model_module_version": "1.5.0",
     "model_name": "IntProgressModel",
     "state": {
      "_dom_classes": [],
      "_model_module": "@jupyter-widgets/controls",
      "_model_module_version": "1.5.0",
      "_model_name": "IntProgressModel",
      "_view_count": null,
      "_view_module": "@jupyter-widgets/controls",
      "_view_module_version": "1.5.0",
      "_view_name": "ProgressView",
      "bar_style": "",
      "description": "Processing: ",
      "description_tooltip": null,
      "layout": "IPY_MODEL_1a1d108f1eb643358d27dde9a920e007",
      "max": 7,
      "min": 0,
      "orientation": "horizontal",
      "style": "IPY_MODEL_45cdb910877b41c7b069318a7707a262",
      "value": 7
     }
    },
    "1b119bcf96294fcfb3195b1b8776890f": {
     "model_module": "@jupyter-widgets/controls",
     "model_module_version": "1.5.0",
     "model_name": "ProgressStyleModel",
     "state": {
      "_model_module": "@jupyter-widgets/controls",
      "_model_module_version": "1.5.0",
      "_model_name": "ProgressStyleModel",
      "_view_count": null,
      "_view_module": "@jupyter-widgets/base",
      "_view_module_version": "1.2.0",
      "_view_name": "StyleView",
      "bar_color": null,
      "description_width": ""
     }
    },
    "1c34407c15a045b2924b8b7eaabea3b8": {
     "model_module": "@jupyter-widgets/controls",
     "model_module_version": "1.5.0",
     "model_name": "ProgressStyleModel",
     "state": {
      "_model_module": "@jupyter-widgets/controls",
      "_model_module_version": "1.5.0",
      "_model_name": "ProgressStyleModel",
      "_view_count": null,
      "_view_module": "@jupyter-widgets/base",
      "_view_module_version": "1.2.0",
      "_view_name": "StyleView",
      "bar_color": null,
      "description_width": ""
     }
    },
    "2f69e6eae486440eb34e1524f68c04ac": {
     "model_module": "@jupyter-widgets/controls",
     "model_module_version": "1.5.0",
     "model_name": "ToggleButtonsStyleModel",
     "state": {
      "_model_module": "@jupyter-widgets/controls",
      "_model_module_version": "1.5.0",
      "_model_name": "ToggleButtonsStyleModel",
      "_view_count": null,
      "_view_module": "@jupyter-widgets/base",
      "_view_module_version": "1.2.0",
      "_view_name": "StyleView",
      "button_width": "",
      "description_width": "",
      "font_weight": ""
     }
    },
    "3628c901dd8e478cbbe9e2553c3acbe0": {
     "model_module": "@jupyter-widgets/controls",
     "model_module_version": "1.5.0",
     "model_name": "ProgressStyleModel",
     "state": {
      "_model_module": "@jupyter-widgets/controls",
      "_model_module_version": "1.5.0",
      "_model_name": "ProgressStyleModel",
      "_view_count": null,
      "_view_module": "@jupyter-widgets/base",
      "_view_module_version": "1.2.0",
      "_view_name": "StyleView",
      "bar_color": null,
      "description_width": ""
     }
    },
    "391bad2c7ad247d9a697267a5f62874e": {
     "model_module": "@jupyter-widgets/controls",
     "model_module_version": "1.5.0",
     "model_name": "IntProgressModel",
     "state": {
      "_dom_classes": [],
      "_model_module": "@jupyter-widgets/controls",
      "_model_module_version": "1.5.0",
      "_model_name": "IntProgressModel",
      "_view_count": null,
      "_view_module": "@jupyter-widgets/controls",
      "_view_module_version": "1.5.0",
      "_view_name": "ProgressView",
      "bar_style": "",
      "description": "Processing: ",
      "description_tooltip": null,
      "layout": "IPY_MODEL_4cab4024876a42d398399be23a7c7084",
      "max": 5,
      "min": 0,
      "orientation": "horizontal",
      "style": "IPY_MODEL_43edac9c3c834777b97172fffdef7aa6",
      "value": 4
     }
    },
    "43edac9c3c834777b97172fffdef7aa6": {
     "model_module": "@jupyter-widgets/controls",
     "model_module_version": "1.5.0",
     "model_name": "ProgressStyleModel",
     "state": {
      "_model_module": "@jupyter-widgets/controls",
      "_model_module_version": "1.5.0",
      "_model_name": "ProgressStyleModel",
      "_view_count": null,
      "_view_module": "@jupyter-widgets/base",
      "_view_module_version": "1.2.0",
      "_view_name": "StyleView",
      "bar_color": null,
      "description_width": ""
     }
    },
    "45cdb910877b41c7b069318a7707a262": {
     "model_module": "@jupyter-widgets/controls",
     "model_module_version": "1.5.0",
     "model_name": "ProgressStyleModel",
     "state": {
      "_model_module": "@jupyter-widgets/controls",
      "_model_module_version": "1.5.0",
      "_model_name": "ProgressStyleModel",
      "_view_count": null,
      "_view_module": "@jupyter-widgets/base",
      "_view_module_version": "1.2.0",
      "_view_name": "StyleView",
      "bar_color": null,
      "description_width": ""
     }
    },
    "4cab4024876a42d398399be23a7c7084": {
     "model_module": "@jupyter-widgets/base",
     "model_module_version": "1.2.0",
     "model_name": "LayoutModel",
     "state": {
      "_model_module": "@jupyter-widgets/base",
      "_model_module_version": "1.2.0",
      "_model_name": "LayoutModel",
      "_view_count": null,
      "_view_module": "@jupyter-widgets/base",
      "_view_module_version": "1.2.0",
      "_view_name": "LayoutView",
      "align_content": null,
      "align_items": null,
      "align_self": null,
      "border": null,
      "bottom": null,
      "display": null,
      "flex": null,
      "flex_flow": null,
      "grid_area": null,
      "grid_auto_columns": null,
      "grid_auto_flow": null,
      "grid_auto_rows": null,
      "grid_column": null,
      "grid_gap": null,
      "grid_row": null,
      "grid_template_areas": null,
      "grid_template_columns": null,
      "grid_template_rows": null,
      "height": null,
      "justify_content": null,
      "justify_items": null,
      "left": null,
      "margin": null,
      "max_height": null,
      "max_width": null,
      "min_height": null,
      "min_width": null,
      "object_fit": null,
      "object_position": null,
      "order": null,
      "overflow": null,
      "overflow_x": null,
      "overflow_y": null,
      "padding": null,
      "right": null,
      "top": null,
      "visibility": null,
      "width": null
     }
    },
    "4ded714c033e4a6a9592a6af6006323b": {
     "model_module": "@jupyter-widgets/base",
     "model_module_version": "1.2.0",
     "model_name": "LayoutModel",
     "state": {
      "_model_module": "@jupyter-widgets/base",
      "_model_module_version": "1.2.0",
      "_model_name": "LayoutModel",
      "_view_count": null,
      "_view_module": "@jupyter-widgets/base",
      "_view_module_version": "1.2.0",
      "_view_name": "LayoutView",
      "align_content": null,
      "align_items": null,
      "align_self": null,
      "border": null,
      "bottom": null,
      "display": null,
      "flex": null,
      "flex_flow": null,
      "grid_area": null,
      "grid_auto_columns": null,
      "grid_auto_flow": null,
      "grid_auto_rows": null,
      "grid_column": null,
      "grid_gap": null,
      "grid_row": null,
      "grid_template_areas": null,
      "grid_template_columns": null,
      "grid_template_rows": null,
      "height": null,
      "justify_content": null,
      "justify_items": null,
      "left": null,
      "margin": null,
      "max_height": null,
      "max_width": null,
      "min_height": null,
      "min_width": null,
      "object_fit": null,
      "object_position": null,
      "order": null,
      "overflow": null,
      "overflow_x": null,
      "overflow_y": null,
      "padding": null,
      "right": null,
      "top": null,
      "visibility": null,
      "width": null
     }
    },
    "537f4620f250428b9f6a8f288d5b3076": {
     "model_module": "@jupyter-widgets/base",
     "model_module_version": "1.2.0",
     "model_name": "LayoutModel",
     "state": {
      "_model_module": "@jupyter-widgets/base",
      "_model_module_version": "1.2.0",
      "_model_name": "LayoutModel",
      "_view_count": null,
      "_view_module": "@jupyter-widgets/base",
      "_view_module_version": "1.2.0",
      "_view_name": "LayoutView",
      "align_content": null,
      "align_items": null,
      "align_self": null,
      "border": null,
      "bottom": null,
      "display": null,
      "flex": null,
      "flex_flow": null,
      "grid_area": null,
      "grid_auto_columns": null,
      "grid_auto_flow": null,
      "grid_auto_rows": null,
      "grid_column": null,
      "grid_gap": null,
      "grid_row": null,
      "grid_template_areas": null,
      "grid_template_columns": null,
      "grid_template_rows": null,
      "height": null,
      "justify_content": null,
      "justify_items": null,
      "left": null,
      "margin": null,
      "max_height": null,
      "max_width": null,
      "min_height": null,
      "min_width": null,
      "object_fit": null,
      "object_position": null,
      "order": null,
      "overflow": null,
      "overflow_x": null,
      "overflow_y": null,
      "padding": null,
      "right": null,
      "top": null,
      "visibility": null,
      "width": null
     }
    },
    "5d5df60050f44aa1bebd9d33e299017e": {
     "model_module": "@jupyter-widgets/controls",
     "model_module_version": "1.5.0",
     "model_name": "IntProgressModel",
     "state": {
      "_dom_classes": [],
      "_model_module": "@jupyter-widgets/controls",
      "_model_module_version": "1.5.0",
      "_model_name": "IntProgressModel",
      "_view_count": null,
      "_view_module": "@jupyter-widgets/controls",
      "_view_module_version": "1.5.0",
      "_view_name": "ProgressView",
      "bar_style": "",
      "description": "Processing: ",
      "description_tooltip": null,
      "layout": "IPY_MODEL_eebd91c0a20d4e898ce699af0e365707",
      "max": 4,
      "min": 0,
      "orientation": "horizontal",
      "style": "IPY_MODEL_3628c901dd8e478cbbe9e2553c3acbe0",
      "value": 4
     }
    },
    "657274e1fb3241668c846828ff4e7fd3": {
     "model_module": "@jupyter-widgets/base",
     "model_module_version": "1.2.0",
     "model_name": "LayoutModel",
     "state": {
      "_model_module": "@jupyter-widgets/base",
      "_model_module_version": "1.2.0",
      "_model_name": "LayoutModel",
      "_view_count": null,
      "_view_module": "@jupyter-widgets/base",
      "_view_module_version": "1.2.0",
      "_view_name": "LayoutView",
      "align_content": null,
      "align_items": null,
      "align_self": null,
      "border": null,
      "bottom": null,
      "display": null,
      "flex": null,
      "flex_flow": null,
      "grid_area": null,
      "grid_auto_columns": null,
      "grid_auto_flow": null,
      "grid_auto_rows": null,
      "grid_column": null,
      "grid_gap": null,
      "grid_row": null,
      "grid_template_areas": null,
      "grid_template_columns": null,
      "grid_template_rows": null,
      "height": null,
      "justify_content": null,
      "justify_items": null,
      "left": null,
      "margin": null,
      "max_height": null,
      "max_width": null,
      "min_height": null,
      "min_width": null,
      "object_fit": null,
      "object_position": null,
      "order": null,
      "overflow": null,
      "overflow_x": null,
      "overflow_y": null,
      "padding": null,
      "right": null,
      "top": null,
      "visibility": null,
      "width": null
     }
    },
    "6699d4b26861457e83c19aecbd2bd3d0": {
     "model_module": "@jupyter-widgets/base",
     "model_module_version": "1.2.0",
     "model_name": "LayoutModel",
     "state": {
      "_model_module": "@jupyter-widgets/base",
      "_model_module_version": "1.2.0",
      "_model_name": "LayoutModel",
      "_view_count": null,
      "_view_module": "@jupyter-widgets/base",
      "_view_module_version": "1.2.0",
      "_view_name": "LayoutView",
      "align_content": null,
      "align_items": null,
      "align_self": null,
      "border": null,
      "bottom": null,
      "display": null,
      "flex": null,
      "flex_flow": null,
      "grid_area": null,
      "grid_auto_columns": null,
      "grid_auto_flow": null,
      "grid_auto_rows": null,
      "grid_column": null,
      "grid_gap": null,
      "grid_row": null,
      "grid_template_areas": null,
      "grid_template_columns": null,
      "grid_template_rows": null,
      "height": null,
      "justify_content": null,
      "justify_items": null,
      "left": null,
      "margin": null,
      "max_height": null,
      "max_width": null,
      "min_height": null,
      "min_width": null,
      "object_fit": null,
      "object_position": null,
      "order": null,
      "overflow": null,
      "overflow_x": null,
      "overflow_y": null,
      "padding": null,
      "right": null,
      "top": null,
      "visibility": null,
      "width": "100%"
     }
    },
    "69d67d2cf8dd4def8f6a9e0782e877e9": {
     "model_module": "@jupyter-widgets/base",
     "model_module_version": "1.2.0",
     "model_name": "LayoutModel",
     "state": {
      "_model_module": "@jupyter-widgets/base",
      "_model_module_version": "1.2.0",
      "_model_name": "LayoutModel",
      "_view_count": null,
      "_view_module": "@jupyter-widgets/base",
      "_view_module_version": "1.2.0",
      "_view_name": "LayoutView",
      "align_content": null,
      "align_items": null,
      "align_self": null,
      "border": null,
      "bottom": null,
      "display": null,
      "flex": null,
      "flex_flow": null,
      "grid_area": null,
      "grid_auto_columns": null,
      "grid_auto_flow": null,
      "grid_auto_rows": null,
      "grid_column": null,
      "grid_gap": null,
      "grid_row": null,
      "grid_template_areas": null,
      "grid_template_columns": null,
      "grid_template_rows": null,
      "height": null,
      "justify_content": null,
      "justify_items": null,
      "left": null,
      "margin": null,
      "max_height": null,
      "max_width": null,
      "min_height": null,
      "min_width": null,
      "object_fit": null,
      "object_position": null,
      "order": null,
      "overflow": null,
      "overflow_x": null,
      "overflow_y": null,
      "padding": null,
      "right": null,
      "top": null,
      "visibility": null,
      "width": null
     }
    },
    "6e5daeea722b4f0e951727abe045a70e": {
     "model_module": "@jupyter-widgets/controls",
     "model_module_version": "1.5.0",
     "model_name": "VBoxModel",
     "state": {
      "_dom_classes": [
       "widget-interact"
      ],
      "_model_module": "@jupyter-widgets/controls",
      "_model_module_version": "1.5.0",
      "_model_name": "VBoxModel",
      "_view_count": null,
      "_view_module": "@jupyter-widgets/controls",
      "_view_module_version": "1.5.0",
      "_view_name": "VBoxView",
      "box_style": "",
      "children": [
       "IPY_MODEL_bff67cb30540456c9c71b46ad69b6ebf",
       "IPY_MODEL_98d564c0b4a0496699e5a9f6bcd83ced"
      ],
      "layout": "IPY_MODEL_fec2077d6c2c4654af1d4784cff4e226"
     }
    },
    "74555ee2fb334b99a297bef2e5f353e3": {
     "model_module": "@jupyter-widgets/base",
     "model_module_version": "1.2.0",
     "model_name": "LayoutModel",
     "state": {
      "_model_module": "@jupyter-widgets/base",
      "_model_module_version": "1.2.0",
      "_model_name": "LayoutModel",
      "_view_count": null,
      "_view_module": "@jupyter-widgets/base",
      "_view_module_version": "1.2.0",
      "_view_name": "LayoutView",
      "align_content": null,
      "align_items": null,
      "align_self": null,
      "border": null,
      "bottom": null,
      "display": null,
      "flex": null,
      "flex_flow": null,
      "grid_area": null,
      "grid_auto_columns": null,
      "grid_auto_flow": null,
      "grid_auto_rows": null,
      "grid_column": null,
      "grid_gap": null,
      "grid_row": null,
      "grid_template_areas": null,
      "grid_template_columns": null,
      "grid_template_rows": null,
      "height": null,
      "justify_content": null,
      "justify_items": null,
      "left": null,
      "margin": null,
      "max_height": null,
      "max_width": null,
      "min_height": null,
      "min_width": null,
      "object_fit": null,
      "object_position": null,
      "order": null,
      "overflow": null,
      "overflow_x": null,
      "overflow_y": null,
      "padding": null,
      "right": null,
      "top": null,
      "visibility": null,
      "width": null
     }
    },
    "7625618e9df34927992ec4467646eb68": {
     "model_module": "@jupyter-widgets/controls",
     "model_module_version": "1.5.0",
     "model_name": "DescriptionStyleModel",
     "state": {
      "_model_module": "@jupyter-widgets/controls",
      "_model_module_version": "1.5.0",
      "_model_name": "DescriptionStyleModel",
      "_view_count": null,
      "_view_module": "@jupyter-widgets/base",
      "_view_module_version": "1.2.0",
      "_view_name": "StyleView",
      "description_width": ""
     }
    },
    "7d633a6903084fa0b2cb9b7aa56cf038": {
     "model_module": "@jupyter-widgets/controls",
     "model_module_version": "1.5.0",
     "model_name": "ProgressStyleModel",
     "state": {
      "_model_module": "@jupyter-widgets/controls",
      "_model_module_version": "1.5.0",
      "_model_name": "ProgressStyleModel",
      "_view_count": null,
      "_view_module": "@jupyter-widgets/base",
      "_view_module_version": "1.2.0",
      "_view_name": "StyleView",
      "bar_color": null,
      "description_width": ""
     }
    },
    "7ebade74c327458d97f3443eb2e82570": {
     "model_module": "@jupyter-widgets/controls",
     "model_module_version": "1.5.0",
     "model_name": "ProgressStyleModel",
     "state": {
      "_model_module": "@jupyter-widgets/controls",
      "_model_module_version": "1.5.0",
      "_model_name": "ProgressStyleModel",
      "_view_count": null,
      "_view_module": "@jupyter-widgets/base",
      "_view_module_version": "1.2.0",
      "_view_name": "StyleView",
      "bar_color": null,
      "description_width": ""
     }
    },
    "7f2382a0c1324ac888b274e7ec2e627b": {
     "model_module": "@jupyter-widgets/base",
     "model_module_version": "1.2.0",
     "model_name": "LayoutModel",
     "state": {
      "_model_module": "@jupyter-widgets/base",
      "_model_module_version": "1.2.0",
      "_model_name": "LayoutModel",
      "_view_count": null,
      "_view_module": "@jupyter-widgets/base",
      "_view_module_version": "1.2.0",
      "_view_name": "LayoutView",
      "align_content": null,
      "align_items": null,
      "align_self": null,
      "border": null,
      "bottom": null,
      "display": null,
      "flex": null,
      "flex_flow": null,
      "grid_area": null,
      "grid_auto_columns": null,
      "grid_auto_flow": null,
      "grid_auto_rows": null,
      "grid_column": null,
      "grid_gap": null,
      "grid_row": null,
      "grid_template_areas": null,
      "grid_template_columns": null,
      "grid_template_rows": null,
      "height": null,
      "justify_content": null,
      "justify_items": null,
      "left": null,
      "margin": null,
      "max_height": null,
      "max_width": null,
      "min_height": null,
      "min_width": null,
      "object_fit": null,
      "object_position": null,
      "order": null,
      "overflow": null,
      "overflow_x": null,
      "overflow_y": null,
      "padding": null,
      "right": null,
      "top": null,
      "visibility": null,
      "width": null
     }
    },
    "8299e97daf644f2983d81e950237e84e": {
     "model_module": "@jupyter-widgets/base",
     "model_module_version": "1.2.0",
     "model_name": "LayoutModel",
     "state": {
      "_model_module": "@jupyter-widgets/base",
      "_model_module_version": "1.2.0",
      "_model_name": "LayoutModel",
      "_view_count": null,
      "_view_module": "@jupyter-widgets/base",
      "_view_module_version": "1.2.0",
      "_view_name": "LayoutView",
      "align_content": null,
      "align_items": null,
      "align_self": null,
      "border": null,
      "bottom": null,
      "display": null,
      "flex": null,
      "flex_flow": null,
      "grid_area": null,
      "grid_auto_columns": null,
      "grid_auto_flow": null,
      "grid_auto_rows": null,
      "grid_column": null,
      "grid_gap": null,
      "grid_row": null,
      "grid_template_areas": null,
      "grid_template_columns": null,
      "grid_template_rows": null,
      "height": null,
      "justify_content": null,
      "justify_items": null,
      "left": null,
      "margin": null,
      "max_height": null,
      "max_width": null,
      "min_height": null,
      "min_width": null,
      "object_fit": null,
      "object_position": null,
      "order": null,
      "overflow": null,
      "overflow_x": null,
      "overflow_y": null,
      "padding": null,
      "right": null,
      "top": null,
      "visibility": null,
      "width": null
     }
    },
    "85dd3bbbf25a471796088ec714c7a8a2": {
     "model_module": "@jupyter-widgets/controls",
     "model_module_version": "1.5.0",
     "model_name": "ProgressStyleModel",
     "state": {
      "_model_module": "@jupyter-widgets/controls",
      "_model_module_version": "1.5.0",
      "_model_name": "ProgressStyleModel",
      "_view_count": null,
      "_view_module": "@jupyter-widgets/base",
      "_view_module_version": "1.2.0",
      "_view_name": "StyleView",
      "bar_color": null,
      "description_width": ""
     }
    },
    "8716ffab11fe4c35bd198b277e56c515": {
     "model_module": "@jupyter-widgets/controls",
     "model_module_version": "1.5.0",
     "model_name": "ProgressStyleModel",
     "state": {
      "_model_module": "@jupyter-widgets/controls",
      "_model_module_version": "1.5.0",
      "_model_name": "ProgressStyleModel",
      "_view_count": null,
      "_view_module": "@jupyter-widgets/base",
      "_view_module_version": "1.2.0",
      "_view_name": "StyleView",
      "bar_color": null,
      "description_width": ""
     }
    },
    "8bf4aef70b2841ca90c0927ed81c8d0f": {
     "model_module": "@jupyter-widgets/controls",
     "model_module_version": "1.5.0",
     "model_name": "IntProgressModel",
     "state": {
      "_dom_classes": [],
      "_model_module": "@jupyter-widgets/controls",
      "_model_module_version": "1.5.0",
      "_model_name": "IntProgressModel",
      "_view_count": null,
      "_view_module": "@jupyter-widgets/controls",
      "_view_module_version": "1.5.0",
      "_view_name": "ProgressView",
      "bar_style": "",
      "description": "Processing: ",
      "description_tooltip": null,
      "layout": "IPY_MODEL_4ded714c033e4a6a9592a6af6006323b",
      "max": 5,
      "min": 0,
      "orientation": "horizontal",
      "style": "IPY_MODEL_1c34407c15a045b2924b8b7eaabea3b8",
      "value": 4
     }
    },
    "8df9ed408a144922b0e0090be997965b": {
     "model_module": "@jupyter-widgets/controls",
     "model_module_version": "1.5.0",
     "model_name": "TextModel",
     "state": {
      "_dom_classes": [],
      "_model_module": "@jupyter-widgets/controls",
      "_model_module_version": "1.5.0",
      "_model_name": "TextModel",
      "_view_count": null,
      "_view_module": "@jupyter-widgets/controls",
      "_view_module_version": "1.5.0",
      "_view_name": "TextView",
      "continuous_update": true,
      "description": "",
      "description_tooltip": null,
      "disabled": false,
      "layout": "IPY_MODEL_6699d4b26861457e83c19aecbd2bd3d0",
      "placeholder": "​",
      "style": "IPY_MODEL_7625618e9df34927992ec4467646eb68",
      "value": "Following data types have been inferred automatically, if they are correct press enter to continue or type 'quit' otherwise."
     }
    },
    "98d564c0b4a0496699e5a9f6bcd83ced": {
     "model_module": "@jupyter-widgets/output",
     "model_module_version": "1.0.0",
     "model_name": "OutputModel",
     "state": {
      "_dom_classes": [],
      "_model_module": "@jupyter-widgets/output",
      "_model_module_version": "1.0.0",
      "_model_name": "OutputModel",
      "_view_count": null,
      "_view_module": "@jupyter-widgets/output",
      "_view_module_version": "1.0.0",
      "_view_name": "OutputView",
      "layout": "IPY_MODEL_156ef3f1759e4d91b0dc97a24b5ae25b",
      "msg_id": "",
      "outputs": [
       {
        "data": {
         "image/png": "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\n",
         "text/plain": "<Figure size 1000x600 with 1 Axes>"
        },
        "metadata": {},
        "output_type": "display_data"
       },
       {
        "name": "stderr",
        "output_type": "stream",
        "text": [
         "INFO:logs:Visual Rendered Successfully\n"
        ]
       },
       {
        "name": "stderr",
        "output_type": "stream",
        "text": [
         "INFO:logs:plot_model() succesfully completed......................................\n"
        ]
       }
      ]
     }
    },
    "993d5959e71e4bc490b5f2b2c9300b7e": {
     "model_module": "@jupyter-widgets/base",
     "model_module_version": "1.2.0",
     "model_name": "LayoutModel",
     "state": {
      "_model_module": "@jupyter-widgets/base",
      "_model_module_version": "1.2.0",
      "_model_name": "LayoutModel",
      "_view_count": null,
      "_view_module": "@jupyter-widgets/base",
      "_view_module_version": "1.2.0",
      "_view_name": "LayoutView",
      "align_content": null,
      "align_items": null,
      "align_self": null,
      "border": null,
      "bottom": null,
      "display": null,
      "flex": null,
      "flex_flow": null,
      "grid_area": null,
      "grid_auto_columns": null,
      "grid_auto_flow": null,
      "grid_auto_rows": null,
      "grid_column": null,
      "grid_gap": null,
      "grid_row": null,
      "grid_template_areas": null,
      "grid_template_columns": null,
      "grid_template_rows": null,
      "height": null,
      "justify_content": null,
      "justify_items": null,
      "left": null,
      "margin": null,
      "max_height": null,
      "max_width": null,
      "min_height": null,
      "min_width": null,
      "object_fit": null,
      "object_position": null,
      "order": null,
      "overflow": null,
      "overflow_x": null,
      "overflow_y": null,
      "padding": null,
      "right": null,
      "top": null,
      "visibility": null,
      "width": null
     }
    },
    "a6fde767cdc642c5a001689f980bce80": {
     "model_module": "@jupyter-widgets/controls",
     "model_module_version": "1.5.0",
     "model_name": "IntProgressModel",
     "state": {
      "_dom_classes": [],
      "_model_module": "@jupyter-widgets/controls",
      "_model_module_version": "1.5.0",
      "_model_name": "IntProgressModel",
      "_view_count": null,
      "_view_module": "@jupyter-widgets/controls",
      "_view_module_version": "1.5.0",
      "_view_name": "ProgressView",
      "bar_style": "",
      "description": "Processing: ",
      "description_tooltip": null,
      "layout": "IPY_MODEL_657274e1fb3241668c846828ff4e7fd3",
      "max": 3,
      "min": 0,
      "orientation": "horizontal",
      "style": "IPY_MODEL_7d633a6903084fa0b2cb9b7aa56cf038",
      "value": 3
     }
    },
    "a859dce174944a13a8bd9d59cd4399a3": {
     "model_module": "@jupyter-widgets/controls",
     "model_module_version": "1.5.0",
     "model_name": "ProgressStyleModel",
     "state": {
      "_model_module": "@jupyter-widgets/controls",
      "_model_module_version": "1.5.0",
      "_model_name": "ProgressStyleModel",
      "_view_count": null,
      "_view_module": "@jupyter-widgets/base",
      "_view_module_version": "1.2.0",
      "_view_name": "StyleView",
      "bar_color": null,
      "description_width": ""
     }
    },
    "a8d23b1a452e432f9bb5098362b483d3": {
     "model_module": "@jupyter-widgets/controls",
     "model_module_version": "1.5.0",
     "model_name": "IntProgressModel",
     "state": {
      "_dom_classes": [],
      "_model_module": "@jupyter-widgets/controls",
      "_model_module_version": "1.5.0",
      "_model_name": "IntProgressModel",
      "_view_count": null,
      "_view_module": "@jupyter-widgets/controls",
      "_view_module_version": "1.5.0",
      "_view_name": "ProgressView",
      "bar_style": "",
      "description": "Processing: ",
      "description_tooltip": null,
      "layout": "IPY_MODEL_537f4620f250428b9f6a8f288d5b3076",
      "max": 4,
      "min": 0,
      "orientation": "horizontal",
      "style": "IPY_MODEL_8716ffab11fe4c35bd198b277e56c515",
      "value": 4
     }
    },
    "ad0667fe5be04b7ca02b35c8e03054a3": {
     "model_module": "@jupyter-widgets/base",
     "model_module_version": "1.2.0",
     "model_name": "LayoutModel",
     "state": {
      "_model_module": "@jupyter-widgets/base",
      "_model_module_version": "1.2.0",
      "_model_name": "LayoutModel",
      "_view_count": null,
      "_view_module": "@jupyter-widgets/base",
      "_view_module_version": "1.2.0",
      "_view_name": "LayoutView",
      "align_content": null,
      "align_items": null,
      "align_self": null,
      "border": null,
      "bottom": null,
      "display": null,
      "flex": null,
      "flex_flow": null,
      "grid_area": null,
      "grid_auto_columns": null,
      "grid_auto_flow": null,
      "grid_auto_rows": null,
      "grid_column": null,
      "grid_gap": null,
      "grid_row": null,
      "grid_template_areas": null,
      "grid_template_columns": null,
      "grid_template_rows": null,
      "height": null,
      "justify_content": null,
      "justify_items": null,
      "left": null,
      "margin": null,
      "max_height": null,
      "max_width": null,
      "min_height": null,
      "min_width": null,
      "object_fit": null,
      "object_position": null,
      "order": null,
      "overflow": null,
      "overflow_x": null,
      "overflow_y": null,
      "padding": null,
      "right": null,
      "top": null,
      "visibility": null,
      "width": null
     }
    },
    "b0d92d2ba1e94795a06540d90ec50b04": {
     "model_module": "@jupyter-widgets/controls",
     "model_module_version": "1.5.0",
     "model_name": "ProgressStyleModel",
     "state": {
      "_model_module": "@jupyter-widgets/controls",
      "_model_module_version": "1.5.0",
      "_model_name": "ProgressStyleModel",
      "_view_count": null,
      "_view_module": "@jupyter-widgets/base",
      "_view_module_version": "1.2.0",
      "_view_name": "StyleView",
      "bar_color": null,
      "description_width": ""
     }
    },
    "b34ed4669f7d4e8498f2da1e51bb5db1": {
     "model_module": "@jupyter-widgets/controls",
     "model_module_version": "1.5.0",
     "model_name": "IntProgressModel",
     "state": {
      "_dom_classes": [],
      "_model_module": "@jupyter-widgets/controls",
      "_model_module_version": "1.5.0",
      "_model_name": "IntProgressModel",
      "_view_count": null,
      "_view_module": "@jupyter-widgets/controls",
      "_view_module_version": "1.5.0",
      "_view_name": "ProgressView",
      "bar_style": "",
      "description": "Processing: ",
      "description_tooltip": null,
      "layout": "IPY_MODEL_8299e97daf644f2983d81e950237e84e",
      "max": 74,
      "min": 0,
      "orientation": "horizontal",
      "style": "IPY_MODEL_07485999b14b4c77ac096773d926e13f",
      "value": 74
     }
    },
    "ba7c31ea44da44eca3b33ed390910a11": {
     "model_module": "@jupyter-widgets/controls",
     "model_module_version": "1.5.0",
     "model_name": "IntProgressModel",
     "state": {
      "_dom_classes": [],
      "_model_module": "@jupyter-widgets/controls",
      "_model_module_version": "1.5.0",
      "_model_name": "IntProgressModel",
      "_view_count": null,
      "_view_module": "@jupyter-widgets/controls",
      "_view_module_version": "1.5.0",
      "_view_name": "ProgressView",
      "bar_style": "",
      "description": "Processing: ",
      "description_tooltip": null,
      "layout": "IPY_MODEL_993d5959e71e4bc490b5f2b2c9300b7e",
      "max": 5,
      "min": 0,
      "orientation": "horizontal",
      "style": "IPY_MODEL_087beed804c9488ea07d6c23eab72a90",
      "value": 4
     }
    },
    "bff67cb30540456c9c71b46ad69b6ebf": {
     "model_module": "@jupyter-widgets/controls",
     "model_module_version": "1.5.0",
     "model_name": "ToggleButtonsModel",
     "state": {
      "_dom_classes": [],
      "_model_module": "@jupyter-widgets/controls",
      "_model_module_version": "1.5.0",
      "_model_name": "ToggleButtonsModel",
      "_options_labels": [
       "Hyperparameters",
       "AUC",
       "Confusion Matrix",
       "Threshold",
       "Precision Recall",
       "Prediction Error",
       "Class Report",
       "Feature Selection",
       "Learning Curve",
       "Manifold Learning",
       "Calibration Curve",
       "Validation Curve",
       "Dimensions",
       "Feature Importance",
       "Feature Importance (All)",
       "Decision Boundary",
       "Lift Chart",
       "Gain Chart",
       "Decision Tree",
       "KS Statistic Plot"
      ],
      "_view_count": null,
      "_view_module": "@jupyter-widgets/controls",
      "_view_module_version": "1.5.0",
      "_view_name": "ToggleButtonsView",
      "button_style": "",
      "description": "Plot Type:",
      "description_tooltip": null,
      "disabled": false,
      "icons": [
       ""
      ],
      "index": 16,
      "layout": "IPY_MODEL_d2d5b564ab8b436886c75191add0ea34",
      "style": "IPY_MODEL_2f69e6eae486440eb34e1524f68c04ac",
      "tooltips": []
     }
    },
    "c44f0aeb25af451b8ff8f71333be6395": {
     "model_module": "@jupyter-widgets/controls",
     "model_module_version": "1.5.0",
     "model_name": "IntProgressModel",
     "state": {
      "_dom_classes": [],
      "_model_module": "@jupyter-widgets/controls",
      "_model_module_version": "1.5.0",
      "_model_name": "IntProgressModel",
      "_view_count": null,
      "_view_module": "@jupyter-widgets/controls",
      "_view_module_version": "1.5.0",
      "_view_name": "ProgressView",
      "bar_style": "",
      "description": "Processing: ",
      "description_tooltip": null,
      "layout": "IPY_MODEL_ee3491331095496b91bf8cb1dc38f3e6",
      "max": 5,
      "min": 0,
      "orientation": "horizontal",
      "style": "IPY_MODEL_a859dce174944a13a8bd9d59cd4399a3",
      "value": 3
     }
    },
    "cb8071a2f7364563b429a91a5d4dceeb": {
     "model_module": "@jupyter-widgets/controls",
     "model_module_version": "1.5.0",
     "model_name": "IntProgressModel",
     "state": {
      "_dom_classes": [],
      "_model_module": "@jupyter-widgets/controls",
      "_model_module_version": "1.5.0",
      "_model_name": "IntProgressModel",
      "_view_count": null,
      "_view_module": "@jupyter-widgets/controls",
      "_view_module_version": "1.5.0",
      "_view_name": "ProgressView",
      "bar_style": "",
      "description": "Processing: ",
      "description_tooltip": null,
      "layout": "IPY_MODEL_04c5eddc33644920a8feb95617e386b7",
      "max": 5,
      "min": 0,
      "orientation": "horizontal",
      "style": "IPY_MODEL_7ebade74c327458d97f3443eb2e82570",
      "value": 4
     }
    },
    "ccf8fc399b574a85a3e2e3e5bcd256a7": {
     "model_module": "@jupyter-widgets/controls",
     "model_module_version": "1.5.0",
     "model_name": "IntProgressModel",
     "state": {
      "_dom_classes": [],
      "_model_module": "@jupyter-widgets/controls",
      "_model_module_version": "1.5.0",
      "_model_name": "IntProgressModel",
      "_view_count": null,
      "_view_module": "@jupyter-widgets/controls",
      "_view_module_version": "1.5.0",
      "_view_name": "ProgressView",
      "bar_style": "",
      "description": "Processing: ",
      "description_tooltip": null,
      "layout": "IPY_MODEL_eda2b3b2c71c4b6381e0990e6b689939",
      "max": 7,
      "min": 0,
      "orientation": "horizontal",
      "style": "IPY_MODEL_0f92a3018011489580421a64e641c634",
      "value": 7
     }
    },
    "d2d5b564ab8b436886c75191add0ea34": {
     "model_module": "@jupyter-widgets/base",
     "model_module_version": "1.2.0",
     "model_name": "LayoutModel",
     "state": {
      "_model_module": "@jupyter-widgets/base",
      "_model_module_version": "1.2.0",
      "_model_name": "LayoutModel",
      "_view_count": null,
      "_view_module": "@jupyter-widgets/base",
      "_view_module_version": "1.2.0",
      "_view_name": "LayoutView",
      "align_content": null,
      "align_items": null,
      "align_self": null,
      "border": null,
      "bottom": null,
      "display": null,
      "flex": null,
      "flex_flow": null,
      "grid_area": null,
      "grid_auto_columns": null,
      "grid_auto_flow": null,
      "grid_auto_rows": null,
      "grid_column": null,
      "grid_gap": null,
      "grid_row": null,
      "grid_template_areas": null,
      "grid_template_columns": null,
      "grid_template_rows": null,
      "height": null,
      "justify_content": null,
      "justify_items": null,
      "left": null,
      "margin": null,
      "max_height": null,
      "max_width": null,
      "min_height": null,
      "min_width": null,
      "object_fit": null,
      "object_position": null,
      "order": null,
      "overflow": null,
      "overflow_x": null,
      "overflow_y": null,
      "padding": null,
      "right": null,
      "top": null,
      "visibility": null,
      "width": null
     }
    },
    "eda2b3b2c71c4b6381e0990e6b689939": {
     "model_module": "@jupyter-widgets/base",
     "model_module_version": "1.2.0",
     "model_name": "LayoutModel",
     "state": {
      "_model_module": "@jupyter-widgets/base",
      "_model_module_version": "1.2.0",
      "_model_name": "LayoutModel",
      "_view_count": null,
      "_view_module": "@jupyter-widgets/base",
      "_view_module_version": "1.2.0",
      "_view_name": "LayoutView",
      "align_content": null,
      "align_items": null,
      "align_self": null,
      "border": null,
      "bottom": null,
      "display": null,
      "flex": null,
      "flex_flow": null,
      "grid_area": null,
      "grid_auto_columns": null,
      "grid_auto_flow": null,
      "grid_auto_rows": null,
      "grid_column": null,
      "grid_gap": null,
      "grid_row": null,
      "grid_template_areas": null,
      "grid_template_columns": null,
      "grid_template_rows": null,
      "height": null,
      "justify_content": null,
      "justify_items": null,
      "left": null,
      "margin": null,
      "max_height": null,
      "max_width": null,
      "min_height": null,
      "min_width": null,
      "object_fit": null,
      "object_position": null,
      "order": null,
      "overflow": null,
      "overflow_x": null,
      "overflow_y": null,
      "padding": null,
      "right": null,
      "top": null,
      "visibility": null,
      "width": null
     }
    },
    "ee3491331095496b91bf8cb1dc38f3e6": {
     "model_module": "@jupyter-widgets/base",
     "model_module_version": "1.2.0",
     "model_name": "LayoutModel",
     "state": {
      "_model_module": "@jupyter-widgets/base",
      "_model_module_version": "1.2.0",
      "_model_name": "LayoutModel",
      "_view_count": null,
      "_view_module": "@jupyter-widgets/base",
      "_view_module_version": "1.2.0",
      "_view_name": "LayoutView",
      "align_content": null,
      "align_items": null,
      "align_self": null,
      "border": null,
      "bottom": null,
      "display": null,
      "flex": null,
      "flex_flow": null,
      "grid_area": null,
      "grid_auto_columns": null,
      "grid_auto_flow": null,
      "grid_auto_rows": null,
      "grid_column": null,
      "grid_gap": null,
      "grid_row": null,
      "grid_template_areas": null,
      "grid_template_columns": null,
      "grid_template_rows": null,
      "height": null,
      "justify_content": null,
      "justify_items": null,
      "left": null,
      "margin": null,
      "max_height": null,
      "max_width": null,
      "min_height": null,
      "min_width": null,
      "object_fit": null,
      "object_position": null,
      "order": null,
      "overflow": null,
      "overflow_x": null,
      "overflow_y": null,
      "padding": null,
      "right": null,
      "top": null,
      "visibility": null,
      "width": null
     }
    },
    "eebd91c0a20d4e898ce699af0e365707": {
     "model_module": "@jupyter-widgets/base",
     "model_module_version": "1.2.0",
     "model_name": "LayoutModel",
     "state": {
      "_model_module": "@jupyter-widgets/base",
      "_model_module_version": "1.2.0",
      "_model_name": "LayoutModel",
      "_view_count": null,
      "_view_module": "@jupyter-widgets/base",
      "_view_module_version": "1.2.0",
      "_view_name": "LayoutView",
      "align_content": null,
      "align_items": null,
      "align_self": null,
      "border": null,
      "bottom": null,
      "display": null,
      "flex": null,
      "flex_flow": null,
      "grid_area": null,
      "grid_auto_columns": null,
      "grid_auto_flow": null,
      "grid_auto_rows": null,
      "grid_column": null,
      "grid_gap": null,
      "grid_row": null,
      "grid_template_areas": null,
      "grid_template_columns": null,
      "grid_template_rows": null,
      "height": null,
      "justify_content": null,
      "justify_items": null,
      "left": null,
      "margin": null,
      "max_height": null,
      "max_width": null,
      "min_height": null,
      "min_width": null,
      "object_fit": null,
      "object_position": null,
      "order": null,
      "overflow": null,
      "overflow_x": null,
      "overflow_y": null,
      "padding": null,
      "right": null,
      "top": null,
      "visibility": null,
      "width": null
     }
    },
    "f958bb4def9a477a82ba0384f1a9c0c5": {
     "model_module": "@jupyter-widgets/controls",
     "model_module_version": "1.5.0",
     "model_name": "IntProgressModel",
     "state": {
      "_dom_classes": [],
      "_model_module": "@jupyter-widgets/controls",
      "_model_module_version": "1.5.0",
      "_model_name": "IntProgressModel",
      "_view_count": null,
      "_view_module": "@jupyter-widgets/controls",
      "_view_module_version": "1.5.0",
      "_view_name": "ProgressView",
      "bar_style": "",
      "description": "Processing: ",
      "description_tooltip": null,
      "layout": "IPY_MODEL_7f2382a0c1324ac888b274e7ec2e627b",
      "max": 5,
      "min": 0,
      "orientation": "horizontal",
      "style": "IPY_MODEL_b0d92d2ba1e94795a06540d90ec50b04",
      "value": 5
     }
    },
    "fec2077d6c2c4654af1d4784cff4e226": {
     "model_module": "@jupyter-widgets/base",
     "model_module_version": "1.2.0",
     "model_name": "LayoutModel",
     "state": {
      "_model_module": "@jupyter-widgets/base",
      "_model_module_version": "1.2.0",
      "_model_name": "LayoutModel",
      "_view_count": null,
      "_view_module": "@jupyter-widgets/base",
      "_view_module_version": "1.2.0",
      "_view_name": "LayoutView",
      "align_content": null,
      "align_items": null,
      "align_self": null,
      "border": null,
      "bottom": null,
      "display": null,
      "flex": null,
      "flex_flow": null,
      "grid_area": null,
      "grid_auto_columns": null,
      "grid_auto_flow": null,
      "grid_auto_rows": null,
      "grid_column": null,
      "grid_gap": null,
      "grid_row": null,
      "grid_template_areas": null,
      "grid_template_columns": null,
      "grid_template_rows": null,
      "height": null,
      "justify_content": null,
      "justify_items": null,
      "left": null,
      "margin": null,
      "max_height": null,
      "max_width": null,
      "min_height": null,
      "min_width": null,
      "object_fit": null,
      "object_position": null,
      "order": null,
      "overflow": null,
      "overflow_x": null,
      "overflow_y": null,
      "padding": null,
      "right": null,
      "top": null,
      "visibility": null,
      "width": null
     }
    }
   }
  }
 },
 "nbformat": 4,
 "nbformat_minor": 1
}
