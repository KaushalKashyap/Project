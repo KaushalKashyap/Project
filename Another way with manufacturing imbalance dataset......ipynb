{
 "cells": [
  {
   "cell_type": "code",
   "execution_count": 1,
   "id": "5b121f20",
   "metadata": {},
   "outputs": [],
   "source": [
    "import os\n",
    "import numpy as np\n",
    "import pandas as pd\n",
    "import matplotlib.pyplot as plt\n",
    "%matplotlib inline\n",
    "import seaborn as sns\n",
    "sns.set()"
   ]
  },
  {
   "cell_type": "code",
   "execution_count": 2,
   "id": "13d1d3a5",
   "metadata": {},
   "outputs": [
    {
     "data": {
      "text/html": [
       "<div>\n",
       "<style scoped>\n",
       "    .dataframe tbody tr th:only-of-type {\n",
       "        vertical-align: middle;\n",
       "    }\n",
       "\n",
       "    .dataframe tbody tr th {\n",
       "        vertical-align: top;\n",
       "    }\n",
       "\n",
       "    .dataframe thead th {\n",
       "        text-align: right;\n",
       "    }\n",
       "</style>\n",
       "<table border=\"1\" class=\"dataframe\">\n",
       "  <thead>\n",
       "    <tr style=\"text-align: right;\">\n",
       "      <th></th>\n",
       "      <th>Time</th>\n",
       "      <th>0</th>\n",
       "      <th>1</th>\n",
       "      <th>2</th>\n",
       "      <th>3</th>\n",
       "      <th>4</th>\n",
       "      <th>5</th>\n",
       "      <th>6</th>\n",
       "      <th>7</th>\n",
       "      <th>8</th>\n",
       "      <th>...</th>\n",
       "      <th>581</th>\n",
       "      <th>582</th>\n",
       "      <th>583</th>\n",
       "      <th>584</th>\n",
       "      <th>585</th>\n",
       "      <th>586</th>\n",
       "      <th>587</th>\n",
       "      <th>588</th>\n",
       "      <th>589</th>\n",
       "      <th>Pass/Fail</th>\n",
       "    </tr>\n",
       "  </thead>\n",
       "  <tbody>\n",
       "    <tr>\n",
       "      <th>0</th>\n",
       "      <td>2008-07-19 11:55:00</td>\n",
       "      <td>3030.93</td>\n",
       "      <td>2564.00</td>\n",
       "      <td>2187.7333</td>\n",
       "      <td>1411.1265</td>\n",
       "      <td>1.3602</td>\n",
       "      <td>100.0</td>\n",
       "      <td>97.6133</td>\n",
       "      <td>0.1242</td>\n",
       "      <td>1.5005</td>\n",
       "      <td>...</td>\n",
       "      <td>NaN</td>\n",
       "      <td>0.5005</td>\n",
       "      <td>0.0118</td>\n",
       "      <td>0.0035</td>\n",
       "      <td>2.3630</td>\n",
       "      <td>NaN</td>\n",
       "      <td>NaN</td>\n",
       "      <td>NaN</td>\n",
       "      <td>NaN</td>\n",
       "      <td>-1</td>\n",
       "    </tr>\n",
       "    <tr>\n",
       "      <th>1</th>\n",
       "      <td>2008-07-19 12:32:00</td>\n",
       "      <td>3095.78</td>\n",
       "      <td>2465.14</td>\n",
       "      <td>2230.4222</td>\n",
       "      <td>1463.6606</td>\n",
       "      <td>0.8294</td>\n",
       "      <td>100.0</td>\n",
       "      <td>102.3433</td>\n",
       "      <td>0.1247</td>\n",
       "      <td>1.4966</td>\n",
       "      <td>...</td>\n",
       "      <td>208.2045</td>\n",
       "      <td>0.5019</td>\n",
       "      <td>0.0223</td>\n",
       "      <td>0.0055</td>\n",
       "      <td>4.4447</td>\n",
       "      <td>0.0096</td>\n",
       "      <td>0.0201</td>\n",
       "      <td>0.0060</td>\n",
       "      <td>208.2045</td>\n",
       "      <td>-1</td>\n",
       "    </tr>\n",
       "    <tr>\n",
       "      <th>2</th>\n",
       "      <td>2008-07-19 13:17:00</td>\n",
       "      <td>2932.61</td>\n",
       "      <td>2559.94</td>\n",
       "      <td>2186.4111</td>\n",
       "      <td>1698.0172</td>\n",
       "      <td>1.5102</td>\n",
       "      <td>100.0</td>\n",
       "      <td>95.4878</td>\n",
       "      <td>0.1241</td>\n",
       "      <td>1.4436</td>\n",
       "      <td>...</td>\n",
       "      <td>82.8602</td>\n",
       "      <td>0.4958</td>\n",
       "      <td>0.0157</td>\n",
       "      <td>0.0039</td>\n",
       "      <td>3.1745</td>\n",
       "      <td>0.0584</td>\n",
       "      <td>0.0484</td>\n",
       "      <td>0.0148</td>\n",
       "      <td>82.8602</td>\n",
       "      <td>1</td>\n",
       "    </tr>\n",
       "    <tr>\n",
       "      <th>3</th>\n",
       "      <td>2008-07-19 14:43:00</td>\n",
       "      <td>2988.72</td>\n",
       "      <td>2479.90</td>\n",
       "      <td>2199.0333</td>\n",
       "      <td>909.7926</td>\n",
       "      <td>1.3204</td>\n",
       "      <td>100.0</td>\n",
       "      <td>104.2367</td>\n",
       "      <td>0.1217</td>\n",
       "      <td>1.4882</td>\n",
       "      <td>...</td>\n",
       "      <td>73.8432</td>\n",
       "      <td>0.4990</td>\n",
       "      <td>0.0103</td>\n",
       "      <td>0.0025</td>\n",
       "      <td>2.0544</td>\n",
       "      <td>0.0202</td>\n",
       "      <td>0.0149</td>\n",
       "      <td>0.0044</td>\n",
       "      <td>73.8432</td>\n",
       "      <td>-1</td>\n",
       "    </tr>\n",
       "    <tr>\n",
       "      <th>4</th>\n",
       "      <td>2008-07-19 15:22:00</td>\n",
       "      <td>3032.24</td>\n",
       "      <td>2502.87</td>\n",
       "      <td>2233.3667</td>\n",
       "      <td>1326.5200</td>\n",
       "      <td>1.5334</td>\n",
       "      <td>100.0</td>\n",
       "      <td>100.3967</td>\n",
       "      <td>0.1235</td>\n",
       "      <td>1.5031</td>\n",
       "      <td>...</td>\n",
       "      <td>NaN</td>\n",
       "      <td>0.4800</td>\n",
       "      <td>0.4766</td>\n",
       "      <td>0.1045</td>\n",
       "      <td>99.3032</td>\n",
       "      <td>0.0202</td>\n",
       "      <td>0.0149</td>\n",
       "      <td>0.0044</td>\n",
       "      <td>73.8432</td>\n",
       "      <td>-1</td>\n",
       "    </tr>\n",
       "  </tbody>\n",
       "</table>\n",
       "<p>5 rows × 592 columns</p>\n",
       "</div>"
      ],
      "text/plain": [
       "                  Time        0        1          2          3       4      5  \\\n",
       "0  2008-07-19 11:55:00  3030.93  2564.00  2187.7333  1411.1265  1.3602  100.0   \n",
       "1  2008-07-19 12:32:00  3095.78  2465.14  2230.4222  1463.6606  0.8294  100.0   \n",
       "2  2008-07-19 13:17:00  2932.61  2559.94  2186.4111  1698.0172  1.5102  100.0   \n",
       "3  2008-07-19 14:43:00  2988.72  2479.90  2199.0333   909.7926  1.3204  100.0   \n",
       "4  2008-07-19 15:22:00  3032.24  2502.87  2233.3667  1326.5200  1.5334  100.0   \n",
       "\n",
       "          6       7       8  ...       581     582     583     584      585  \\\n",
       "0   97.6133  0.1242  1.5005  ...       NaN  0.5005  0.0118  0.0035   2.3630   \n",
       "1  102.3433  0.1247  1.4966  ...  208.2045  0.5019  0.0223  0.0055   4.4447   \n",
       "2   95.4878  0.1241  1.4436  ...   82.8602  0.4958  0.0157  0.0039   3.1745   \n",
       "3  104.2367  0.1217  1.4882  ...   73.8432  0.4990  0.0103  0.0025   2.0544   \n",
       "4  100.3967  0.1235  1.5031  ...       NaN  0.4800  0.4766  0.1045  99.3032   \n",
       "\n",
       "      586     587     588       589  Pass/Fail  \n",
       "0     NaN     NaN     NaN       NaN         -1  \n",
       "1  0.0096  0.0201  0.0060  208.2045         -1  \n",
       "2  0.0584  0.0484  0.0148   82.8602          1  \n",
       "3  0.0202  0.0149  0.0044   73.8432         -1  \n",
       "4  0.0202  0.0149  0.0044   73.8432         -1  \n",
       "\n",
       "[5 rows x 592 columns]"
      ]
     },
     "execution_count": 2,
     "metadata": {},
     "output_type": "execute_result"
    }
   ],
   "source": [
    "dataset=pd.read_csv('manufacturing dataset.csv')\n",
    "dataset.head()"
   ]
  },
  {
   "cell_type": "code",
   "execution_count": 3,
   "id": "52003ff0",
   "metadata": {},
   "outputs": [],
   "source": [
    "dataset.columns = 'features_'+dataset.columns"
   ]
  },
  {
   "cell_type": "code",
   "execution_count": 4,
   "id": "fbaa7473",
   "metadata": {},
   "outputs": [],
   "source": [
    "dataset.rename(columns = {'features_Time': 'Time'}, inplace=True)\n",
    "dataset.rename(columns = {'features_Pass/Fail': 'Pass_Fail'}, inplace=True)"
   ]
  },
  {
   "cell_type": "code",
   "execution_count": 5,
   "id": "1e5f99d4",
   "metadata": {},
   "outputs": [
    {
     "data": {
      "text/html": [
       "<div>\n",
       "<style scoped>\n",
       "    .dataframe tbody tr th:only-of-type {\n",
       "        vertical-align: middle;\n",
       "    }\n",
       "\n",
       "    .dataframe tbody tr th {\n",
       "        vertical-align: top;\n",
       "    }\n",
       "\n",
       "    .dataframe thead th {\n",
       "        text-align: right;\n",
       "    }\n",
       "</style>\n",
       "<table border=\"1\" class=\"dataframe\">\n",
       "  <thead>\n",
       "    <tr style=\"text-align: right;\">\n",
       "      <th></th>\n",
       "      <th>Time</th>\n",
       "      <th>features_0</th>\n",
       "      <th>features_1</th>\n",
       "      <th>features_2</th>\n",
       "      <th>features_3</th>\n",
       "      <th>features_4</th>\n",
       "      <th>features_5</th>\n",
       "      <th>features_6</th>\n",
       "      <th>features_7</th>\n",
       "      <th>features_8</th>\n",
       "      <th>...</th>\n",
       "      <th>features_581</th>\n",
       "      <th>features_582</th>\n",
       "      <th>features_583</th>\n",
       "      <th>features_584</th>\n",
       "      <th>features_585</th>\n",
       "      <th>features_586</th>\n",
       "      <th>features_587</th>\n",
       "      <th>features_588</th>\n",
       "      <th>features_589</th>\n",
       "      <th>Pass_Fail</th>\n",
       "    </tr>\n",
       "  </thead>\n",
       "  <tbody>\n",
       "    <tr>\n",
       "      <th>0</th>\n",
       "      <td>2008-07-19 11:55:00</td>\n",
       "      <td>3030.93</td>\n",
       "      <td>2564.00</td>\n",
       "      <td>2187.7333</td>\n",
       "      <td>1411.1265</td>\n",
       "      <td>1.3602</td>\n",
       "      <td>100.0</td>\n",
       "      <td>97.6133</td>\n",
       "      <td>0.1242</td>\n",
       "      <td>1.5005</td>\n",
       "      <td>...</td>\n",
       "      <td>NaN</td>\n",
       "      <td>0.5005</td>\n",
       "      <td>0.0118</td>\n",
       "      <td>0.0035</td>\n",
       "      <td>2.3630</td>\n",
       "      <td>NaN</td>\n",
       "      <td>NaN</td>\n",
       "      <td>NaN</td>\n",
       "      <td>NaN</td>\n",
       "      <td>-1</td>\n",
       "    </tr>\n",
       "    <tr>\n",
       "      <th>1</th>\n",
       "      <td>2008-07-19 12:32:00</td>\n",
       "      <td>3095.78</td>\n",
       "      <td>2465.14</td>\n",
       "      <td>2230.4222</td>\n",
       "      <td>1463.6606</td>\n",
       "      <td>0.8294</td>\n",
       "      <td>100.0</td>\n",
       "      <td>102.3433</td>\n",
       "      <td>0.1247</td>\n",
       "      <td>1.4966</td>\n",
       "      <td>...</td>\n",
       "      <td>208.2045</td>\n",
       "      <td>0.5019</td>\n",
       "      <td>0.0223</td>\n",
       "      <td>0.0055</td>\n",
       "      <td>4.4447</td>\n",
       "      <td>0.0096</td>\n",
       "      <td>0.0201</td>\n",
       "      <td>0.0060</td>\n",
       "      <td>208.2045</td>\n",
       "      <td>-1</td>\n",
       "    </tr>\n",
       "    <tr>\n",
       "      <th>2</th>\n",
       "      <td>2008-07-19 13:17:00</td>\n",
       "      <td>2932.61</td>\n",
       "      <td>2559.94</td>\n",
       "      <td>2186.4111</td>\n",
       "      <td>1698.0172</td>\n",
       "      <td>1.5102</td>\n",
       "      <td>100.0</td>\n",
       "      <td>95.4878</td>\n",
       "      <td>0.1241</td>\n",
       "      <td>1.4436</td>\n",
       "      <td>...</td>\n",
       "      <td>82.8602</td>\n",
       "      <td>0.4958</td>\n",
       "      <td>0.0157</td>\n",
       "      <td>0.0039</td>\n",
       "      <td>3.1745</td>\n",
       "      <td>0.0584</td>\n",
       "      <td>0.0484</td>\n",
       "      <td>0.0148</td>\n",
       "      <td>82.8602</td>\n",
       "      <td>1</td>\n",
       "    </tr>\n",
       "    <tr>\n",
       "      <th>3</th>\n",
       "      <td>2008-07-19 14:43:00</td>\n",
       "      <td>2988.72</td>\n",
       "      <td>2479.90</td>\n",
       "      <td>2199.0333</td>\n",
       "      <td>909.7926</td>\n",
       "      <td>1.3204</td>\n",
       "      <td>100.0</td>\n",
       "      <td>104.2367</td>\n",
       "      <td>0.1217</td>\n",
       "      <td>1.4882</td>\n",
       "      <td>...</td>\n",
       "      <td>73.8432</td>\n",
       "      <td>0.4990</td>\n",
       "      <td>0.0103</td>\n",
       "      <td>0.0025</td>\n",
       "      <td>2.0544</td>\n",
       "      <td>0.0202</td>\n",
       "      <td>0.0149</td>\n",
       "      <td>0.0044</td>\n",
       "      <td>73.8432</td>\n",
       "      <td>-1</td>\n",
       "    </tr>\n",
       "    <tr>\n",
       "      <th>4</th>\n",
       "      <td>2008-07-19 15:22:00</td>\n",
       "      <td>3032.24</td>\n",
       "      <td>2502.87</td>\n",
       "      <td>2233.3667</td>\n",
       "      <td>1326.5200</td>\n",
       "      <td>1.5334</td>\n",
       "      <td>100.0</td>\n",
       "      <td>100.3967</td>\n",
       "      <td>0.1235</td>\n",
       "      <td>1.5031</td>\n",
       "      <td>...</td>\n",
       "      <td>NaN</td>\n",
       "      <td>0.4800</td>\n",
       "      <td>0.4766</td>\n",
       "      <td>0.1045</td>\n",
       "      <td>99.3032</td>\n",
       "      <td>0.0202</td>\n",
       "      <td>0.0149</td>\n",
       "      <td>0.0044</td>\n",
       "      <td>73.8432</td>\n",
       "      <td>-1</td>\n",
       "    </tr>\n",
       "  </tbody>\n",
       "</table>\n",
       "<p>5 rows × 592 columns</p>\n",
       "</div>"
      ],
      "text/plain": [
       "                  Time  features_0  features_1  features_2  features_3  \\\n",
       "0  2008-07-19 11:55:00     3030.93     2564.00   2187.7333   1411.1265   \n",
       "1  2008-07-19 12:32:00     3095.78     2465.14   2230.4222   1463.6606   \n",
       "2  2008-07-19 13:17:00     2932.61     2559.94   2186.4111   1698.0172   \n",
       "3  2008-07-19 14:43:00     2988.72     2479.90   2199.0333    909.7926   \n",
       "4  2008-07-19 15:22:00     3032.24     2502.87   2233.3667   1326.5200   \n",
       "\n",
       "   features_4  features_5  features_6  features_7  features_8  ...  \\\n",
       "0      1.3602       100.0     97.6133      0.1242      1.5005  ...   \n",
       "1      0.8294       100.0    102.3433      0.1247      1.4966  ...   \n",
       "2      1.5102       100.0     95.4878      0.1241      1.4436  ...   \n",
       "3      1.3204       100.0    104.2367      0.1217      1.4882  ...   \n",
       "4      1.5334       100.0    100.3967      0.1235      1.5031  ...   \n",
       "\n",
       "   features_581  features_582  features_583  features_584  features_585  \\\n",
       "0           NaN        0.5005        0.0118        0.0035        2.3630   \n",
       "1      208.2045        0.5019        0.0223        0.0055        4.4447   \n",
       "2       82.8602        0.4958        0.0157        0.0039        3.1745   \n",
       "3       73.8432        0.4990        0.0103        0.0025        2.0544   \n",
       "4           NaN        0.4800        0.4766        0.1045       99.3032   \n",
       "\n",
       "   features_586  features_587  features_588  features_589  Pass_Fail  \n",
       "0           NaN           NaN           NaN           NaN         -1  \n",
       "1        0.0096        0.0201        0.0060      208.2045         -1  \n",
       "2        0.0584        0.0484        0.0148       82.8602          1  \n",
       "3        0.0202        0.0149        0.0044       73.8432         -1  \n",
       "4        0.0202        0.0149        0.0044       73.8432         -1  \n",
       "\n",
       "[5 rows x 592 columns]"
      ]
     },
     "execution_count": 5,
     "metadata": {},
     "output_type": "execute_result"
    }
   ],
   "source": [
    "dataset.head()"
   ]
  },
  {
   "cell_type": "code",
   "execution_count": 6,
   "id": "9a77d061",
   "metadata": {},
   "outputs": [
    {
     "data": {
      "text/plain": [
       "Time             0\n",
       "features_0       6\n",
       "features_1       7\n",
       "features_2      14\n",
       "features_3      14\n",
       "                ..\n",
       "features_586     1\n",
       "features_587     1\n",
       "features_588     1\n",
       "features_589     1\n",
       "Pass_Fail        0\n",
       "Length: 592, dtype: int64"
      ]
     },
     "execution_count": 6,
     "metadata": {},
     "output_type": "execute_result"
    }
   ],
   "source": [
    "dataset.isnull().sum()"
   ]
  },
  {
   "cell_type": "code",
   "execution_count": 7,
   "id": "15f46a40",
   "metadata": {},
   "outputs": [],
   "source": [
    "df = dataset.iloc[:,1:]\n",
    "df = df.apply(lambda x:x.fillna(0), axis=0)\n",
    "# axis=0 - row wise\n",
    "df2 = dataset.iloc[:,0]\n",
    "result = pd.concat([df, df2], axis=1).reindex(df.index)\n",
    "# axis=1"
   ]
  },
  {
   "cell_type": "code",
   "execution_count": 8,
   "id": "27df4543",
   "metadata": {},
   "outputs": [
    {
     "data": {
      "text/plain": [
       "features_0      False\n",
       "features_1      False\n",
       "features_2      False\n",
       "features_3      False\n",
       "features_4      False\n",
       "                ...  \n",
       "features_587    False\n",
       "features_588    False\n",
       "features_589    False\n",
       "Pass_Fail       False\n",
       "Time            False\n",
       "Length: 592, dtype: bool"
      ]
     },
     "execution_count": 8,
     "metadata": {},
     "output_type": "execute_result"
    }
   ],
   "source": [
    "result.isnull().any()"
   ]
  },
  {
   "cell_type": "code",
   "execution_count": 9,
   "id": "a3e8b481",
   "metadata": {},
   "outputs": [],
   "source": [
    "from datetime import datetime\n",
    "result['year'] = pd.DatetimeIndex(result['Time']).year\n",
    "result['month'] = pd.DatetimeIndex(result['Time']).month\n",
    "result['date'] = pd.DatetimeIndex(result['Time']).day\n",
    "result['week_day'] = pd.DatetimeIndex(result['Time']).weekday\n",
    "result['start_time'] = pd.DatetimeIndex(result['Time']).time\n",
    "result['hour'] = pd.DatetimeIndex(result['Time']).hour\n",
    "result['min'] = pd.DatetimeIndex(result['Time']).minute"
   ]
  },
  {
   "cell_type": "code",
   "execution_count": 10,
   "id": "b3f181db",
   "metadata": {},
   "outputs": [
    {
     "data": {
      "text/plain": [
       "<AxesSubplot:ylabel='Pass_Fail'>"
      ]
     },
     "execution_count": 10,
     "metadata": {},
     "output_type": "execute_result"
    },
    {
     "data": {
      "image/png": "[encoded data removed]",
      "text/plain": [
       "<Figure size 432x288 with 1 Axes>"
      ]
     },
     "metadata": {},
     "output_type": "display_data"
    }
   ],
   "source": [
    "result['Pass_Fail'].value_counts().plot.pie(autopct='%0.2f')"
   ]
  },
  {
   "cell_type": "code",
   "execution_count": 11,
   "id": "6962530d",
   "metadata": {},
   "outputs": [],
   "source": [
    "x= result.drop(['Pass_Fail','Time','year','start_time'], axis=1)\n",
    "y=result['Pass_Fail']"
   ]
  },
  {
   "cell_type": "code",
   "execution_count": 12,
   "id": "e447a3ed",
   "metadata": {},
   "outputs": [],
   "source": [
    "from sklearn.model_selection import train_test_split\n",
    "x_train,x_test,y_train,y_test=train_test_split(x,y,test_size=0.23, random_state=1)"
   ]
  },
  {
   "cell_type": "code",
   "execution_count": 13,
   "id": "9e1d956d",
   "metadata": {},
   "outputs": [
    {
     "data": {
      "text/plain": [
       "((1206, 595), (361, 595), (1206,), (361,))"
      ]
     },
     "execution_count": 13,
     "metadata": {},
     "output_type": "execute_result"
    }
   ],
   "source": [
    "x_train.shape,x_test.shape,y_train.shape,y_test.shape"
   ]
  },
  {
   "cell_type": "code",
   "execution_count": 14,
   "id": "8f0e8488",
   "metadata": {},
   "outputs": [
    {
     "data": {
      "text/plain": [
       "<AxesSubplot:ylabel='Pass_Fail'>"
      ]
     },
     "execution_count": 14,
     "metadata": {},
     "output_type": "execute_result"
    },
    {
     "data": {
      "image/png": "[encoded data removed]",
      "text/plain": [
       "<Figure size 432x288 with 1 Axes>"
      ]
     },
     "metadata": {},
     "output_type": "display_data"
    }
   ],
   "source": [
    "y_train.value_counts().plot.pie(autopct='%.2f')"
   ]
  },
  {
   "cell_type": "code",
   "execution_count": 15,
   "id": "22ff651e",
   "metadata": {},
   "outputs": [
    {
     "data": {
      "text/plain": [
       "-1    1127\n",
       " 1      79\n",
       "Name: Pass_Fail, dtype: int64"
      ]
     },
     "execution_count": 15,
     "metadata": {},
     "output_type": "execute_result"
    }
   ],
   "source": [
    "y_train.value_counts()"
   ]
  },
  {
   "cell_type": "markdown",
   "id": "759c6b13",
   "metadata": {},
   "source": [
    "# Now here our plan is to build model with/without class balancing."
   ]
  },
  {
   "cell_type": "code",
   "execution_count": 16,
   "id": "3a29cb24",
   "metadata": {},
   "outputs": [],
   "source": [
    "# class balancing"
   ]
  },
  {
   "cell_type": "code",
   "execution_count": 17,
   "id": "21b76c3b",
   "metadata": {},
   "outputs": [],
   "source": [
    "from imblearn.under_sampling import RandomUnderSampler"
   ]
  },
  {
   "cell_type": "code",
   "execution_count": 18,
   "id": "b9d3c8ff",
   "metadata": {},
   "outputs": [],
   "source": [
    "rus=RandomUnderSampler(sampling_strategy=1)"
   ]
  },
  {
   "cell_type": "code",
   "execution_count": 19,
   "id": "df605f00",
   "metadata": {},
   "outputs": [],
   "source": [
    "x_train_rus,y_train_rus=rus.fit_resample(x_train,y_train)"
   ]
  },
  {
   "cell_type": "code",
   "execution_count": 20,
   "id": "f4573228",
   "metadata": {},
   "outputs": [
    {
     "data": {
      "image/png": "[encoded data removed]",
      "text/plain": [
       "<Figure size 432x288 with 1 Axes>"
      ]
     },
     "metadata": {},
     "output_type": "display_data"
    }
   ],
   "source": [
    "ax=y_train_rus.value_counts().plot.pie(autopct='%.2f')\n",
    "a=ax.set_title(\"UnderSampling\")"
   ]
  },
  {
   "cell_type": "code",
   "execution_count": 21,
   "id": "39c62d13",
   "metadata": {},
   "outputs": [
    {
     "data": {
      "text/plain": [
       "-1    79\n",
       " 1    79\n",
       "Name: Pass_Fail, dtype: int64"
      ]
     },
     "execution_count": 21,
     "metadata": {},
     "output_type": "execute_result"
    }
   ],
   "source": [
    "y_train_rus.value_counts()"
   ]
  },
  {
   "cell_type": "code",
   "execution_count": 22,
   "id": "6db3d95f",
   "metadata": {},
   "outputs": [],
   "source": [
    "# Now go with Oversampling"
   ]
  },
  {
   "cell_type": "code",
   "execution_count": 23,
   "id": "be51b120",
   "metadata": {},
   "outputs": [],
   "source": [
    "from imblearn.over_sampling import RandomOverSampler"
   ]
  },
  {
   "cell_type": "code",
   "execution_count": 24,
   "id": "69e18101",
   "metadata": {},
   "outputs": [],
   "source": [
    "ros= RandomOverSampler(sampling_strategy='not majority') #String"
   ]
  },
  {
   "cell_type": "code",
   "execution_count": 25,
   "id": "a46365ce",
   "metadata": {},
   "outputs": [],
   "source": [
    "x_train_ros,y_train_ros=ros.fit_resample(x_train,y_train)"
   ]
  },
  {
   "cell_type": "code",
   "execution_count": 26,
   "id": "c8821073",
   "metadata": {},
   "outputs": [
    {
     "data": {
      "image/png": "[encoded data removed]",
      "text/plain": [
       "<Figure size 432x288 with 1 Axes>"
      ]
     },
     "metadata": {},
     "output_type": "display_data"
    }
   ],
   "source": [
    "af=y_train_ros.value_counts().plot.pie(autopct='%.2f')\n",
    "a= af.set_title('OverSampling')"
   ]
  },
  {
   "cell_type": "code",
   "execution_count": 27,
   "id": "c86caf6b",
   "metadata": {},
   "outputs": [
    {
     "data": {
      "text/plain": [
       "-1    1127\n",
       " 1    1127\n",
       "Name: Pass_Fail, dtype: int64"
      ]
     },
     "execution_count": 27,
     "metadata": {},
     "output_type": "execute_result"
    }
   ],
   "source": [
    "y_train_ros.value_counts()"
   ]
  },
  {
   "cell_type": "markdown",
   "id": "d3e325fe",
   "metadata": {},
   "source": [
    "# Now model building with/without class balancing"
   ]
  },
  {
   "cell_type": "code",
   "execution_count": 28,
   "id": "0133a55b",
   "metadata": {},
   "outputs": [
    {
     "data": {
      "text/html": [
       "<div>\n",
       "<style scoped>\n",
       "    .dataframe tbody tr th:only-of-type {\n",
       "        vertical-align: middle;\n",
       "    }\n",
       "\n",
       "    .dataframe tbody tr th {\n",
       "        vertical-align: top;\n",
       "    }\n",
       "\n",
       "    .dataframe thead th {\n",
       "        text-align: right;\n",
       "    }\n",
       "</style>\n",
       "<table border=\"1\" class=\"dataframe\">\n",
       "  <thead>\n",
       "    <tr style=\"text-align: right;\">\n",
       "      <th></th>\n",
       "      <th>Performance_metric_names</th>\n",
       "      <th>Performance_metric_values</th>\n",
       "    </tr>\n",
       "  </thead>\n",
       "  <tbody>\n",
       "    <tr>\n",
       "      <th>0</th>\n",
       "      <td>MCC_train</td>\n",
       "      <td>1.0</td>\n",
       "    </tr>\n",
       "    <tr>\n",
       "      <th>1</th>\n",
       "      <td>MCC_CV</td>\n",
       "      <td>0.0</td>\n",
       "    </tr>\n",
       "    <tr>\n",
       "      <th>2</th>\n",
       "      <td>MCC_test</td>\n",
       "      <td>0.0</td>\n",
       "    </tr>\n",
       "  </tbody>\n",
       "</table>\n",
       "</div>"
      ],
      "text/plain": [
       "  Performance_metric_names  Performance_metric_values\n",
       "0                MCC_train                        1.0\n",
       "1                   MCC_CV                        0.0\n",
       "2                 MCC_test                        0.0"
      ]
     },
     "execution_count": 28,
     "metadata": {},
     "output_type": "execute_result"
    }
   ],
   "source": [
    "# model building without class balancing\n",
    "from sklearn.ensemble import RandomForestClassifier\n",
    "\n",
    "rfmodel= RandomForestClassifier(random_state=42)\n",
    "rfmodel.fit(x_train,y_train)\n",
    "\n",
    "#training cross-validation Models\n",
    "from sklearn.metrics import make_scorer, recall_score, matthews_corrcoef\n",
    "from sklearn.model_selection import cross_validate\n",
    "\n",
    "model_cv= RandomForestClassifier(random_state=42)\n",
    "cv_scoring= {'MCC': make_scorer(matthews_corrcoef)}\n",
    "cv = cross_validate(model_cv, x_train,y_train,cv=5, scoring=cv_scoring)\n",
    "\n",
    "# apply the model to make prediction\n",
    "from sklearn.metrics import matthews_corrcoef\n",
    "y_train_pred= rfmodel.predict(x_train)\n",
    "y_test_pred= rfmodel.predict(x_test)\n",
    "\n",
    "mcc_train= matthews_corrcoef(y_train,y_train_pred)\n",
    "mcc_test= matthews_corrcoef(y_test, y_test_pred)\n",
    "mcc_cv= cv['test_MCC'].mean()\n",
    "\n",
    "#display model performance results\n",
    "df_labels= pd.Series(['MCC_train', 'MCC_CV', 'MCC_test'],name='Performance_metric_names')\n",
    "df_values= pd.Series([mcc_train,mcc_cv,mcc_test], name= 'Performance_metric_values')\n",
    "df1= pd.concat([df_labels,df_values], axis= 1)\n",
    "df1"
   ]
  },
  {
   "cell_type": "code",
   "execution_count": 29,
   "id": "7729bfb9",
   "metadata": {},
   "outputs": [
    {
     "data": {
      "text/html": [
       "<div>\n",
       "<style scoped>\n",
       "    .dataframe tbody tr th:only-of-type {\n",
       "        vertical-align: middle;\n",
       "    }\n",
       "\n",
       "    .dataframe tbody tr th {\n",
       "        vertical-align: top;\n",
       "    }\n",
       "\n",
       "    .dataframe thead th {\n",
       "        text-align: right;\n",
       "    }\n",
       "</style>\n",
       "<table border=\"1\" class=\"dataframe\">\n",
       "  <thead>\n",
       "    <tr style=\"text-align: right;\">\n",
       "      <th></th>\n",
       "      <th>Performance_metric_names</th>\n",
       "      <th>Performance_metric_values</th>\n",
       "    </tr>\n",
       "  </thead>\n",
       "  <tbody>\n",
       "    <tr>\n",
       "      <th>0</th>\n",
       "      <td>MCC_train</td>\n",
       "      <td>1.000000</td>\n",
       "    </tr>\n",
       "    <tr>\n",
       "      <th>1</th>\n",
       "      <td>MCC_CV</td>\n",
       "      <td>0.410047</td>\n",
       "    </tr>\n",
       "    <tr>\n",
       "      <th>2</th>\n",
       "      <td>MCC_test</td>\n",
       "      <td>0.193295</td>\n",
       "    </tr>\n",
       "  </tbody>\n",
       "</table>\n",
       "</div>"
      ],
      "text/plain": [
       "  Performance_metric_names  Performance_metric_values\n",
       "0                MCC_train                   1.000000\n",
       "1                   MCC_CV                   0.410047\n",
       "2                 MCC_test                   0.193295"
      ]
     },
     "execution_count": 29,
     "metadata": {},
     "output_type": "execute_result"
    }
   ],
   "source": [
    "# model building with undersampled data\n",
    "from sklearn.ensemble import RandomForestClassifier\n",
    "\n",
    "rfmodel= RandomForestClassifier(random_state=42)\n",
    "rfmodel.fit(x_train_rus,y_train_rus)\n",
    "\n",
    "#training cross-validation Models\n",
    "from sklearn.metrics import make_scorer, recall_score, matthews_corrcoef\n",
    "from sklearn.model_selection import cross_validate\n",
    "\n",
    "model_cv= RandomForestClassifier(random_state=42)\n",
    "cv_scoring= {'MCC': make_scorer(matthews_corrcoef)}\n",
    "cv = cross_validate(model_cv, x_train_rus,y_train_rus,cv=5, scoring=cv_scoring)\n",
    "\n",
    "# apply the model to make prediction\n",
    "from sklearn.metrics import matthews_corrcoef\n",
    "y_train_pred= rfmodel.predict(x_train_rus)\n",
    "y_test_pred= rfmodel.predict(x_test)\n",
    "\n",
    "mcc_train= matthews_corrcoef(y_train_rus,y_train_pred)\n",
    "mcc_test= matthews_corrcoef(y_test, y_test_pred)\n",
    "mcc_cv= cv['test_MCC'].mean()\n",
    "\n",
    "#display model performance results\n",
    "df_labels= pd.Series(['MCC_train', 'MCC_CV', 'MCC_test'],name='Performance_metric_names')\n",
    "df_values= pd.Series([mcc_train,mcc_cv,mcc_test], name= 'Performance_metric_values')\n",
    "df2= pd.concat([df_labels,df_values], axis= 1)\n",
    "df2"
   ]
  },
  {
   "cell_type": "code",
   "execution_count": 30,
   "id": "8ab6f884",
   "metadata": {},
   "outputs": [
    {
     "data": {
      "text/html": [
       "<div>\n",
       "<style scoped>\n",
       "    .dataframe tbody tr th:only-of-type {\n",
       "        vertical-align: middle;\n",
       "    }\n",
       "\n",
       "    .dataframe tbody tr th {\n",
       "        vertical-align: top;\n",
       "    }\n",
       "\n",
       "    .dataframe thead th {\n",
       "        text-align: right;\n",
       "    }\n",
       "</style>\n",
       "<table border=\"1\" class=\"dataframe\">\n",
       "  <thead>\n",
       "    <tr style=\"text-align: right;\">\n",
       "      <th></th>\n",
       "      <th>Performance_metric_names</th>\n",
       "      <th>Performance_metric_values</th>\n",
       "    </tr>\n",
       "  </thead>\n",
       "  <tbody>\n",
       "    <tr>\n",
       "      <th>0</th>\n",
       "      <td>MCC_train</td>\n",
       "      <td>1.0</td>\n",
       "    </tr>\n",
       "    <tr>\n",
       "      <th>1</th>\n",
       "      <td>MCC_CV</td>\n",
       "      <td>1.0</td>\n",
       "    </tr>\n",
       "    <tr>\n",
       "      <th>2</th>\n",
       "      <td>MCC_test</td>\n",
       "      <td>0.0</td>\n",
       "    </tr>\n",
       "  </tbody>\n",
       "</table>\n",
       "</div>"
      ],
      "text/plain": [
       "  Performance_metric_names  Performance_metric_values\n",
       "0                MCC_train                        1.0\n",
       "1                   MCC_CV                        1.0\n",
       "2                 MCC_test                        0.0"
      ]
     },
     "execution_count": 30,
     "metadata": {},
     "output_type": "execute_result"
    }
   ],
   "source": [
    "# model building with oversampled data\n",
    "from sklearn.ensemble import RandomForestClassifier\n",
    "\n",
    "rfmodel= RandomForestClassifier(random_state=42)\n",
    "rfmodel.fit(x_train_ros,y_train_ros)\n",
    "\n",
    "#training cross-validation Models\n",
    "from sklearn.metrics import make_scorer, recall_score, matthews_corrcoef\n",
    "from sklearn.model_selection import cross_validate\n",
    "\n",
    "model_cv= RandomForestClassifier(random_state=42)\n",
    "cv_scoring= {'MCC': make_scorer(matthews_corrcoef)}\n",
    "cv = cross_validate(model_cv, x_train_ros,y_train_ros,cv=5, scoring=cv_scoring)\n",
    "\n",
    "# apply the model to make prediction\n",
    "from sklearn.metrics import matthews_corrcoef\n",
    "y_train_pred= rfmodel.predict(x_train_ros)\n",
    "y_test_pred= rfmodel.predict(x_test)\n",
    "\n",
    "mcc_train= matthews_corrcoef(y_train_ros,y_train_pred)\n",
    "mcc_test= matthews_corrcoef(y_test, y_test_pred)\n",
    "mcc_cv= cv['test_MCC'].mean()\n",
    "\n",
    "#display model performance results\n",
    "df_labels= pd.Series(['MCC_train', 'MCC_CV', 'MCC_test'],name='Performance_metric_names')\n",
    "df_values= pd.Series([mcc_train,mcc_cv,mcc_test], name= 'Performance_metric_values')\n",
    "df3= pd.concat([df_labels,df_values], axis= 1)\n",
    "df3"
   ]
  },
  {
   "cell_type": "code",
   "execution_count": 31,
   "id": "f7621e3b",
   "metadata": {},
   "outputs": [
    {
     "data": {
      "text/html": [
       "<div>\n",
       "<style scoped>\n",
       "    .dataframe tbody tr th:only-of-type {\n",
       "        vertical-align: middle;\n",
       "    }\n",
       "\n",
       "    .dataframe tbody tr th {\n",
       "        vertical-align: top;\n",
       "    }\n",
       "\n",
       "    .dataframe thead th {\n",
       "        text-align: right;\n",
       "    }\n",
       "</style>\n",
       "<table border=\"1\" class=\"dataframe\">\n",
       "  <thead>\n",
       "    <tr style=\"text-align: right;\">\n",
       "      <th></th>\n",
       "      <th>Performance_metric_names</th>\n",
       "      <th>Performance_metric_values</th>\n",
       "    </tr>\n",
       "  </thead>\n",
       "  <tbody>\n",
       "    <tr>\n",
       "      <th>0</th>\n",
       "      <td>MCC_train</td>\n",
       "      <td>1.0</td>\n",
       "    </tr>\n",
       "    <tr>\n",
       "      <th>1</th>\n",
       "      <td>MCC_CV</td>\n",
       "      <td>0.0</td>\n",
       "    </tr>\n",
       "    <tr>\n",
       "      <th>2</th>\n",
       "      <td>MCC_test</td>\n",
       "      <td>0.0</td>\n",
       "    </tr>\n",
       "  </tbody>\n",
       "</table>\n",
       "</div>"
      ],
      "text/plain": [
       "  Performance_metric_names  Performance_metric_values\n",
       "0                MCC_train                        1.0\n",
       "1                   MCC_CV                        0.0\n",
       "2                 MCC_test                        0.0"
      ]
     },
     "execution_count": 31,
     "metadata": {},
     "output_type": "execute_result"
    }
   ],
   "source": [
    "# model building without class balancing\n",
    "from sklearn.ensemble import RandomForestClassifier\n",
    "\n",
    "rfmodel= RandomForestClassifier(random_state=42,class_weight='balanced')\n",
    "rfmodel.fit(x_train,y_train)\n",
    "\n",
    "#training cross-validation Models\n",
    "from sklearn.metrics import make_scorer, recall_score, matthews_corrcoef\n",
    "from sklearn.model_selection import cross_validate\n",
    "\n",
    "model_cv= RandomForestClassifier(random_state=42,class_weight='balanced')\n",
    "cv_scoring= {'MCC': make_scorer(matthews_corrcoef)}\n",
    "cv = cross_validate(model_cv, x_train,y_train,cv=5, scoring=cv_scoring)\n",
    "\n",
    "# apply the model to make prediction\n",
    "from sklearn.metrics import matthews_corrcoef\n",
    "y_train_pred= rfmodel.predict(x_train)\n",
    "y_test_pred= rfmodel.predict(x_test)\n",
    "\n",
    "mcc_train= matthews_corrcoef(y_train,y_train_pred)\n",
    "mcc_test= matthews_corrcoef(y_test, y_test_pred)\n",
    "mcc_cv= cv['test_MCC'].mean()\n",
    "\n",
    "#display model performance results\n",
    "df_labels= pd.Series(['MCC_train', 'MCC_CV', 'MCC_test'],name='Performance_metric_names')\n",
    "df_values= pd.Series([mcc_train,mcc_cv,mcc_test], name= 'Performance_metric_values')\n",
    "df4= pd.concat([df_labels,df_values], axis= 1)\n",
    "df4"
   ]
  },
  {
   "cell_type": "code",
   "execution_count": null,
   "id": "91434b6d",
   "metadata": {},
   "outputs": [],
   "source": []
  },
  {
   "cell_type": "code",
   "execution_count": null,
   "id": "4e019f68",
   "metadata": {},
   "outputs": [],
   "source": [
    "# Now try with another Dimension Reduction classifiers. bcz we are not able to find which feature is not significant and should\n",
    "# be removed"
   ]
  },
  {
   "cell_type": "code",
   "execution_count": null,
   "id": "f6d99c4e",
   "metadata": {},
   "outputs": [],
   "source": []
  },
  {
   "cell_type": "code",
   "execution_count": null,
   "id": "65d0cdef",
   "metadata": {},
   "outputs": [],
   "source": []
  },
  {
   "cell_type": "code",
   "execution_count": null,
   "id": "840eb7ff",
   "metadata": {},
   "outputs": [],
   "source": []
  },
  {
   "cell_type": "code",
   "execution_count": null,
   "id": "72faa6a5",
   "metadata": {},
   "outputs": [],
   "source": []
  }
 ],
 "metadata": {
  "kernelspec": {
   "display_name": "Python 3 (ipykernel)",
   "language": "python",
   "name": "python3"
  },
  "language_info": {
   "codemirror_mode": {
    "name": "ipython",
    "version": 3
   },
   "file_extension": ".py",
   "mimetype": "text/x-python",
   "name": "python",
   "nbconvert_exporter": "python",
   "pygments_lexer": "ipython3",
   "version": "3.9.12"
  }
 },
 "nbformat": 4,
 "nbformat_minor": 5
}
